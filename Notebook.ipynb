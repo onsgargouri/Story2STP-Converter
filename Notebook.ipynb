{
  "cells": [
    {
      "cell_type": "code",
      "execution_count": 1,
      "metadata": {
        "colab": {
          "base_uri": "https://localhost:8080/"
        },
        "id": "3aCT5ehoco4W",
        "outputId": "47ef115a-88d6-40c3-b1db-08b160907f19"
      },
      "outputs": [
        {
          "name": "stdout",
          "output_type": "stream",
          "text": [
            "Mounted at /content/gdrive\n"
          ]
        }
      ],
      "source": [
        "# Connecting  Google Colaboratory to Google Drive to access the necessary files\n",
        "from google.colab import drive\n",
        "drive.mount('/content/gdrive')"
      ]
    },
    {
      "cell_type": "code",
      "execution_count": 2,
      "metadata": {
        "id": "w4au7eXwSREA"
      },
      "outputs": [],
      "source": [
        "# Import the necessary libraries\n",
        "import pandas as pd\n",
        "import numpy as np\n",
        "import re\n",
        "import matplotlib.pyplot as plt\n",
        "%matplotlib inline\n",
        "import spacy\n",
        "import string\n",
        "from sklearn.model_selection import train_test_split\n",
        "import google.generativeai as genai\n",
        "import os\n",
        "from google.colab import userdata"
      ]
    },
    {
      "cell_type": "markdown",
      "metadata": {
        "id": "6EECuhCqx_iW"
      },
      "source": [
        "# User-Stories Data"
      ]
    },
    {
      "cell_type": "markdown",
      "metadata": {
        "id": "A6rJyTm3WxUH"
      },
      "source": [
        "### **Dataset Loading**\n"
      ]
    },
    {
      "cell_type": "code",
      "execution_count": 3,
      "metadata": {
        "id": "ScNg9Nk5ReUb"
      },
      "outputs": [],
      "source": [
        "# Read the dataset (CSV file) as a pandas Dataframe\n",
        "df = pd.read_csv(\"./gdrive/My Drive/PFE-Project/user-stories-data.csv\")"
      ]
    },
    {
      "cell_type": "markdown",
      "metadata": {
        "id": "aYVg8tlLV5Vz"
      },
      "source": [
        "### **Data Exploration**"
      ]
    },
    {
      "cell_type": "code",
      "execution_count": null,
      "metadata": {
        "colab": {
          "base_uri": "https://localhost:8080/",
          "height": 206
        },
        "id": "sEAsJNmrWgEG",
        "outputId": "5d164089-9cf1-4011-ee61-40e661fbb36d"
      },
      "outputs": [
        {
          "data": {
            "application/vnd.google.colaboratory.intrinsic+json": {
              "summary": "{\n  \"name\": \"df\",\n  \"rows\": 35,\n  \"fields\": [\n    {\n      \"column\": \"Issue Key\",\n      \"properties\": {\n        \"dtype\": \"string\",\n        \"num_unique_values\": 35,\n        \"samples\": [\n          \"CLM-13903\",\n          \"CLM-14923\",\n          \"CLM-13996\"\n        ],\n        \"semantic_type\": \"\",\n        \"description\": \"\"\n      }\n    },\n    {\n      \"column\": \"Summary\",\n      \"properties\": {\n        \"dtype\": \"string\",\n        \"num_unique_values\": 35,\n        \"samples\": [\n          \"Update TFSA Successor Holder Business Rule \\\"On Validate\\\" \",\n          \"DocuSign Envelope Forms Package - R7 (Preferred order of forms with Joint)\",\n          \"Update Associated Parties to include additional roles for co-holder\"\n        ],\n        \"semantic_type\": \"\",\n        \"description\": \"\"\n      }\n    },\n    {\n      \"column\": \"Priority Name\",\n      \"properties\": {\n        \"dtype\": \"category\",\n        \"num_unique_values\": 3,\n        \"samples\": [\n          \"Medium\",\n          \"Low\",\n          \"High\"\n        ],\n        \"semantic_type\": \"\",\n        \"description\": \"\"\n      }\n    },\n    {\n      \"column\": \"Priority ID\",\n      \"properties\": {\n        \"dtype\": \"number\",\n        \"std\": 0,\n        \"min\": 3,\n        \"max\": 5,\n        \"num_unique_values\": 3,\n        \"samples\": [\n          4,\n          5,\n          3\n        ],\n        \"semantic_type\": \"\",\n        \"description\": \"\"\n      }\n    },\n    {\n      \"column\": \"Description\",\n      \"properties\": {\n        \"dtype\": \"string\",\n        \"num_unique_values\": 35,\n        \"samples\": [\n          \"As an Advisor Team persona, I want the check on TFSA successor holder and marital status on Validate to be updated with the marital status change so that I am sure that the validation will remain to function correctly.  h3. Pre-Conditions:  # The user has selected \\u2018TFSA\\u2019 as an \\u2018Account Type\\u2019 # The user has clicked \\u2018Validate\\u2019  h3. Acceptance Criteria:  # Display the error message \\u201c_For a TFSA account, you have designated the client\\u2019s spouse as the successor holder however the marital status is not equal to \\u201cMarried\\u201d or \\u201cCommon Law\\u201d\\u201d_ on the UI when the does the following: ## The user has chosen any of the following values \\u2018Single\\u2019, \\u2018Separated\\u2019, \\u2018Widowed\\u2019 or \\u2018Divorced\\u2019 as the \\u2018Marital Status\\u2019 AND ## The user has selected \\u2018Yes' to the question \\u201c_Do you want to designate your spouse/common-law partner (CLP) as the \\u201cSuccessor Holder\\u201d?\\u201d_  h3. Post-Conditions:  N/A  {panel:bgColor=#deebff} Original user story [https://canaccordgenuity.atlassian.net/browse/CLM-6489|https://canaccordgenuity.atlassian.net/browse/CLM-6489|smart-link]  {panel}\",\n          \"*As an* Advisor Team, *I need* the system to generate the necessary forms and documents and to produce a Docusign Envelope with those items in the correct order for Release 7.0, *so that* the appropriate artifacts based on the client/accounts being opened is ready for sending to the client for electronic signature.  *Master Forms* [Spreadsheet|https://canaccord.sharepoint.com/:x:/r/teams/ProjectClientLifecycleManagementCanada/_layouts/15/Doc.aspx?sourcedoc=%7BC3D53A4A-0C0B-4364-AE12-6CD60B986562%7D&file=Master%20Form%20ID%20Mapping.xlsx&action=default&mobileredirect=true&cid=71904c26-8eb3-4966-a744-1072b4080832]  h3. Pre-Conditions  # User must have successfully completed *Capture KYC* stage. # Pega system must have successfully posted Capture KYC data via Post Client REST API and Client ID and Account Number(s) have been returned by the REST API.  {panel:bgColor=#deebff} This story includes changes for Joint Accounts {panel}  h3. Acceptance Criteria  # The Docusign Envelope must contain the following generated forms/documents, in the following order: ## New Client Application - Summary (FormID 1001E) ### 1 form generated for the Case <DE-001 : CaseIdentifier> ## New Client Application Form - Individual (FormID 1002E) ### 1 form generated for the Case <DE-001 : CaseIdentifier> ## {color:#ff5630}Account Agreement for Two Persons - With Right of Survivorship (FormID 1020E){color} ### {color:#ff5630}1 form generated for the Case <DE-001 : CaseIdentifier>,{color} {color:#ff5630}ONLY IF <DE-007 : ClientType> = Joint with Spouse{color} ## Self-Directed Retirement Savings Plan - Application (Form ID 1003E) ### 1 form generated for each +CAD+ RRSP account opened, if any ###  order by <DE-122 : AccountNumber> ## Self-Directed Retirement Income Fund - Application (Form ID 1014E) ### 1 form generated for each +CAD+RRIF account opened, if any ### order by <DE-122 : AccountNumber> ## Standing Payment Instructions - For Income Funds (Form ID 1015E) ### 1 form generated for each +CAD+RRIF account, where standing payment instructions were provided, if any ### order by <DE-122 : AccountNumber> ## Tax Free Savings Account - Application (FormID 1004E) ### 1 form generated for each TFSA account opened (any currency), if any ### order by <DE-122 : AccountNumber> ## Registered Plan Designation of Beneficiary - The Estate (Form 1011E) ### 1 form generated for the Case <DE-001 : CaseIdentifier>, +ONLY IF+: #### At least one TFSA account opened with no successor/holder and no named beneficiary, or #### At least one CAD RRSP account opened with no named beneficiary _(see Acceptance Criteria in_ [https://canaccordgenuity.atlassian.net/browse/CLM-4977|https://canaccordgenuity.atlassian.net/browse/CLM-4977|smart-link]_)_  ## Statement of Investment Selection (Form ID 3019E) - Envestnet ### Form imported from Envestnet(mandatory) ## Proposal (Form ID 3020E) - Envestnet ### Form imported from Envestnet (optional) ## Investment Policy Statement (Form ID 3022E) ### Form uploaded by Advisor(Optional) ### 1 Standardized Signature Page for uploaded IPS form by IA (From User Story: [https://canaccordgenuity.atlassian.net/browse/CLM-5590|https://canaccordgenuity.atlassian.net/browse/CLM-5590|smart-link]) ## Fee-Based Account Application (FormID 1013E) ### 1 form generated for the Case <DE-001 : CaseIdentifier>, +ONLY IF+: #### At least one account opened with Commission/Fee Type <DE-294 : FeeType> = \\u201cFee-Based\\u201d ## RC518 Declaration of Tax Residence for Individuals (FormID 2001E) ### 1 form generated for the Holder {color:#ff5630}<DE-059 : Role> = Holder{color} ### {color:#ff5630}1 form generated for the Co-Holder <DE-059 : Role> = Co-Holder, ONLY IF <DE-007 : ClientType> = Joint with Spouse{color} ### Remove and create split for Joint ## Account Transfer - Authorization (Form 1005E) ### 1 form generated for each account transfer initiated, if any ### order by <DE-122 : AccountNumber>, then by <DE-215 : CaseTransferId> ## Reg Plan Locked In Addenda\\u2026 (Forms 2003E - 20033E) ### 1 or more forms generated for each RRSP or RRIF account opened where <DE-372 : RegPlanType> = LIRA/LRSP, LIF or Prescribed RIF, AND the form is NOT restricted from digital signing      _(each Reg Plan Locked In Addenda user story describes if the form should be included in the DocuSign envelope or not)_ ### order by <DE-153 : GoverningLegislation>, then by <DE-122 : AccountNumber> ## EFT Bank Account Setup (Form ID 1006E) ### One form generated for multiple Banking institution information  ## EFT Recurring Event (Form ID 1007E) ### One form generated for each Recurring Event (Cash/Margin) initiated ## EFT Recurring PAC (Form ID 1008E) ### One form generated for each EFT Recurring Pre-authorized Contribution (TFSA/RRSP) ## Account Terms and Conditions Booklet (Form ID 3001E) ### 1 form generated for the Case <DE-001 : CaseIdentifier> # The same order above must be used to display these documents in the NCAF Summary \\u201cTable of Contents\\u201d in [https://canaccordgenuity.atlassian.net/browse/CLM-1130|https://canaccordgenuity.atlassian.net/browse/CLM-1130|smart-link]   h3. Post-Conditions  # The system will generate a Docusign Envelope for the Case comprised of the above forms/documents in the specified order.\",\n          \"*As an* Advisor Team persona, *I want* to have co-holder role in addition to the Holder role *so that* I would be able to input details for the co-holder.   h3. *Pre-Conditions*  # User is at Associated Parties tab  h3. *Acceptance Criteria*   # \\u2018Add Item\\u2019 button: ## When \\u2018Joint with Spouse\\u2019 is selected from [https://canaccordgenuity.atlassian.net/browse/CLM-13972|https://canaccordgenuity.atlassian.net/browse/CLM-13972|smart-link], the 'Add Item\\u2019 button must be enabled  until 2 associated parties have been added.   ### The user can add up to 2 associated parties (1 for Holder and 1 for Co-Holder). ### Once we have 2 associated parties added, disable the \\u2018Add Item\\u2019 button. ## When \\u2018Individual\\u2019 was selected as a client type, the \\u2018Add Item\\u2019 button must be disabled after a row has been added for associated parties as per current functionality.  # Role values from [https://canaccordgenuity.atlassian.net/browse/CLM-244|https://canaccordgenuity.atlassian.net/browse/CLM-244|smart-link] should be updated to add \\u2018Co-Holder\\u2019 as a value in addition to the current \\u2018Holder\\u2019 value. The new Role values would be updated to have the following values only and in the same order as shown below.  ## Holder ### All requirements from [https://canaccordgenuity.atlassian.net/browse/CLM-244|https://canaccordgenuity.atlassian.net/browse/CLM-244|smart-link] must remain unchanged.  ### This is a mandatory Role for both \\u2018Individual\\u2019 and \\u2018Joint with Spouse\\u2019 ## Co-Holder ### This value should be conditionally displayed if \\u2018Joint with Spouse' was selected from [https://canaccordgenuity.atlassian.net/browse/CLM-13972|https://canaccordgenuity.atlassian.net/browse/CLM-13972|smart-link].  ### All other requirements from [https://canaccordgenuity.atlassian.net/browse/CLM-244|https://canaccordgenuity.atlassian.net/browse/CLM-244|smart-link] must remain unchanged. This includes adding of the Title, First Name, Middle Initial and Last Name. ### This is a mandatory Role for \\u2018Joint with Spouse\\u2019 ### Refer to DE-059:Role  in the [Canaccord CLM Data Model|https://canaccord.sharepoint.com/:x:/r/teams/ProjectClientLifecycleManagementCanada/Shared%20Documents/Planning/Data/CLM%20Data%20Model%20v3.6.xlsx?d=w12e44a1d975c4349add072e6ff341b77&csf=1&web=1&e=ra4XQ2] for field data type and/or max field  ### Co-Holder associated party details will be displayed and ready for data capture when a Co-Holder Role has been added as per [https://canaccordgenuity.atlassian.net/browse/CLM-13998|https://canaccordgenuity.atlassian.net/browse/CLM-13998|smart-link]   h3. *Post-Conditions*  # [https://canaccordgenuity.atlassian.net/browse/CLM-13998|https://canaccordgenuity.atlassian.net/browse/CLM-13998|smart-link] for the Co-Holder details to be entered.   {panel:bgColor=#deebff} *Updated by Imee Marigza on 08Nov2023*  *Updated Acceptance Criteria based on developer\\u2019s recommendation:*  * \\u2018Add Item\\u2019 will be disabled and the 2 rows for Holder and Co-Holder Roles will be presented for user input.  * !image-20231108-233528.png|width=815,height=226! * When \\u2018Client Type\\u2019 value has been changed from \\u2018Joint with Spouse\\u2019 to \\u2018Individual\\u2019, the Co-Holder row will be wiped out and only \\u2018Holder\\u2019 row should remain.  {panel}\"\n        ],\n        \"semantic_type\": \"\",\n        \"description\": \"\"\n      }\n    }\n  ]\n}",
              "type": "dataframe",
              "variable_name": "df"
            },
            "text/html": [
              "\n",
              "  <div id=\"df-51625c5e-32c4-4a0c-abb1-e195b9ffb92a\" class=\"colab-df-container\">\n",
              "    <div>\n",
              "<style scoped>\n",
              "    .dataframe tbody tr th:only-of-type {\n",
              "        vertical-align: middle;\n",
              "    }\n",
              "\n",
              "    .dataframe tbody tr th {\n",
              "        vertical-align: top;\n",
              "    }\n",
              "\n",
              "    .dataframe thead th {\n",
              "        text-align: right;\n",
              "    }\n",
              "</style>\n",
              "<table border=\"1\" class=\"dataframe\">\n",
              "  <thead>\n",
              "    <tr style=\"text-align: right;\">\n",
              "      <th></th>\n",
              "      <th>Issue Key</th>\n",
              "      <th>Summary</th>\n",
              "      <th>Priority Name</th>\n",
              "      <th>Priority ID</th>\n",
              "      <th>Description</th>\n",
              "    </tr>\n",
              "  </thead>\n",
              "  <tbody>\n",
              "    <tr>\n",
              "      <th>0</th>\n",
              "      <td>CLM-16730</td>\n",
              "      <td>Update Compliance Tier 2 persona to include ac...</td>\n",
              "      <td>Medium</td>\n",
              "      <td>4</td>\n",
              "      <td>*As a*, Compliance Officer Tier 2, *I want to*...</td>\n",
              "    </tr>\n",
              "    <tr>\n",
              "      <th>1</th>\n",
              "      <td>CLM-16657</td>\n",
              "      <td>Update RC518 form title under table of content...</td>\n",
              "      <td>Medium</td>\n",
              "      <td>4</td>\n",
              "      <td>*As an* Advisor Team persona, *I want* to add ...</td>\n",
              "    </tr>\n",
              "    <tr>\n",
              "      <th>2</th>\n",
              "      <td>CLM-16542</td>\n",
              "      <td>Update Display Approval UI (Parent Case Review...</td>\n",
              "      <td>Medium</td>\n",
              "      <td>4</td>\n",
              "      <td>*As a*, Compliance Officer Tier 1, *I want* to...</td>\n",
              "    </tr>\n",
              "    <tr>\n",
              "      <th>3</th>\n",
              "      <td>CLM-16537</td>\n",
              "      <td>\"Download wet sign form\" email notification wi...</td>\n",
              "      <td>Medium</td>\n",
              "      <td>4</td>\n",
              "      <td>*As an* Advisor Team, *I want* to know when I ...</td>\n",
              "    </tr>\n",
              "    <tr>\n",
              "      <th>4</th>\n",
              "      <td>CLM-16536</td>\n",
              "      <td>Staging environment colour scheme identifier</td>\n",
              "      <td>Low</td>\n",
              "      <td>5</td>\n",
              "      <td>As an Advisor Team, I  need to be able to have...</td>\n",
              "    </tr>\n",
              "  </tbody>\n",
              "</table>\n",
              "</div>\n",
              "    <div class=\"colab-df-buttons\">\n",
              "\n",
              "  <div class=\"colab-df-container\">\n",
              "    <button class=\"colab-df-convert\" onclick=\"convertToInteractive('df-51625c5e-32c4-4a0c-abb1-e195b9ffb92a')\"\n",
              "            title=\"Convert this dataframe to an interactive table.\"\n",
              "            style=\"display:none;\">\n",
              "\n",
              "  <svg xmlns=\"http://www.w3.org/2000/svg\" height=\"24px\" viewBox=\"0 -960 960 960\">\n",
              "    <path d=\"M120-120v-720h720v720H120Zm60-500h600v-160H180v160Zm220 220h160v-160H400v160Zm0 220h160v-160H400v160ZM180-400h160v-160H180v160Zm440 0h160v-160H620v160ZM180-180h160v-160H180v160Zm440 0h160v-160H620v160Z\"/>\n",
              "  </svg>\n",
              "    </button>\n",
              "\n",
              "  <style>\n",
              "    .colab-df-container {\n",
              "      display:flex;\n",
              "      gap: 12px;\n",
              "    }\n",
              "\n",
              "    .colab-df-convert {\n",
              "      background-color: #E8F0FE;\n",
              "      border: none;\n",
              "      border-radius: 50%;\n",
              "      cursor: pointer;\n",
              "      display: none;\n",
              "      fill: #1967D2;\n",
              "      height: 32px;\n",
              "      padding: 0 0 0 0;\n",
              "      width: 32px;\n",
              "    }\n",
              "\n",
              "    .colab-df-convert:hover {\n",
              "      background-color: #E2EBFA;\n",
              "      box-shadow: 0px 1px 2px rgba(60, 64, 67, 0.3), 0px 1px 3px 1px rgba(60, 64, 67, 0.15);\n",
              "      fill: #174EA6;\n",
              "    }\n",
              "\n",
              "    .colab-df-buttons div {\n",
              "      margin-bottom: 4px;\n",
              "    }\n",
              "\n",
              "    [theme=dark] .colab-df-convert {\n",
              "      background-color: #3B4455;\n",
              "      fill: #D2E3FC;\n",
              "    }\n",
              "\n",
              "    [theme=dark] .colab-df-convert:hover {\n",
              "      background-color: #434B5C;\n",
              "      box-shadow: 0px 1px 3px 1px rgba(0, 0, 0, 0.15);\n",
              "      filter: drop-shadow(0px 1px 2px rgba(0, 0, 0, 0.3));\n",
              "      fill: #FFFFFF;\n",
              "    }\n",
              "  </style>\n",
              "\n",
              "    <script>\n",
              "      const buttonEl =\n",
              "        document.querySelector('#df-51625c5e-32c4-4a0c-abb1-e195b9ffb92a button.colab-df-convert');\n",
              "      buttonEl.style.display =\n",
              "        google.colab.kernel.accessAllowed ? 'block' : 'none';\n",
              "\n",
              "      async function convertToInteractive(key) {\n",
              "        const element = document.querySelector('#df-51625c5e-32c4-4a0c-abb1-e195b9ffb92a');\n",
              "        const dataTable =\n",
              "          await google.colab.kernel.invokeFunction('convertToInteractive',\n",
              "                                                    [key], {});\n",
              "        if (!dataTable) return;\n",
              "\n",
              "        const docLinkHtml = 'Like what you see? Visit the ' +\n",
              "          '<a target=\"_blank\" href=https://colab.research.google.com/notebooks/data_table.ipynb>data table notebook</a>'\n",
              "          + ' to learn more about interactive tables.';\n",
              "        element.innerHTML = '';\n",
              "        dataTable['output_type'] = 'display_data';\n",
              "        await google.colab.output.renderOutput(dataTable, element);\n",
              "        const docLink = document.createElement('div');\n",
              "        docLink.innerHTML = docLinkHtml;\n",
              "        element.appendChild(docLink);\n",
              "      }\n",
              "    </script>\n",
              "  </div>\n",
              "\n",
              "\n",
              "<div id=\"df-3a3be052-59b4-46a7-bef8-b99d4587dea7\">\n",
              "  <button class=\"colab-df-quickchart\" onclick=\"quickchart('df-3a3be052-59b4-46a7-bef8-b99d4587dea7')\"\n",
              "            title=\"Suggest charts\"\n",
              "            style=\"display:none;\">\n",
              "\n",
              "<svg xmlns=\"http://www.w3.org/2000/svg\" height=\"24px\"viewBox=\"0 0 24 24\"\n",
              "     width=\"24px\">\n",
              "    <g>\n",
              "        <path d=\"M19 3H5c-1.1 0-2 .9-2 2v14c0 1.1.9 2 2 2h14c1.1 0 2-.9 2-2V5c0-1.1-.9-2-2-2zM9 17H7v-7h2v7zm4 0h-2V7h2v10zm4 0h-2v-4h2v4z\"/>\n",
              "    </g>\n",
              "</svg>\n",
              "  </button>\n",
              "\n",
              "<style>\n",
              "  .colab-df-quickchart {\n",
              "      --bg-color: #E8F0FE;\n",
              "      --fill-color: #1967D2;\n",
              "      --hover-bg-color: #E2EBFA;\n",
              "      --hover-fill-color: #174EA6;\n",
              "      --disabled-fill-color: #AAA;\n",
              "      --disabled-bg-color: #DDD;\n",
              "  }\n",
              "\n",
              "  [theme=dark] .colab-df-quickchart {\n",
              "      --bg-color: #3B4455;\n",
              "      --fill-color: #D2E3FC;\n",
              "      --hover-bg-color: #434B5C;\n",
              "      --hover-fill-color: #FFFFFF;\n",
              "      --disabled-bg-color: #3B4455;\n",
              "      --disabled-fill-color: #666;\n",
              "  }\n",
              "\n",
              "  .colab-df-quickchart {\n",
              "    background-color: var(--bg-color);\n",
              "    border: none;\n",
              "    border-radius: 50%;\n",
              "    cursor: pointer;\n",
              "    display: none;\n",
              "    fill: var(--fill-color);\n",
              "    height: 32px;\n",
              "    padding: 0;\n",
              "    width: 32px;\n",
              "  }\n",
              "\n",
              "  .colab-df-quickchart:hover {\n",
              "    background-color: var(--hover-bg-color);\n",
              "    box-shadow: 0 1px 2px rgba(60, 64, 67, 0.3), 0 1px 3px 1px rgba(60, 64, 67, 0.15);\n",
              "    fill: var(--button-hover-fill-color);\n",
              "  }\n",
              "\n",
              "  .colab-df-quickchart-complete:disabled,\n",
              "  .colab-df-quickchart-complete:disabled:hover {\n",
              "    background-color: var(--disabled-bg-color);\n",
              "    fill: var(--disabled-fill-color);\n",
              "    box-shadow: none;\n",
              "  }\n",
              "\n",
              "  .colab-df-spinner {\n",
              "    border: 2px solid var(--fill-color);\n",
              "    border-color: transparent;\n",
              "    border-bottom-color: var(--fill-color);\n",
              "    animation:\n",
              "      spin 1s steps(1) infinite;\n",
              "  }\n",
              "\n",
              "  @keyframes spin {\n",
              "    0% {\n",
              "      border-color: transparent;\n",
              "      border-bottom-color: var(--fill-color);\n",
              "      border-left-color: var(--fill-color);\n",
              "    }\n",
              "    20% {\n",
              "      border-color: transparent;\n",
              "      border-left-color: var(--fill-color);\n",
              "      border-top-color: var(--fill-color);\n",
              "    }\n",
              "    30% {\n",
              "      border-color: transparent;\n",
              "      border-left-color: var(--fill-color);\n",
              "      border-top-color: var(--fill-color);\n",
              "      border-right-color: var(--fill-color);\n",
              "    }\n",
              "    40% {\n",
              "      border-color: transparent;\n",
              "      border-right-color: var(--fill-color);\n",
              "      border-top-color: var(--fill-color);\n",
              "    }\n",
              "    60% {\n",
              "      border-color: transparent;\n",
              "      border-right-color: var(--fill-color);\n",
              "    }\n",
              "    80% {\n",
              "      border-color: transparent;\n",
              "      border-right-color: var(--fill-color);\n",
              "      border-bottom-color: var(--fill-color);\n",
              "    }\n",
              "    90% {\n",
              "      border-color: transparent;\n",
              "      border-bottom-color: var(--fill-color);\n",
              "    }\n",
              "  }\n",
              "</style>\n",
              "\n",
              "  <script>\n",
              "    async function quickchart(key) {\n",
              "      const quickchartButtonEl =\n",
              "        document.querySelector('#' + key + ' button');\n",
              "      quickchartButtonEl.disabled = true;  // To prevent multiple clicks.\n",
              "      quickchartButtonEl.classList.add('colab-df-spinner');\n",
              "      try {\n",
              "        const charts = await google.colab.kernel.invokeFunction(\n",
              "            'suggestCharts', [key], {});\n",
              "      } catch (error) {\n",
              "        console.error('Error during call to suggestCharts:', error);\n",
              "      }\n",
              "      quickchartButtonEl.classList.remove('colab-df-spinner');\n",
              "      quickchartButtonEl.classList.add('colab-df-quickchart-complete');\n",
              "    }\n",
              "    (() => {\n",
              "      let quickchartButtonEl =\n",
              "        document.querySelector('#df-3a3be052-59b4-46a7-bef8-b99d4587dea7 button');\n",
              "      quickchartButtonEl.style.display =\n",
              "        google.colab.kernel.accessAllowed ? 'block' : 'none';\n",
              "    })();\n",
              "  </script>\n",
              "</div>\n",
              "\n",
              "    </div>\n",
              "  </div>\n"
            ],
            "text/plain": [
              "   Issue Key                                            Summary Priority Name  \\\n",
              "0  CLM-16730  Update Compliance Tier 2 persona to include ac...        Medium   \n",
              "1  CLM-16657  Update RC518 form title under table of content...        Medium   \n",
              "2  CLM-16542  Update Display Approval UI (Parent Case Review...        Medium   \n",
              "3  CLM-16537  \"Download wet sign form\" email notification wi...        Medium   \n",
              "4  CLM-16536       Staging environment colour scheme identifier           Low   \n",
              "\n",
              "   Priority ID                                        Description  \n",
              "0            4  *As a*, Compliance Officer Tier 2, *I want to*...  \n",
              "1            4  *As an* Advisor Team persona, *I want* to add ...  \n",
              "2            4  *As a*, Compliance Officer Tier 1, *I want* to...  \n",
              "3            4  *As an* Advisor Team, *I want* to know when I ...  \n",
              "4            5  As an Advisor Team, I  need to be able to have...  "
            ]
          },
          "execution_count": 4,
          "metadata": {},
          "output_type": "execute_result"
        }
      ],
      "source": [
        "# Display the first rows of the dataset\n",
        "df.head()"
      ]
    },
    {
      "cell_type": "code",
      "execution_count": null,
      "metadata": {
        "colab": {
          "base_uri": "https://localhost:8080/"
        },
        "id": "vQXR5D52RjFD",
        "outputId": "ffa1ed2c-40b0-4bc8-e74b-e8e356c42f82"
      },
      "outputs": [
        {
          "name": "stdout",
          "output_type": "stream",
          "text": [
            "This dataset has 35 rows (Instances) and 5 columns (Features)\n"
          ]
        }
      ],
      "source": [
        "# Display the shape of the DataFrame\n",
        "df.shape\n",
        "print(\"This dataset has\", df.shape[0],\"rows (Instances) and\",df.shape[1],\"columns (Features)\")"
      ]
    },
    {
      "cell_type": "code",
      "execution_count": null,
      "metadata": {
        "colab": {
          "base_uri": "https://localhost:8080/"
        },
        "id": "WGgVC3OJRjTv",
        "outputId": "b1c3d186-bd7e-4088-c913-8252a92c1bbe"
      },
      "outputs": [
        {
          "data": {
            "text/plain": [
              "Index(['Issue Key', 'Summary', 'Priority Name', 'Priority ID', 'Description'], dtype='object')"
            ]
          },
          "execution_count": 6,
          "metadata": {},
          "output_type": "execute_result"
        }
      ],
      "source": [
        "# Display the list of the column names\n",
        "df.columns"
      ]
    },
    {
      "cell_type": "code",
      "execution_count": null,
      "metadata": {
        "colab": {
          "base_uri": "https://localhost:8080/"
        },
        "id": "XkCeWjEgZVaC",
        "outputId": "85a19284-be46-4d68-88aa-bab1ae3cecd7"
      },
      "outputs": [
        {
          "data": {
            "text/plain": [
              "Issue Key        object\n",
              "Summary          object\n",
              "Priority Name    object\n",
              "Priority ID       int64\n",
              "Description      object\n",
              "dtype: object"
            ]
          },
          "execution_count": 8,
          "metadata": {},
          "output_type": "execute_result"
        }
      ],
      "source": [
        "# View data types of each column\n",
        "df.dtypes"
      ]
    },
    {
      "cell_type": "code",
      "execution_count": null,
      "metadata": {
        "colab": {
          "base_uri": "https://localhost:8080/"
        },
        "id": "WpPKHYUjXV5m",
        "outputId": "c885ba1b-2603-469e-fd19-888612a856bf"
      },
      "outputs": [
        {
          "data": {
            "text/plain": [
              "Issue Key        0\n",
              "Summary          0\n",
              "Priority Name    0\n",
              "Priority ID      0\n",
              "Description      0\n",
              "dtype: int64"
            ]
          },
          "execution_count": 7,
          "metadata": {},
          "output_type": "execute_result"
        }
      ],
      "source": [
        "# Check for missing values\n",
        "df.isnull().sum()"
      ]
    },
    {
      "cell_type": "markdown",
      "metadata": {
        "id": "M7n7b3LRelRf"
      },
      "source": [
        "=> This output shows that there are no missing values"
      ]
    },
    {
      "cell_type": "code",
      "execution_count": null,
      "metadata": {
        "colab": {
          "base_uri": "https://localhost:8080/"
        },
        "id": "eXcniCiu7Tvy",
        "outputId": "dbb11507-28be-4529-8bb2-e3fe50fd9987"
      },
      "outputs": [
        {
          "name": "stdout",
          "output_type": "stream",
          "text": [
            "Empty DataFrame\n",
            "Columns: [Issue Key, Summary, Priority Name, Priority ID, Description]\n",
            "Index: []\n"
          ]
        }
      ],
      "source": [
        "# Check for duplicates\n",
        "duplicates = df.duplicated()\n",
        "print(df[duplicates])"
      ]
    },
    {
      "cell_type": "markdown",
      "metadata": {
        "id": "Ffxq2IS8-r2G"
      },
      "source": [
        "=> the empty DataFrame confirms that there are no duplicate rows in our dataset"
      ]
    },
    {
      "cell_type": "markdown",
      "metadata": {
        "id": "S_OeKW5DW4sV"
      },
      "source": [
        "##### **Issue Key Column**\n"
      ]
    },
    {
      "cell_type": "code",
      "execution_count": null,
      "metadata": {
        "colab": {
          "base_uri": "https://localhost:8080/"
        },
        "id": "0ifqys-IXs9j",
        "outputId": "88a61a3d-200a-4740-fbf8-0461ac4dab36"
      },
      "outputs": [
        {
          "data": {
            "text/plain": [
              "array(['CLM-16730', 'CLM-16657', 'CLM-16542', 'CLM-16537', 'CLM-16536',\n",
              "       'CLM-16190', 'CLM-16189', 'CLM-15872', 'CLM-15621', 'CLM-15620',\n",
              "       'CLM-15619', 'CLM-15189', 'CLM-14974', 'CLM-14923', 'CLM-14602',\n",
              "       'CLM-14130', 'CLM-14052', 'CLM-14024', 'CLM-14023', 'CLM-14022',\n",
              "       'CLM-14011', 'CLM-14010', 'CLM-14006', 'CLM-13998', 'CLM-13996',\n",
              "       'CLM-13972', 'CLM-13903', 'CLM-13800', 'CLM-12927', 'CLM-12924',\n",
              "       'CLM-12009', 'CLM-10675', 'CLM-10177', 'CLM-9777', 'CLM-7690'],\n",
              "      dtype=object)"
            ]
          },
          "execution_count": 9,
          "metadata": {},
          "output_type": "execute_result"
        }
      ],
      "source": [
        "# Check Unique Values\n",
        "df['Issue Key'].unique()"
      ]
    },
    {
      "cell_type": "markdown",
      "metadata": {
        "id": "NMvM8tH_ZU3d"
      },
      "source": [
        "=> All issue keys are unique, since the number of unique issue keys matches the total number of rows in our dataset"
      ]
    },
    {
      "cell_type": "markdown",
      "metadata": {
        "id": "sLpQWOHo65r3"
      },
      "source": [
        "##### **Description Column**"
      ]
    },
    {
      "cell_type": "code",
      "execution_count": null,
      "metadata": {
        "colab": {
          "base_uri": "https://localhost:8080/"
        },
        "id": "TGrosfSWS_wL",
        "outputId": "5585d4cb-2986-413c-a60a-552505bb32b3"
      },
      "outputs": [
        {
          "data": {
            "text/plain": [
              "0    *As a*, Compliance Officer Tier 2, *I want to*...\n",
              "1    *As an* Advisor Team persona, *I want* to add ...\n",
              "2    *As a*, Compliance Officer Tier 1, *I want* to...\n",
              "3    *As an* Advisor Team, *I want* to know when I ...\n",
              "4    As an Advisor Team, I  need to be able to have...\n",
              "Name: Description, dtype: object"
            ]
          },
          "execution_count": 11,
          "metadata": {},
          "output_type": "execute_result"
        }
      ],
      "source": [
        "# Examine sample texts from the description column\n",
        "df[\"Description\"].head()"
      ]
    },
    {
      "cell_type": "code",
      "execution_count": null,
      "metadata": {
        "colab": {
          "base_uri": "https://localhost:8080/"
        },
        "id": "TafU88f_g91E",
        "outputId": "5878872b-b4c6-4e0e-f794-eb22468c934d"
      },
      "outputs": [
        {
          "data": {
            "text/plain": [
              "count      35.000000\n",
              "mean     2315.028571\n",
              "std      1442.106802\n",
              "min       527.000000\n",
              "25%      1228.000000\n",
              "50%      1734.000000\n",
              "75%      3291.000000\n",
              "max      5742.000000\n",
              "Name: Description, dtype: float64"
            ]
          },
          "execution_count": 22,
          "metadata": {},
          "output_type": "execute_result"
        }
      ],
      "source": [
        "# Calculate the length of each description\n",
        "description_lengths = df[\"Description\"].str.len()\n",
        "description_lengths.describe()"
      ]
    },
    {
      "cell_type": "markdown",
      "metadata": {
        "id": "rU4yzpPDii3f"
      },
      "source": [
        "- The average description length is 2315.029 characters\n",
        "- The standard deviation of description lengths is 1442.12 characters. This indicates that there is a relatively large variation in description lengths, with some descriptions being much shorter or longer than the average.\n",
        "- The shortest description is 527 characters long.\n",
        "- 75% of the descriptions are 3291 characters or shorter.\n",
        "- The longest description is 5742 characters long.\n",
        "\n",
        "**Based on these statistics, we can conclude that:**  \n",
        "The description lengths vary significantly, ranging from 527 to 5742 characters. This variation may be attributed to the inclusion of formatting elements such as hyperlinks. Therefore, further exploration is needed to confirm this hypothesis."
      ]
    },
    {
      "cell_type": "code",
      "execution_count": null,
      "metadata": {
        "colab": {
          "base_uri": "https://localhost:8080/",
          "height": 90
        },
        "id": "1P4KUCrUo9zD",
        "outputId": "309b5524-cca5-4f61-fb4e-1c0a0b8c9792"
      },
      "outputs": [
        {
          "data": {
            "application/vnd.google.colaboratory.intrinsic+json": {
              "type": "string"
            },
            "text/plain": [
              "'As an Advisor Team, I  need to be able to have a more visual indicator that I’m in the staging environment so that I don’t onboard real clients by mistake in staging.  h2. Pre-Conditions  # An SR case is in an editable or view-only screen, OR # An NC case is in an editable or view-only screen # User is in the staging environment (STG1)  h2. Acceptance Criteria  # The case summary panel heading with blue block displaying the Case ID and Case Name must have a red background colour: HEX: #FF00000  h2. Post-Conditions  # None'"
            ]
          },
          "execution_count": 39,
          "metadata": {},
          "output_type": "execute_result"
        }
      ],
      "source": [
        "# Display the description with the minimum length\n",
        "df[\"Description\"].iloc[df[df[\"Description\"].str.len() == 527].index[0]]"
      ]
    },
    {
      "cell_type": "markdown",
      "metadata": {
        "id": "owPK6kUra932"
      },
      "source": [
        "Based on these description, we can notice that the existance of various formatting elements:\n",
        "- **Headings :** `h2.` `h3.`   \n",
        "\n",
        "- **Hyperlinks :** `(https://...)`    \n",
        "\n",
        "- **Bold Text:** `*...*` : Text enclosed  between two asterisks (*)   \n",
        "  \n",
        "**Observation:** We can notice that these formatting elements bear similarities to Markdown; However, they follow to a different formatting language that is specific to Jira's text editor.\n",
        "\n",
        "This [documentation](https://jira.atlassian.com/secure/WikiRendererHelpAction.jspa?section=all) outlines additional formatting options available within Jira's environment, which may include but are not limited to:\n",
        "- **Block Quotation**: `bq.`\n",
        "- **Color**: `{color:red} ... {color}`\n",
        "- **Images**: `!image.gif|align=right, vspace=4!` or `!image.jpg|thumbnail!`\n",
        "- **Attachments**: `!media.wmv|id=media!`\n",
        "- **Panels**: `{panel} ... {panel}`\n",
        "- **Code**: `{code} ... {code}`                                                             \n",
        "=> Therefore, further examination of these Jira-specific formatting elements within our descriptions' text will provide deeper insight into the structure and content of the descriptions.\n",
        "\n"
      ]
    },
    {
      "cell_type": "code",
      "execution_count": 5,
      "metadata": {
        "id": "23j7FQiu23Q3"
      },
      "outputs": [],
      "source": [
        "# Function to check the number of rows containing a specific formatting element (within a specific column)\n",
        "def check_format(column,formatting_element,pattern):\n",
        "  if column.str.contains(pattern).sum()>0:\n",
        "    print( \"=> There are\",column.str.contains(pattern).sum(),column.name,\"containing\",formatting_element)\n"
      ]
    },
    {
      "cell_type": "code",
      "execution_count": 6,
      "metadata": {
        "colab": {
          "base_uri": "https://localhost:8080/"
        },
        "id": "_9NjzeyMwp15",
        "outputId": "e5b4a5f7-038e-4f81-8aee-31c3ac8e9fad"
      },
      "outputs": [
        {
          "name": "stdout",
          "output_type": "stream",
          "text": [
            "=> There are 29 Description containing headings formatting elements\n",
            "=> There are 30 Description containing hyperlinks\n",
            "=> There are 15 Description containing color formatting elements\n",
            "=> There are 6 Description containing Images\n",
            "=> There are 15 Description containing panels\n"
          ]
        }
      ],
      "source": [
        "# Check for the number of descriptions that contain specefic formatting element\n",
        "check_format(df[\"Description\"],\"headings formatting elements\",\"(?i)h\\d\\.\")\n",
        "check_format(df[\"Description\"],\"hyperlinks\",\"https://\")\n",
        "check_format(df[\"Description\"],\"block quotaion formatting elements\",\"bq.\")\n",
        "check_format(df[\"Description\"],\"color formatting elements\",\"{color}\")\n",
        "check_format(df[\"Description\"],\"Images\",\"!image\")\n",
        "check_format(df[\"Description\"],\"attachements\",\"!media\")\n",
        "check_format(df[\"Description\"],\"panels\",\"{panel}\")\n",
        "check_format(df[\"Description\"],\"code\",\"{code}\")\n",
        "check_format(df[\"Description\"],\"tables\",\"\\|\\|.*\\|\\|\")"
      ]
    },
    {
      "cell_type": "markdown",
      "metadata": {
        "id": "uqvVEn196P8U"
      },
      "source": [
        "\n",
        "Since these formatting elements may introduce noise, we will **remove them as part of the data cleaning process**."
      ]
    },
    {
      "cell_type": "code",
      "execution_count": null,
      "metadata": {
        "id": "fwv6GazHx2iD"
      },
      "outputs": [],
      "source": [
        "# Function to print the prints the top n-frequent strings that matches a specific pattern\n",
        "def frequent(texts, pattern, n=5):\n",
        "    all_text = \" \".join(texts)  # Combine all texts into a single string\n",
        "    matches = re.findall(pattern, all_text)      # Find all texts that matches the pattern\n",
        "    matches_counts = pd.Series(matches).value_counts()      # Count the occurrences\n",
        "    return matches_counts.head(n)"
      ]
    },
    {
      "cell_type": "markdown",
      "metadata": {
        "id": "3lrNUSkNxrF7"
      },
      "source": [
        "In written communication, titles are commonly used to emphasize important text."
      ]
    },
    {
      "cell_type": "code",
      "execution_count": null,
      "metadata": {
        "colab": {
          "base_uri": "https://localhost:8080/"
        },
        "id": "Cl3stk2VGNvS",
        "outputId": "8b7293f5-f02f-4924-f9dc-78617afbd14a"
      },
      "outputs": [
        {
          "name": "stdout",
          "output_type": "stream",
          "text": [
            "Top 5 Most Frequent Bold Texts:\n"
          ]
        },
        {
          "data": {
            "text/plain": [
              "so that    20\n",
              "I want     18\n",
              "As an      12\n",
              "            7\n",
              "As a        6\n",
              "dtype: int64"
            ]
          },
          "execution_count": 25,
          "metadata": {},
          "output_type": "execute_result"
        }
      ],
      "source": [
        "# Print the most frequent bold texts\n",
        "print(\"Top 5 Most Frequent Bold Texts:\")\n",
        "top_bold_texts= frequent(df[\"Description\"],\"\\*(.*?)\\*\")\n",
        "top_bold_texts"
      ]
    },
    {
      "cell_type": "code",
      "execution_count": null,
      "metadata": {
        "colab": {
          "base_uri": "https://localhost:8080/",
          "height": 607
        },
        "id": "XzjzWeBUgBh1",
        "outputId": "554a543a-2ff5-474b-ddf4-6417e6d46a08"
      },
      "outputs": [
        {
          "data": {
            "image/png": "[encoded data removed]",
            "text/plain": [
              "<Figure size 1000x600 with 1 Axes>"
            ]
          },
          "metadata": {},
          "output_type": "display_data"
        }
      ],
      "source": [
        "# Plot histogram of the top most frequent bold texts\n",
        "\n",
        "top_bold_texts.plot(kind='bar', color='orange' ,figsize=(10, 6))\n",
        "plt.title('Top 5 Most Frequent Bold Texts')\n",
        "plt.xlabel('Bold Text')\n",
        "plt.ylabel('Frequency')\n",
        "plt.xticks(rotation=20, ha='right')\n",
        "\n",
        "for i, freq in enumerate(top_bold_texts):\n",
        "    plt.text(i, freq + 0.1, str(freq), ha='center', va='bottom')\n",
        "\n",
        "plt.tight_layout()\n",
        "plt.show()"
      ]
    },
    {
      "cell_type": "markdown",
      "metadata": {
        "id": "6oON4RPp7-SF"
      },
      "source": [
        "\n",
        "=> Thus, these most frequent bold texts can give as an insight into the structure of the descriptions.\n",
        "\n",
        "The descriptions follow this format\n",
        "> **`As a [role], I want [feature], So that [reason]`**\n"
      ]
    },
    {
      "cell_type": "code",
      "execution_count": null,
      "metadata": {
        "colab": {
          "base_uri": "https://localhost:8080/"
        },
        "id": "P13AqLfcVj5v",
        "outputId": "fdca06d4-0301-4ddd-9fba-8877188f1413"
      },
      "outputs": [
        {
          "data": {
            "text/plain": [
              "0    *As an* Advisor Team Persona*, I want* to have...\n",
              "1    *As an* Investment Advisor, *I want* the Welco...\n",
              "2    *As a,* Branch Manager and Branch Administrato...\n",
              "3    *As an* Advisor Team persona, *I want* to have...\n",
              "4    *As an* Advisor Team persona, *I want* to have...\n",
              "Name: Description, dtype: object"
            ]
          },
          "execution_count": 25,
          "metadata": {},
          "output_type": "execute_result"
        }
      ],
      "source": [
        "# Examine sample texts from the description column\n",
        "df[\"Description\"].head()"
      ]
    },
    {
      "cell_type": "markdown",
      "metadata": {
        "id": "zXQe_SFwVj5w"
      },
      "source": [
        "The above output can partially confirm our assumption.\n",
        "So, we will now check for the descriptions that do not follow this specific pattern:"
      ]
    },
    {
      "cell_type": "code",
      "execution_count": null,
      "metadata": {
        "colab": {
          "base_uri": "https://localhost:8080/"
        },
        "id": "ZKdfjtvbVj5w",
        "outputId": "8231e394-9493-48cb-8ae0-5a5f3cd1c95c"
      },
      "outputs": [
        {
          "name": "stdout",
          "output_type": "stream",
          "text": [
            "Row  18  :  *As* an Advisor Team persona, *I want* to select Joint Tenancy when I have chosen ‘Joint with Spouse\n",
            "Row  25  :  *As* an Advisor Team persona, *I want*  the Functionality available *so that* I can select whether m\n",
            "Row  32  :  This story is to address the issue in [https://canaccordgenuity.atlassian.net/browse/CLM-10137|https\n"
          ]
        }
      ],
      "source": [
        "# Check for descriptions that do not match this specific pattern\n",
        "import re\n",
        "\n",
        "pattern = \"(?i)(as\\s+(?:an?|a).*?i\\s+(?:want|need).*?so\\s+that.*)\"\n",
        "\n",
        "for index, description in df[\"Description\"].items():\n",
        "    if not(re.search(pattern, description)):\n",
        "      print(\"Row \",index,\" : \", description[:100])"
      ]
    },
    {
      "cell_type": "markdown",
      "metadata": {
        "id": "mvUQGjkcVj5w"
      },
      "source": [
        "=> Some descriptions appear to follow the structured format we mentioned above. However, before making any definitive judgments, it is necessary to **proceed with removing punctuation** from the sentences.  "
      ]
    },
    {
      "cell_type": "markdown",
      "metadata": {
        "id": "087Ue6AqzWVN"
      },
      "source": [
        "In written communication, titles are commonly used to organize content."
      ]
    },
    {
      "cell_type": "code",
      "execution_count": null,
      "metadata": {
        "colab": {
          "base_uri": "https://localhost:8080/"
        },
        "id": "jtmHNG__rjck",
        "outputId": "2c076912-7311-4211-94b1-122c10df8466"
      },
      "outputs": [
        {
          "name": "stdout",
          "output_type": "stream",
          "text": [
            "Top 5 Most Frequent Titles:\n"
          ]
        },
        {
          "data": {
            "text/plain": [
              "Pre-Conditions         21\n",
              "Acceptance Criteria    21\n",
              "Post-Conditions        11\n",
              "Post Conditions         6\n",
              "Pre-Conditions:         5\n",
              "dtype: int64"
            ]
          },
          "execution_count": 32,
          "metadata": {},
          "output_type": "execute_result"
        }
      ],
      "source": [
        "# Print the most frequent titles\n",
        "print(\"Top 5 Most Frequent Titles:\")\n",
        "top_titles= frequent(df[\"Description\"],\"h\\d\\.\\s*(.*?)\\s{2}\")\n",
        "top_titles"
      ]
    },
    {
      "cell_type": "code",
      "execution_count": null,
      "metadata": {
        "colab": {
          "base_uri": "https://localhost:8080/",
          "height": 607
        },
        "id": "-5G-jm4TrlzT",
        "outputId": "63910f75-1411-4754-8eb7-b734cb259e24"
      },
      "outputs": [
        {
          "data": {
            "image/png": "[encoded data removed]",
            "text/plain": [
              "<Figure size 1000x600 with 1 Axes>"
            ]
          },
          "metadata": {},
          "output_type": "display_data"
        }
      ],
      "source": [
        "# Plot histogram of the top most frequent titles\n",
        "\n",
        "top_titles.plot(kind='bar', color='blue' ,figsize=(10, 6))\n",
        "plt.title('Top 5 Most Frequent Titles')\n",
        "plt.xlabel('Titles')\n",
        "plt.ylabel('Frequency')\n",
        "plt.xticks(rotation=20, ha='right')\n",
        "\n",
        "for i, freq in enumerate(top_titles):\n",
        "    plt.text(i, freq + 0.1, str(freq), ha='center', va='bottom')\n",
        "\n",
        "plt.tight_layout()\n",
        "plt.show()"
      ]
    },
    {
      "cell_type": "markdown",
      "metadata": {
        "id": "7Eaw4oF9r-Hy"
      },
      "source": [
        "\n",
        "=> Thus, these most frequent bold texts can give as an insight into the structure of the descriptions.\n",
        "\n",
        "The descriptions follow this format\n",
        "> **`As a [role], I want [feature], So that [reason].. Pre-Conditions ..Aceceptance Criteria ... Post-Conditions`**\n"
      ]
    },
    {
      "cell_type": "code",
      "execution_count": null,
      "metadata": {
        "colab": {
          "base_uri": "https://localhost:8080/"
        },
        "id": "qHA4xh0Qs1hG",
        "outputId": "19164fc7-9989-4329-f174-ecd17f742ffc"
      },
      "outputs": [
        {
          "name": "stdout",
          "output_type": "stream",
          "text": [
            "Row  32  :  This story is to address the issue in [https://canaccordgenuity.atlassian.net/browse/CLM-10137|https://canaccordgenuity.atlassian.net/browse/CLM-10137|smart-link]   *Acceptance Criteria:*  # When the case is updated by a system action, the \"Updated\" field in left nav should display “System” instead of the default OOTB verbiage.  # This applicable to both the parent case and child case - examples below:  !image-20230217-200420.png|width=455,height=650!  !image-20230216-161901.png|width=468,height=241!  !image-20230216-161854.png|width=468,height=227!  {panel:bgColor=#eae6ff} 03/14: The RC testing of this user story will be deemed sufficient and will not need Miipe to repeat the same exercise. However, the RC test steps will need to be integrated into Miipe’s regression test package. {panel}\n"
          ]
        }
      ],
      "source": [
        "# Check for descriptions that do not match this Gherkin syntax\n",
        "import re\n",
        "\n",
        "pattern = \"(?i)((?:Pre-Conditions|Pre Conditions)(?:s)?.*?Acceptance Criteria.*?(?:Post-Condition|Post Condition)(?:s)?.*)\"\n",
        "\n",
        "for index, description in df[\"Description\"].items():\n",
        "    if not(re.search(pattern, description)):\n",
        "      print(\"Row \",index,\" : \", description)"
      ]
    },
    {
      "cell_type": "markdown",
      "metadata": {
        "id": "cP-CGyLhuWhL"
      },
      "source": [
        "Most of the descriptions follow the format we mentioned above, except for row 32. This appears to be an outlier description, so we will **proceed with deleting it during the data cleaning process**."
      ]
    },
    {
      "cell_type": "markdown",
      "metadata": {
        "id": "ZpF1qlmnfGpl"
      },
      "source": [
        "### **Data Cleaning**"
      ]
    },
    {
      "cell_type": "markdown",
      "metadata": {
        "id": "kyMYOXaqoN0S"
      },
      "source": [
        "For the task at hand, we will only require the 'Issue Key' column and the 'Description' column. Therefore, we will proceed to delete the remaining columns"
      ]
    },
    {
      "cell_type": "code",
      "execution_count": 7,
      "metadata": {
        "id": "BAwUM6DpRSxX"
      },
      "outputs": [],
      "source": [
        "# Remove unnecessary columns\n",
        "df_cleaned = df.copy()"
      ]
    },
    {
      "cell_type": "code",
      "execution_count": 8,
      "metadata": {
        "colab": {
          "base_uri": "https://localhost:8080/",
          "height": 206
        },
        "id": "e79q3NbSQB11",
        "outputId": "2d48c030-a43f-4f96-98a8-d83ddac52dce"
      },
      "outputs": [
        {
          "data": {
            "application/vnd.google.colaboratory.intrinsic+json": {
              "summary": "{\n  \"name\": \"df_cleaned\",\n  \"rows\": 35,\n  \"fields\": [\n    {\n      \"column\": \"Issue Key\",\n      \"properties\": {\n        \"dtype\": \"string\",\n        \"num_unique_values\": 35,\n        \"samples\": [\n          \"CLM-13903\",\n          \"CLM-14923\",\n          \"CLM-13996\"\n        ],\n        \"semantic_type\": \"\",\n        \"description\": \"\"\n      }\n    },\n    {\n      \"column\": \"Description\",\n      \"properties\": {\n        \"dtype\": \"string\",\n        \"num_unique_values\": 35,\n        \"samples\": [\n          \"As an Advisor Team persona, I want the check on TFSA successor holder and marital status on Validate to be updated with the marital status change so that I am sure that the validation will remain to function correctly.  h3. Pre-Conditions:  # The user has selected \\u2018TFSA\\u2019 as an \\u2018Account Type\\u2019 # The user has clicked \\u2018Validate\\u2019  h3. Acceptance Criteria:  # Display the error message \\u201c_For a TFSA account, you have designated the client\\u2019s spouse as the successor holder however the marital status is not equal to \\u201cMarried\\u201d or \\u201cCommon Law\\u201d\\u201d_ on the UI when the does the following: ## The user has chosen any of the following values \\u2018Single\\u2019, \\u2018Separated\\u2019, \\u2018Widowed\\u2019 or \\u2018Divorced\\u2019 as the \\u2018Marital Status\\u2019 AND ## The user has selected \\u2018Yes' to the question \\u201c_Do you want to designate your spouse/common-law partner (CLP) as the \\u201cSuccessor Holder\\u201d?\\u201d_  h3. Post-Conditions:  N/A  {panel:bgColor=#deebff} Original user story [https://canaccordgenuity.atlassian.net/browse/CLM-6489|https://canaccordgenuity.atlassian.net/browse/CLM-6489|smart-link]  {panel}\",\n          \"*As an* Advisor Team, *I need* the system to generate the necessary forms and documents and to produce a Docusign Envelope with those items in the correct order for Release 7.0, *so that* the appropriate artifacts based on the client/accounts being opened is ready for sending to the client for electronic signature.  *Master Forms* [Spreadsheet|https://canaccord.sharepoint.com/:x:/r/teams/ProjectClientLifecycleManagementCanada/_layouts/15/Doc.aspx?sourcedoc=%7BC3D53A4A-0C0B-4364-AE12-6CD60B986562%7D&file=Master%20Form%20ID%20Mapping.xlsx&action=default&mobileredirect=true&cid=71904c26-8eb3-4966-a744-1072b4080832]  h3. Pre-Conditions  # User must have successfully completed *Capture KYC* stage. # Pega system must have successfully posted Capture KYC data via Post Client REST API and Client ID and Account Number(s) have been returned by the REST API.  {panel:bgColor=#deebff} This story includes changes for Joint Accounts {panel}  h3. Acceptance Criteria  # The Docusign Envelope must contain the following generated forms/documents, in the following order: ## New Client Application - Summary (FormID 1001E) ### 1 form generated for the Case <DE-001 : CaseIdentifier> ## New Client Application Form - Individual (FormID 1002E) ### 1 form generated for the Case <DE-001 : CaseIdentifier> ## {color:#ff5630}Account Agreement for Two Persons - With Right of Survivorship (FormID 1020E){color} ### {color:#ff5630}1 form generated for the Case <DE-001 : CaseIdentifier>,{color} {color:#ff5630}ONLY IF <DE-007 : ClientType> = Joint with Spouse{color} ## Self-Directed Retirement Savings Plan - Application (Form ID 1003E) ### 1 form generated for each +CAD+ RRSP account opened, if any ###  order by <DE-122 : AccountNumber> ## Self-Directed Retirement Income Fund - Application (Form ID 1014E) ### 1 form generated for each +CAD+RRIF account opened, if any ### order by <DE-122 : AccountNumber> ## Standing Payment Instructions - For Income Funds (Form ID 1015E) ### 1 form generated for each +CAD+RRIF account, where standing payment instructions were provided, if any ### order by <DE-122 : AccountNumber> ## Tax Free Savings Account - Application (FormID 1004E) ### 1 form generated for each TFSA account opened (any currency), if any ### order by <DE-122 : AccountNumber> ## Registered Plan Designation of Beneficiary - The Estate (Form 1011E) ### 1 form generated for the Case <DE-001 : CaseIdentifier>, +ONLY IF+: #### At least one TFSA account opened with no successor/holder and no named beneficiary, or #### At least one CAD RRSP account opened with no named beneficiary _(see Acceptance Criteria in_ [https://canaccordgenuity.atlassian.net/browse/CLM-4977|https://canaccordgenuity.atlassian.net/browse/CLM-4977|smart-link]_)_  ## Statement of Investment Selection (Form ID 3019E) - Envestnet ### Form imported from Envestnet(mandatory) ## Proposal (Form ID 3020E) - Envestnet ### Form imported from Envestnet (optional) ## Investment Policy Statement (Form ID 3022E) ### Form uploaded by Advisor(Optional) ### 1 Standardized Signature Page for uploaded IPS form by IA (From User Story: [https://canaccordgenuity.atlassian.net/browse/CLM-5590|https://canaccordgenuity.atlassian.net/browse/CLM-5590|smart-link]) ## Fee-Based Account Application (FormID 1013E) ### 1 form generated for the Case <DE-001 : CaseIdentifier>, +ONLY IF+: #### At least one account opened with Commission/Fee Type <DE-294 : FeeType> = \\u201cFee-Based\\u201d ## RC518 Declaration of Tax Residence for Individuals (FormID 2001E) ### 1 form generated for the Holder {color:#ff5630}<DE-059 : Role> = Holder{color} ### {color:#ff5630}1 form generated for the Co-Holder <DE-059 : Role> = Co-Holder, ONLY IF <DE-007 : ClientType> = Joint with Spouse{color} ### Remove and create split for Joint ## Account Transfer - Authorization (Form 1005E) ### 1 form generated for each account transfer initiated, if any ### order by <DE-122 : AccountNumber>, then by <DE-215 : CaseTransferId> ## Reg Plan Locked In Addenda\\u2026 (Forms 2003E - 20033E) ### 1 or more forms generated for each RRSP or RRIF account opened where <DE-372 : RegPlanType> = LIRA/LRSP, LIF or Prescribed RIF, AND the form is NOT restricted from digital signing      _(each Reg Plan Locked In Addenda user story describes if the form should be included in the DocuSign envelope or not)_ ### order by <DE-153 : GoverningLegislation>, then by <DE-122 : AccountNumber> ## EFT Bank Account Setup (Form ID 1006E) ### One form generated for multiple Banking institution information  ## EFT Recurring Event (Form ID 1007E) ### One form generated for each Recurring Event (Cash/Margin) initiated ## EFT Recurring PAC (Form ID 1008E) ### One form generated for each EFT Recurring Pre-authorized Contribution (TFSA/RRSP) ## Account Terms and Conditions Booklet (Form ID 3001E) ### 1 form generated for the Case <DE-001 : CaseIdentifier> # The same order above must be used to display these documents in the NCAF Summary \\u201cTable of Contents\\u201d in [https://canaccordgenuity.atlassian.net/browse/CLM-1130|https://canaccordgenuity.atlassian.net/browse/CLM-1130|smart-link]   h3. Post-Conditions  # The system will generate a Docusign Envelope for the Case comprised of the above forms/documents in the specified order.\",\n          \"*As an* Advisor Team persona, *I want* to have co-holder role in addition to the Holder role *so that* I would be able to input details for the co-holder.   h3. *Pre-Conditions*  # User is at Associated Parties tab  h3. *Acceptance Criteria*   # \\u2018Add Item\\u2019 button: ## When \\u2018Joint with Spouse\\u2019 is selected from [https://canaccordgenuity.atlassian.net/browse/CLM-13972|https://canaccordgenuity.atlassian.net/browse/CLM-13972|smart-link], the 'Add Item\\u2019 button must be enabled  until 2 associated parties have been added.   ### The user can add up to 2 associated parties (1 for Holder and 1 for Co-Holder). ### Once we have 2 associated parties added, disable the \\u2018Add Item\\u2019 button. ## When \\u2018Individual\\u2019 was selected as a client type, the \\u2018Add Item\\u2019 button must be disabled after a row has been added for associated parties as per current functionality.  # Role values from [https://canaccordgenuity.atlassian.net/browse/CLM-244|https://canaccordgenuity.atlassian.net/browse/CLM-244|smart-link] should be updated to add \\u2018Co-Holder\\u2019 as a value in addition to the current \\u2018Holder\\u2019 value. The new Role values would be updated to have the following values only and in the same order as shown below.  ## Holder ### All requirements from [https://canaccordgenuity.atlassian.net/browse/CLM-244|https://canaccordgenuity.atlassian.net/browse/CLM-244|smart-link] must remain unchanged.  ### This is a mandatory Role for both \\u2018Individual\\u2019 and \\u2018Joint with Spouse\\u2019 ## Co-Holder ### This value should be conditionally displayed if \\u2018Joint with Spouse' was selected from [https://canaccordgenuity.atlassian.net/browse/CLM-13972|https://canaccordgenuity.atlassian.net/browse/CLM-13972|smart-link].  ### All other requirements from [https://canaccordgenuity.atlassian.net/browse/CLM-244|https://canaccordgenuity.atlassian.net/browse/CLM-244|smart-link] must remain unchanged. This includes adding of the Title, First Name, Middle Initial and Last Name. ### This is a mandatory Role for \\u2018Joint with Spouse\\u2019 ### Refer to DE-059:Role  in the [Canaccord CLM Data Model|https://canaccord.sharepoint.com/:x:/r/teams/ProjectClientLifecycleManagementCanada/Shared%20Documents/Planning/Data/CLM%20Data%20Model%20v3.6.xlsx?d=w12e44a1d975c4349add072e6ff341b77&csf=1&web=1&e=ra4XQ2] for field data type and/or max field  ### Co-Holder associated party details will be displayed and ready for data capture when a Co-Holder Role has been added as per [https://canaccordgenuity.atlassian.net/browse/CLM-13998|https://canaccordgenuity.atlassian.net/browse/CLM-13998|smart-link]   h3. *Post-Conditions*  # [https://canaccordgenuity.atlassian.net/browse/CLM-13998|https://canaccordgenuity.atlassian.net/browse/CLM-13998|smart-link] for the Co-Holder details to be entered.   {panel:bgColor=#deebff} *Updated by Imee Marigza on 08Nov2023*  *Updated Acceptance Criteria based on developer\\u2019s recommendation:*  * \\u2018Add Item\\u2019 will be disabled and the 2 rows for Holder and Co-Holder Roles will be presented for user input.  * !image-20231108-233528.png|width=815,height=226! * When \\u2018Client Type\\u2019 value has been changed from \\u2018Joint with Spouse\\u2019 to \\u2018Individual\\u2019, the Co-Holder row will be wiped out and only \\u2018Holder\\u2019 row should remain.  {panel}\"\n        ],\n        \"semantic_type\": \"\",\n        \"description\": \"\"\n      }\n    }\n  ]\n}",
              "type": "dataframe",
              "variable_name": "df_cleaned"
            },
            "text/html": [
              "\n",
              "  <div id=\"df-47fdbed9-d451-44d0-adde-843bfd75592b\" class=\"colab-df-container\">\n",
              "    <div>\n",
              "<style scoped>\n",
              "    .dataframe tbody tr th:only-of-type {\n",
              "        vertical-align: middle;\n",
              "    }\n",
              "\n",
              "    .dataframe tbody tr th {\n",
              "        vertical-align: top;\n",
              "    }\n",
              "\n",
              "    .dataframe thead th {\n",
              "        text-align: right;\n",
              "    }\n",
              "</style>\n",
              "<table border=\"1\" class=\"dataframe\">\n",
              "  <thead>\n",
              "    <tr style=\"text-align: right;\">\n",
              "      <th></th>\n",
              "      <th>Issue Key</th>\n",
              "      <th>Description</th>\n",
              "    </tr>\n",
              "  </thead>\n",
              "  <tbody>\n",
              "    <tr>\n",
              "      <th>0</th>\n",
              "      <td>CLM-16730</td>\n",
              "      <td>*As a*, Compliance Officer Tier 2, *I want to*...</td>\n",
              "    </tr>\n",
              "    <tr>\n",
              "      <th>1</th>\n",
              "      <td>CLM-16657</td>\n",
              "      <td>*As an* Advisor Team persona, *I want* to add ...</td>\n",
              "    </tr>\n",
              "    <tr>\n",
              "      <th>2</th>\n",
              "      <td>CLM-16542</td>\n",
              "      <td>*As a*, Compliance Officer Tier 1, *I want* to...</td>\n",
              "    </tr>\n",
              "    <tr>\n",
              "      <th>3</th>\n",
              "      <td>CLM-16537</td>\n",
              "      <td>*As an* Advisor Team, *I want* to know when I ...</td>\n",
              "    </tr>\n",
              "    <tr>\n",
              "      <th>4</th>\n",
              "      <td>CLM-16536</td>\n",
              "      <td>As an Advisor Team, I  need to be able to have...</td>\n",
              "    </tr>\n",
              "  </tbody>\n",
              "</table>\n",
              "</div>\n",
              "    <div class=\"colab-df-buttons\">\n",
              "\n",
              "  <div class=\"colab-df-container\">\n",
              "    <button class=\"colab-df-convert\" onclick=\"convertToInteractive('df-47fdbed9-d451-44d0-adde-843bfd75592b')\"\n",
              "            title=\"Convert this dataframe to an interactive table.\"\n",
              "            style=\"display:none;\">\n",
              "\n",
              "  <svg xmlns=\"http://www.w3.org/2000/svg\" height=\"24px\" viewBox=\"0 -960 960 960\">\n",
              "    <path d=\"M120-120v-720h720v720H120Zm60-500h600v-160H180v160Zm220 220h160v-160H400v160Zm0 220h160v-160H400v160ZM180-400h160v-160H180v160Zm440 0h160v-160H620v160ZM180-180h160v-160H180v160Zm440 0h160v-160H620v160Z\"/>\n",
              "  </svg>\n",
              "    </button>\n",
              "\n",
              "  <style>\n",
              "    .colab-df-container {\n",
              "      display:flex;\n",
              "      gap: 12px;\n",
              "    }\n",
              "\n",
              "    .colab-df-convert {\n",
              "      background-color: #E8F0FE;\n",
              "      border: none;\n",
              "      border-radius: 50%;\n",
              "      cursor: pointer;\n",
              "      display: none;\n",
              "      fill: #1967D2;\n",
              "      height: 32px;\n",
              "      padding: 0 0 0 0;\n",
              "      width: 32px;\n",
              "    }\n",
              "\n",
              "    .colab-df-convert:hover {\n",
              "      background-color: #E2EBFA;\n",
              "      box-shadow: 0px 1px 2px rgba(60, 64, 67, 0.3), 0px 1px 3px 1px rgba(60, 64, 67, 0.15);\n",
              "      fill: #174EA6;\n",
              "    }\n",
              "\n",
              "    .colab-df-buttons div {\n",
              "      margin-bottom: 4px;\n",
              "    }\n",
              "\n",
              "    [theme=dark] .colab-df-convert {\n",
              "      background-color: #3B4455;\n",
              "      fill: #D2E3FC;\n",
              "    }\n",
              "\n",
              "    [theme=dark] .colab-df-convert:hover {\n",
              "      background-color: #434B5C;\n",
              "      box-shadow: 0px 1px 3px 1px rgba(0, 0, 0, 0.15);\n",
              "      filter: drop-shadow(0px 1px 2px rgba(0, 0, 0, 0.3));\n",
              "      fill: #FFFFFF;\n",
              "    }\n",
              "  </style>\n",
              "\n",
              "    <script>\n",
              "      const buttonEl =\n",
              "        document.querySelector('#df-47fdbed9-d451-44d0-adde-843bfd75592b button.colab-df-convert');\n",
              "      buttonEl.style.display =\n",
              "        google.colab.kernel.accessAllowed ? 'block' : 'none';\n",
              "\n",
              "      async function convertToInteractive(key) {\n",
              "        const element = document.querySelector('#df-47fdbed9-d451-44d0-adde-843bfd75592b');\n",
              "        const dataTable =\n",
              "          await google.colab.kernel.invokeFunction('convertToInteractive',\n",
              "                                                    [key], {});\n",
              "        if (!dataTable) return;\n",
              "\n",
              "        const docLinkHtml = 'Like what you see? Visit the ' +\n",
              "          '<a target=\"_blank\" href=https://colab.research.google.com/notebooks/data_table.ipynb>data table notebook</a>'\n",
              "          + ' to learn more about interactive tables.';\n",
              "        element.innerHTML = '';\n",
              "        dataTable['output_type'] = 'display_data';\n",
              "        await google.colab.output.renderOutput(dataTable, element);\n",
              "        const docLink = document.createElement('div');\n",
              "        docLink.innerHTML = docLinkHtml;\n",
              "        element.appendChild(docLink);\n",
              "      }\n",
              "    </script>\n",
              "  </div>\n",
              "\n",
              "\n",
              "<div id=\"df-77b207ae-53b9-4ce3-852a-7c7d0bd24c82\">\n",
              "  <button class=\"colab-df-quickchart\" onclick=\"quickchart('df-77b207ae-53b9-4ce3-852a-7c7d0bd24c82')\"\n",
              "            title=\"Suggest charts\"\n",
              "            style=\"display:none;\">\n",
              "\n",
              "<svg xmlns=\"http://www.w3.org/2000/svg\" height=\"24px\"viewBox=\"0 0 24 24\"\n",
              "     width=\"24px\">\n",
              "    <g>\n",
              "        <path d=\"M19 3H5c-1.1 0-2 .9-2 2v14c0 1.1.9 2 2 2h14c1.1 0 2-.9 2-2V5c0-1.1-.9-2-2-2zM9 17H7v-7h2v7zm4 0h-2V7h2v10zm4 0h-2v-4h2v4z\"/>\n",
              "    </g>\n",
              "</svg>\n",
              "  </button>\n",
              "\n",
              "<style>\n",
              "  .colab-df-quickchart {\n",
              "      --bg-color: #E8F0FE;\n",
              "      --fill-color: #1967D2;\n",
              "      --hover-bg-color: #E2EBFA;\n",
              "      --hover-fill-color: #174EA6;\n",
              "      --disabled-fill-color: #AAA;\n",
              "      --disabled-bg-color: #DDD;\n",
              "  }\n",
              "\n",
              "  [theme=dark] .colab-df-quickchart {\n",
              "      --bg-color: #3B4455;\n",
              "      --fill-color: #D2E3FC;\n",
              "      --hover-bg-color: #434B5C;\n",
              "      --hover-fill-color: #FFFFFF;\n",
              "      --disabled-bg-color: #3B4455;\n",
              "      --disabled-fill-color: #666;\n",
              "  }\n",
              "\n",
              "  .colab-df-quickchart {\n",
              "    background-color: var(--bg-color);\n",
              "    border: none;\n",
              "    border-radius: 50%;\n",
              "    cursor: pointer;\n",
              "    display: none;\n",
              "    fill: var(--fill-color);\n",
              "    height: 32px;\n",
              "    padding: 0;\n",
              "    width: 32px;\n",
              "  }\n",
              "\n",
              "  .colab-df-quickchart:hover {\n",
              "    background-color: var(--hover-bg-color);\n",
              "    box-shadow: 0 1px 2px rgba(60, 64, 67, 0.3), 0 1px 3px 1px rgba(60, 64, 67, 0.15);\n",
              "    fill: var(--button-hover-fill-color);\n",
              "  }\n",
              "\n",
              "  .colab-df-quickchart-complete:disabled,\n",
              "  .colab-df-quickchart-complete:disabled:hover {\n",
              "    background-color: var(--disabled-bg-color);\n",
              "    fill: var(--disabled-fill-color);\n",
              "    box-shadow: none;\n",
              "  }\n",
              "\n",
              "  .colab-df-spinner {\n",
              "    border: 2px solid var(--fill-color);\n",
              "    border-color: transparent;\n",
              "    border-bottom-color: var(--fill-color);\n",
              "    animation:\n",
              "      spin 1s steps(1) infinite;\n",
              "  }\n",
              "\n",
              "  @keyframes spin {\n",
              "    0% {\n",
              "      border-color: transparent;\n",
              "      border-bottom-color: var(--fill-color);\n",
              "      border-left-color: var(--fill-color);\n",
              "    }\n",
              "    20% {\n",
              "      border-color: transparent;\n",
              "      border-left-color: var(--fill-color);\n",
              "      border-top-color: var(--fill-color);\n",
              "    }\n",
              "    30% {\n",
              "      border-color: transparent;\n",
              "      border-left-color: var(--fill-color);\n",
              "      border-top-color: var(--fill-color);\n",
              "      border-right-color: var(--fill-color);\n",
              "    }\n",
              "    40% {\n",
              "      border-color: transparent;\n",
              "      border-right-color: var(--fill-color);\n",
              "      border-top-color: var(--fill-color);\n",
              "    }\n",
              "    60% {\n",
              "      border-color: transparent;\n",
              "      border-right-color: var(--fill-color);\n",
              "    }\n",
              "    80% {\n",
              "      border-color: transparent;\n",
              "      border-right-color: var(--fill-color);\n",
              "      border-bottom-color: var(--fill-color);\n",
              "    }\n",
              "    90% {\n",
              "      border-color: transparent;\n",
              "      border-bottom-color: var(--fill-color);\n",
              "    }\n",
              "  }\n",
              "</style>\n",
              "\n",
              "  <script>\n",
              "    async function quickchart(key) {\n",
              "      const quickchartButtonEl =\n",
              "        document.querySelector('#' + key + ' button');\n",
              "      quickchartButtonEl.disabled = true;  // To prevent multiple clicks.\n",
              "      quickchartButtonEl.classList.add('colab-df-spinner');\n",
              "      try {\n",
              "        const charts = await google.colab.kernel.invokeFunction(\n",
              "            'suggestCharts', [key], {});\n",
              "      } catch (error) {\n",
              "        console.error('Error during call to suggestCharts:', error);\n",
              "      }\n",
              "      quickchartButtonEl.classList.remove('colab-df-spinner');\n",
              "      quickchartButtonEl.classList.add('colab-df-quickchart-complete');\n",
              "    }\n",
              "    (() => {\n",
              "      let quickchartButtonEl =\n",
              "        document.querySelector('#df-77b207ae-53b9-4ce3-852a-7c7d0bd24c82 button');\n",
              "      quickchartButtonEl.style.display =\n",
              "        google.colab.kernel.accessAllowed ? 'block' : 'none';\n",
              "    })();\n",
              "  </script>\n",
              "</div>\n",
              "\n",
              "    </div>\n",
              "  </div>\n"
            ],
            "text/plain": [
              "   Issue Key                                        Description\n",
              "0  CLM-16730  *As a*, Compliance Officer Tier 2, *I want to*...\n",
              "1  CLM-16657  *As an* Advisor Team persona, *I want* to add ...\n",
              "2  CLM-16542  *As a*, Compliance Officer Tier 1, *I want* to...\n",
              "3  CLM-16537  *As an* Advisor Team, *I want* to know when I ...\n",
              "4  CLM-16536  As an Advisor Team, I  need to be able to have..."
            ]
          },
          "execution_count": 8,
          "metadata": {},
          "output_type": "execute_result"
        }
      ],
      "source": [
        "df_cleaned.drop('Priority Name',axis=1,inplace=True)\n",
        "df_cleaned.drop('Priority ID',axis=1,inplace=True)\n",
        "df_cleaned.drop('Summary',axis=1,inplace=True)\n",
        "df_cleaned.head()"
      ]
    },
    {
      "cell_type": "code",
      "execution_count": 9,
      "metadata": {
        "colab": {
          "base_uri": "https://localhost:8080/"
        },
        "id": "yqM7YE6nQm9G",
        "outputId": "34beddc7-653e-4e81-80ed-3cb29fadfa47"
      },
      "outputs": [
        {
          "data": {
            "text/plain": [
              "Index(['Issue Key', 'user_story'], dtype='object')"
            ]
          },
          "execution_count": 9,
          "metadata": {},
          "output_type": "execute_result"
        }
      ],
      "source": [
        "# Update column name\n",
        "df_cleaned = df_cleaned.rename(columns={'Description': 'user_story'})\n",
        "df_cleaned.columns"
      ]
    },
    {
      "cell_type": "code",
      "execution_count": 11,
      "metadata": {
        "id": "-AwudvtNk0-A"
      },
      "outputs": [],
      "source": [
        "# Removing outlier descriptions (non user-stories)\n",
        "# As we mentioned earlier, we have an outlier \"Description\" at row 32\n",
        "#Drop the row having this outlier description\n",
        "df_cleaned = df_cleaned.drop(32, axis=0)"
      ]
    },
    {
      "cell_type": "markdown",
      "metadata": {
        "id": "a5i-6oZxfPoz"
      },
      "source": [
        "### **Text Preprocessing (user_story)**"
      ]
    },
    {
      "cell_type": "code",
      "execution_count": 12,
      "metadata": {
        "id": "SRDYtER9ZpbQ"
      },
      "outputs": [],
      "source": [
        "preprocessed_df=df_cleaned.copy()"
      ]
    },
    {
      "cell_type": "code",
      "execution_count": 15,
      "metadata": {
        "id": "Pe8H_DkXX_6f"
      },
      "outputs": [],
      "source": [
        "# Remove Formatting elements\n",
        "\n",
        "def remove_formatting(column):\n",
        "    formatting_patterns = {\n",
        "        \"headings\": r'(?i)h\\d\\.',\n",
        "        \"hyperlinks\": r'\\[([^\\]]*?)\\|https?://.*?\\]',\n",
        "        \"block_quotaion\": r'bq\\.',\n",
        "        \"color\": r'\\{color[^}]*\\}.*?\\{color\\}',\n",
        "        \"images\": r'!image.*?!',\n",
        "        \"attachments\": r'!media.*?!',\n",
        "        \"panels\": r'\\{panel[^}]*\\}',\n",
        "        \"code\": r'\\{code[^}]*\\}'\n",
        "    }\n",
        "\n",
        "    for key, value in formatting_patterns.items():\n",
        "        column = column.str.replace(value, '', regex=True)\n",
        "\n",
        "    return column\n",
        "\n",
        "preprocessed_df[\"user_story\"] = remove_formatting(preprocessed_df[\"user_story\"])\n"
      ]
    },
    {
      "cell_type": "code",
      "execution_count": 16,
      "metadata": {
        "id": "2-WHMQOoZE4d"
      },
      "outputs": [],
      "source": [
        "# Check for the number of descriptions that contain specefic formatting element\n",
        "check_format(preprocessed_df[\"user_story\"],\"headings formatting elements\",\"(?i)h\\d\\.\")\n",
        "check_format(preprocessed_df[\"user_story\"],\"hyperlinks\",\"https://\")\n",
        "check_format(preprocessed_df[\"user_story\"],\"block quotaion formatting elements\",\"bq.\")\n",
        "check_format(preprocessed_df[\"user_story\"],\"color formatting elements\",\"{color}\")\n",
        "check_format(preprocessed_df[\"user_story\"],\"Images\",\"!image\")\n",
        "check_format(preprocessed_df[\"user_story\"],\"attachements\",\"!media\")\n",
        "check_format(preprocessed_df[\"user_story\"],\"panels\",\"{panel}\")\n",
        "check_format(preprocessed_df[\"user_story\"],\"code\",\"{code}\")"
      ]
    },
    {
      "cell_type": "markdown",
      "metadata": {
        "id": "bSzEXXFYcKWL"
      },
      "source": [
        "=> Since the output is empty ==> the formatting elements are successfully deleted!"
      ]
    },
    {
      "cell_type": "code",
      "execution_count": 17,
      "metadata": {
        "id": "oVQgGtsneRMN"
      },
      "outputs": [],
      "source": [
        "def show_punctuations(text_column):\n",
        "    all_punctuations = set()\n",
        "    for text in text_column:\n",
        "        all_punctuations.update(char for char in text if char in string.punctuation)\n",
        "    return all_punctuations"
      ]
    },
    {
      "cell_type": "code",
      "execution_count": 18,
      "metadata": {
        "colab": {
          "base_uri": "https://localhost:8080/"
        },
        "id": "82_66O6BS4AA",
        "outputId": "c7fca2f9-7fe2-4e78-c3fd-2680320e9344"
      },
      "outputs": [
        {
          "name": "stdout",
          "output_type": "stream",
          "text": [
            "{'>', ',', '<', '?', ']', '=', '[', '(', '-', '*', ')', ':', '+', '_', '&', '%', '!', '~', '\"', \"'\", '/', '#', '|', '.', ';'}\n"
          ]
        }
      ],
      "source": [
        "desc_punct = show_punctuations(preprocessed_df[\"user_story\"])\n",
        "print(desc_punct)"
      ]
    },
    {
      "cell_type": "code",
      "execution_count": 19,
      "metadata": {
        "colab": {
          "base_uri": "https://localhost:8080/"
        },
        "id": "o1l1Rp1Ie_hv",
        "outputId": "76c88d48-ed89-4410-fabe-534d105a2464"
      },
      "outputs": [
        {
          "data": {
            "text/plain": [
              "set()"
            ]
          },
          "execution_count": 19,
          "metadata": {},
          "output_type": "execute_result"
        }
      ],
      "source": [
        "def remove_punctuation(text):\n",
        "    return ''.join(char for char in text if char not in string.punctuation)\n",
        "preprocessed_df[\"user_story\"] = preprocessed_df[\"user_story\"].apply(remove_punctuation)\n",
        "desc_punct = show_punctuations(preprocessed_df[\"user_story\"])\n",
        "desc_punct"
      ]
    },
    {
      "cell_type": "code",
      "execution_count": 20,
      "metadata": {
        "id": "5RrR_zChBsau"
      },
      "outputs": [],
      "source": [
        "# remove unnecessary white spaces\n",
        "preprocessed_df[\"user_story\"] = preprocessed_df[\"user_story\"].str.replace('\\s+', ' ', regex=True)"
      ]
    },
    {
      "cell_type": "code",
      "execution_count": 21,
      "metadata": {
        "id": "9pU5b9v_0HkC"
      },
      "outputs": [],
      "source": [
        "df_user_story=preprocessed_df.copy()"
      ]
    },
    {
      "cell_type": "markdown",
      "metadata": {
        "id": "sunyU82auqd2"
      },
      "source": [
        "# STP Data\n"
      ]
    },
    {
      "cell_type": "markdown",
      "metadata": {
        "id": "PAPplff3uxvh"
      },
      "source": [
        "### **Data Extraction (From Excel Files) + Formatting**\n"
      ]
    },
    {
      "cell_type": "code",
      "execution_count": 28,
      "metadata": {
        "id": "lAb-jQbG05lB"
      },
      "outputs": [],
      "source": [
        "import os\n",
        "drive_path = '/content/gdrive/My Drive/PFE-Project/STPs'"
      ]
    },
    {
      "cell_type": "code",
      "execution_count": 29,
      "metadata": {
        "colab": {
          "base_uri": "https://localhost:8080/"
        },
        "id": "2PJLITHO39QS",
        "outputId": "b137f051-1c29-466c-8ff5-0907559a78c1"
      },
      "outputs": [
        {
          "data": {
            "text/plain": [
              "(43, 2)"
            ]
          },
          "execution_count": 29,
          "metadata": {},
          "output_type": "execute_result"
        }
      ],
      "source": [
        "data = []\n",
        "\n",
        "for file in os.listdir(drive_path):\n",
        "    if file.endswith('.xlsx'):\n",
        "        df = pd.read_excel(os.path.join(drive_path, file)) # excel to pandas dataframe\n",
        "\n",
        "        columns_to_drop = ['Test Case ID', 'AC#', 'test case type',\"Test case Item\",\"Test Scenario/Summary \",'Comments']\n",
        "        df = df.drop(columns_to_drop, axis=1)\n",
        "\n",
        "        # Rename columns\n",
        "        new_column_names = {'Test Scenario/General Description ': 'Test Case Description', 'input data/precondition': 'Preconditions', 'expected result': 'Expected Result', 'steps': 'Steps'}\n",
        "        df = df.rename(columns=new_column_names)\n",
        "\n",
        "        keep_cols=['Test Case Description', 'Preconditions', \"Steps\",'Expected Result']\n",
        "\n",
        "        # Combine all rows into a single paragraph\n",
        "        stp = ''\n",
        "        for i in range(1, len(df) + 1):\n",
        "          row = df.iloc[i-1]\n",
        "          test_case = ''\n",
        "          for col, val in zip(keep_cols, row):\n",
        "              if col == 'Preconditions' and pd.notna(val):\n",
        "                  test_case += f'{col}:\\n{val}\\n'\n",
        "              elif isinstance(val, str) and val.endswith('\\n\\n '):\n",
        "                  val = val.replace('\\n\\n ', '\\n')\n",
        "                  test_case += f'{col}: {val}'\n",
        "              else:\n",
        "                  test_case += f'{col}: {val}\\n'\n",
        "          test_case = f\"Test Case {i}:\\n\" + test_case + '\\n'\n",
        "          stp += test_case\n",
        "\n",
        "        new_row = pd.DataFrame({'file_name': file, 'STP': [stp]}, index=[0])\n",
        "        data.append(new_row)\n",
        "\n",
        "df_STP = pd.concat(data, ignore_index=True)\n",
        "df_STP.shape"
      ]
    },
    {
      "cell_type": "markdown",
      "metadata": {
        "id": "rjN00A-d1YDD"
      },
      "source": [
        "### **Data Exploration**"
      ]
    },
    {
      "cell_type": "code",
      "execution_count": null,
      "metadata": {
        "colab": {
          "base_uri": "https://localhost:8080/"
        },
        "id": "G7A08rhv99vh",
        "outputId": "e36b33f8-e60b-4e76-c24b-78888689817c"
      },
      "outputs": [
        {
          "name": "stdout",
          "output_type": "stream",
          "text": [
            "This dataset has 43 rows (Instances) and 2 columns (Features)\n"
          ]
        }
      ],
      "source": [
        "# Display Shape\n",
        "df_STP.shape\n",
        "print(\"This dataset has\", df_STP.shape[0],\"rows (Instances) and\",df_STP.shape[1],\"columns (Features)\")"
      ]
    },
    {
      "cell_type": "code",
      "execution_count": null,
      "metadata": {
        "colab": {
          "base_uri": "https://localhost:8080/",
          "height": 206
        },
        "id": "3OWewjVsB7nY",
        "outputId": "fbbe469e-457c-417e-b216-2b9249e0b178"
      },
      "outputs": [
        {
          "data": {
            "application/vnd.google.colaboratory.intrinsic+json": {
              "summary": "{\n  \"name\": \"df_STP\",\n  \"rows\": 43,\n  \"fields\": [\n    {\n      \"column\": \"file_name\",\n      \"properties\": {\n        \"dtype\": \"string\",\n        \"num_unique_values\": 43,\n        \"samples\": [\n          \"CLM-16657.xlsx\",\n          \"CLM-11867.xlsx\",\n          \"CLM-10675.xlsx\"\n        ],\n        \"semantic_type\": \"\",\n        \"description\": \"\"\n      }\n    },\n    {\n      \"column\": \"STP\",\n      \"properties\": {\n        \"dtype\": \"string\",\n        \"num_unique_values\": 43,\n        \"samples\": [\n          \"Test Case 1:\\nTest Case Description: RC518 form title for Holder when the Client Type is \\\"Joint with Spouce\\\"\\nPreconditions:\\n1. Create a new case\\n2. User select as Client Type \\\"Joint with Spouse\\\"\\n3. User fill all the mandatory questions \\n4. User must have successfully completed Capture KYC stage and submit the case\\n5. System is generating forms.\\nSteps: Verify that holder\\u2019s first name and last name are added Infront of RC518 form under Table of Contents in NCAF Summary form\\neg: \\u201cRC518 Declaration of Tax Residence for Individuals_FirstName LastName\\u201d\\nExpected Result: holder\\u2019s first name and last name are added Infront of RC518 form under Table of Contents in NCAF Summary form\\neg: \\u201cRC518 Declaration of Tax Residence for Individuals_FirstName LastName\\u201d\\n\\nTest Case 2:\\nTest Case Description: RC518 form title for Co-Holder when the Client Type is \\\"Joint with Spouce\\\"\\nPreconditions:\\n1. Create a new case\\n2. User select as Client Type \\\"Joint with Spouse\\\"\\n3. User fill all the mandatory questions \\n4. User must have successfully completed Capture KYC stage and submit the case\\n5. System is generating forms.\\nSteps: Verify that co-holder\\u2019s first name and last name are added Infront of RC518 form under Table of Contents in NCAF Summary form\\neg: \\u201cRC518 Declaration of Tax Residence for Individuals_FirstName LastName\\u201d\\nExpected Result: co-holder\\u2019s first name and last name are added Infront of RC518 form under Table of Contents in NCAF Summary form\\neg: \\u201cRC518 Declaration of Tax Residence for Individuals_FirstName LastName\\u201d\\n\\nTest Case 3:\\nTest Case Description: RC518 form title for Holder when the Client Type is \\\"Individual\\\"\\nPreconditions:\\n1. Create a new case\\n2. User select as Client Type \\\"Individual\\\"\\n3. User fill all the mandatory questions \\n4. User must have successfully completed Capture KYC stage and submit the case\\n5. System is generating forms.\\nSteps: Verify that holder\\u2019s first name and last name are added Infront of RC518 form under Table of Contents in NCAF Summary form\\neg: \\u201cRC518 Declaration of Tax Residence for Individuals_FirstName LastName\\u201d\\nExpected Result: holder\\u2019s first name and last name are added Infront of RC518 form under Table of Contents in NCAF Summary form\\neg: \\u201cRC518 Declaration of Tax Residence for Individuals_FirstName LastName\\u201d\\n\\n\",\n          \"Test Case 1:\\nTest Case Description:  the Void Docusign API does not return a successful response (200 HTTP response)\\nPreconditions:\\n1.Create a new case \\n2.the IA Submit the case \\n3.In signing stage the user click on the \\u201cPrevious\\u201d button in the \\u201cReview Envelope Details\\u201d screen\\nSteps: Verify that an email notification  will be send to:\\n1.clmproject@cgf.com, \\n2.pegaadmin@cgf.com \\n3.and cc canaccord.support@rulescube.com\\n\\n\\nExpected Result: an email notification  will be send to:\\n1.clmproject@cgf.com, \\n2.pegaadmin@cgf.com \\n3.and cc canaccord.support@rulescube.com\\n\\nTest Case 2:\\nTest Case Description: nan\\nPreconditions:\\n1.Create a new case \\n2.the IA Submit the case \\n3.In signing stage the user click on the \\u201cPrevious\\u201d button in the \\u201cReview Envelope Details\\u201d screen\\nSteps: Verify that the Subject is : Pega CaseID <insert case ID>: The  Docusign Void API returned an error. Action is required to resolve the issue.\\n\\n\\nExpected Result: the Subject is : Pega CaseID <insert case ID>: The  Docusign Void API returned an error. Action is required to resolve the issue.\\n\\n\\nTest Case 3:\\nTest Case Description: nan\\nPreconditions:\\n1.Create a new case \\n2.the IA Submit the case \\n3.In signing stage the user click on the \\u201cPrevious\\u201d button in the \\u201cReview Envelope Details\\u201d screen\\nSteps: Verify that the Body is:\\n\\nPega Case ID <insert case ID and hyperlink to the case>.\\n\\nIssue Description: The  Docusign Void API returned a <HTTP response value> HTTP Response. Action is required to resolve the issue. \\n\\nDetails: <insert pyStatusMessage, pyStatusValue>\\n\\nEvent Date/Time: <insert date/time as DD-MMM-YYYY>\\nExpected Result: the Body is:\\n\\nPega Case ID <insert case ID and hyperlink to the case>.\\n\\nIssue Description: The  Docusign Void API returned a <HTTP response value> HTTP Response. Action is required to resolve the issue. \\n\\nDetails: <insert pyStatusMessage, pyStatusValue>\\n\\nEvent Date/Time: <insert date/time as DD-MMM-YYYY>\\n\\nTest Case 4:\\nTest Case Description:  the Void Docusign API return a successful response \\nPreconditions:\\n1.Create a new case \\n2.the IA Submit the case \\n3.In signing stage the user click on the \\u201cPrevious\\u201d button in the \\u201cReview Envelope Details\\u201d screen\\nSteps: Verify that the case will continue with the \\u201cPrevious\\u201d action and move back to the Digital Document Signers UI and change the case status to PENDING-DIGITALDOCUMENTSIGNERS\\nExpected Result: the case will continue with the \\u201cPrevious\\u201d action and move back to the Digital Document Signers UI and change the case status to PENDING-DIGITALDOCUMENTSIGNERS\\n\\nTest Case 5:\\nTest Case Description: the Resend Docusign API does not return a successful response (200 HTTP response),\\nPreconditions:\\n1.Create a new case \\n2.the IA Submit the case \\n3.In signing stage the user click on the \\u201cResend\\u201d button in the \\u201cReview Envelope Details\\u201d screen\\nSteps: Verify that an email notification  will be send to:\\n1.clmproject@cgf.com, \\n2.pegaadmin@cgf.com \\n3.and cc canaccord.support@rulescube.com\\n\\n\\nExpected Result: an email notification sent to:\\n1.clmproject@cgf.com, \\n2.pegaadmin@cgf.com \\n3.and cc canaccord.support@rulescube.com\\n\\n\\n\\nTest Case 6:\\nTest Case Description: nan\\nPreconditions: nan\\nSteps: Verify that the Subject is : Pega CaseID <insert case ID>: The  Docusign Resend API returned an error. Action is required to resolve the issue.\\n\\n\\nExpected Result: the Subject is : Pega CaseID <insert case ID>: The  Docusign Resend API returned an error. Action is required to resolve the issue.\\n\\n\\nTest Case 7:\\nTest Case Description: nan\\nPreconditions: nan\\nSteps: Verify that the Body is:\\nPega Case ID <insert case ID and hyperlink to the case>.\\n\\nIssue Description: The Docusign Resend API returned a <HTTP response value> HTTP Response. Action is required to resolve the issue. \\n\\nDetails: <insert pyStatusMessage, pyStatusValue>\\n\\nEvent Date/Time: <insert date/time as DD-MMM-YYYY>\\nExpected Result:  the Body is:\\nPega Case ID <insert case ID and hyperlink to the case>.\\n\\nIssue Description: The Docusign Resend API returned a <HTTP response value> HTTP Response. Action is required to resolve the issue. \\n\\nDetails: <insert pyStatusMessage, pyStatusValue>\\n\\nEvent Date/Time: <insert date/time as DD-MMM-YYYY>\\n\\n\",\n          \"Test Case 1:\\nTest Case Description: nan\\nPreconditions:\\nPre-Conditions\\n1. Create a NC \\n2. The Credit Officer has rejected one or more PIM margin accounts AND the case contains other approved accounts that are in the same Envestnet Proposal as the rejected PIM margin account(s)\\n\\nSteps: Verify if the email notification (As IA in order for me to inform my customer, I need to know when Credit (rejects all margin accts AND the case also contains other non-margin accounts) OR (only some of the margin accts are rejected AND the case also contains other non-margin accounts)) has been sent to the following users:\\na. The submitter of the parent case\\nb. Cc: All IA Code owners\\nc. Blind CC the CLM project team at clmproject@cgf.com NOTE: The purpose of the blind CC to the project team is because when cases are rejected, the system may have failed to identify a deficiency. A business rule may need to be added to prevent future occurrences\\nExpected Result: The email notification has been sent to the following users:\\na. The submitter of the parent case\\nb. Cc: All IA Code owners\\nc. Blind CC the CLM project team at clmproject@cgf.com NOTE: The purpose of the blind CC to the project team is because when cases are rejected, the system may have failed to identify a deficiency. A business rule may need to be added to prevent future occurrences\\n\\nTest Case 2:\\nTest Case Description: nan\\nPreconditions: nan\\nSteps: (ONE) Next email notification details are presented:\\n1. Subject line:  Action Required: Complete a \\u201cGoal Modification\\u201d in Envestnet for the proposal(s) that includes the rejected Managed Margin Account(s) in Case <insert case ID>\\n2. Body (see mockup below):\\na. Hello <insert name full name of submitter of the case (first name, last name)>,\\nb. One or more managed margin accounts have been rejected by Credit in Case <insert case ID & hyperlink to case> due to the following reason(s):\\ni. <insert the Comments entered by the user>\\n1. Include all Credit Officer comments from the current case submission (this means if the Credit Officer has entered multiple comments for the current case submission, then all these comments must be included in this email. It also means that comments from a previous case submission should not be included in this email)\\nc. <insert \\u201cReviewed by\\u201d + \\u201c \\u201c + <insert user\\u2019s first name, last name> + \\u201c on \\u201c + <insert date/timestamp (e.g. 12-Feb-2023 12:56:45 PM Pacific)> based on the approver that rejected the margin account\\nExpected Result: (ONE) Next email notification details are presented:\\n1. Subject line:  Action Required: Complete a \\u201cGoal Modification\\u201d in Envestnet for the proposal(s) that includes the rejected Managed Margin Account(s) in Case <insert case ID>\\n2. Body (see mockup below):\\na. Hello <insert name full name of submitter of the case (first name, last name)>,\\nb. One or more managed margin accounts have been rejected by Credit in Case <insert case ID & hyperlink to case> due to the following reason(s):\\ni. <insert the Comments entered by the user>\\n1. Include all Credit Officer comments from the current case submission (this means if the Credit Officer has entered multiple comments for the current case submission, then all these comments must be included in this email. It also means that comments from a previous case submission should not be included in this email)\\nc. <insert \\u201cReviewed by\\u201d + \\u201c \\u201c + <insert user\\u2019s first name, last name> + \\u201c on \\u201c + <insert date/timestamp (e.g. 12-Feb-2023 12:56:45 PM Pacific)> based on the approver that rejected the margin account\\n\\nTest Case 3:\\nTest Case Description: nan\\nPreconditions: nan\\nSteps: (TWO) Verify next email notification details:\\nd. Case Name:\\ni. <insert case name DE-002 : CaseName>\\ne. Rejected Accounts: \\u2013 if more than one margin account has been rejected, include each on a separate line with the following metadata:\\ni. <DE-122 : AccountNumber>+ \\u201c \\u201c +<DE-294 : FeeType>+ \\u201c \\u201c +<DE-242 : AccountType > LookupDescription>+ \\u201c \\u201c +<DE-241 : Currency> where the Credit Officer has clicked \\u201cTrades Off\\u201d (sort alphanumerically) (As CO I wish to assess cases where one or more margin accounts have been sought as a credit officer so that I can accept or reject margin accounts depending on the client's creditworthiness to lower risk for the customer and the company)\\nf. Action Required:\\ni. In Envestnet you must complete a \\u201cModify Strategy\\u201d for the corresponding Envestnet Goal listed below. The \\u201cModify Strategy\\u201d will update the allocation percentages which must now exclude the rejected managed margin account(s). You should notify the Client regarding the rejected margin account(s), Also note, there are one or more accounts in the case that have been approved and can be successfully advanced in the workflow.\\ng. Client Name:  <insert PDE-008 : FamilyName>\\nExpected Result: (TWO) Verify next email notification details:\\nd. Case Name:\\ni. <insert case name DE-002 : CaseName>\\ne. Rejected Accounts: \\u2013 if more than one margin account has been rejected, include each on a separate line with the following metadata:\\ni. <DE-122 : AccountNumber>+ \\u201c \\u201c +<DE-294 : FeeType>+ \\u201c \\u201c +<DE-242 : AccountType > LookupDescription>+ \\u201c \\u201c +<DE-241 : Currency> where the Credit Officer has clicked \\u201cTrades Off\\u201d (sort alphanumerically) (As CO I wish to assess cases where one or more margin accounts have been sought as a credit officer so that I can accept or reject margin accounts depending on the client's creditworthiness to lower risk for the customer and the company)\\nf. Action Required:\\ni. In Envestnet you must complete a \\u201cModify Strategy\\u201d for the corresponding Envestnet Goal listed below. The \\u201cModify Strategy\\u201d will update the allocation percentages which must now exclude the rejected managed margin account(s). You should notify the Client regarding the rejected margin account(s), Also note, there are one or more accounts in the case that have been approved and can be successfully advanced in the workflow.\\ng. Client Name:  <insert PDE-008 : FamilyName>\\n\\nTest Case 4:\\nTest Case Description: nan\\nPreconditions: nan\\nSteps: (THREE) Verify next email notification details:\\nh. First Name: <insert PDE-009 : PrimaryMemberFirstName>\\ni. Last Name: <insert PDE-010 : PrimaryMemberLastName>\\nj. Proposal Name:  <insert PDE-005 : ProposalName>\\nk. Proposal:  <insert PDE-004 : ProposalGroupID> + \\u201c:\\u201d + <insert PDE-001 : ProposalID>\\nl.Additional Comments: In order to facilitate this change,  the Portfolio Solutions team have also been sent an email notification to review and action the Service Requests in Envestnet. Please coordinate with the Portfolio Solutions team through the Pulse chat feature in CLM. The Portfolio Solutions team can assist in reviewing and updating the Proposal workflow to ensure that the issue is resolved. All Service Requests related to this proposal must be completed or resolved before you can start a \\u201cModify Strategy\\u201d. \\no. Thank you.\\np. *** This message is sent through an unmonitored e-mail address. Do not reply to this e-mail. ***\\nExpected Result: (THREE) Verify next email notification details:\\nh. First Name: <insert PDE-009 : PrimaryMemberFirstName>\\ni. Last Name: <insert PDE-010 : PrimaryMemberLastName>\\nj. Proposal Name:  <insert PDE-005 : ProposalName>\\nk. Proposal:  <insert PDE-004 : ProposalGroupID> + \\u201c:\\u201d + <insert PDE-001 : ProposalID>\\nl.Additional Comments: In order to facilitate this change,  the Portfolio Solutions team have also been sent an email notification to review and action the Service Requests in Envestnet. Please coordinate with the Portfolio Solutions team through the Pulse chat feature in CLM. The Portfolio Solutions team can assist in reviewing and updating the Proposal workflow to ensure that the issue is resolved. All Service Requests related to this proposal must be completed or resolved before you can start a \\u201cModify Strategy\\u201d. \\no. Thank you.\\np. *** This message is sent through an unmonitored e-mail address. Do not reply to this e-mail. ***\\n\\nTest Case 5:\\nTest Case Description: nan\\nPreconditions: nan\\nSteps: Verify if the spacing/formatting presented to improve readability\\nExpected Result: The spacing/formatting presented to improve readability\\n\\nTest Case 6:\\nTest Case Description: nan\\nPreconditions: nan\\nSteps: Verify if multiple Envestnet Proposals contain rejected margin accounts, then repeat the corresponding section outlined below in the email notification. For example:\\na. Client Name:  <insert PDE-008 : FamilyName>\\nFirst Name: <insert PDE-009 : PrimaryMemberFirstName>\\nLast Name: <insert PDE-010 : PrimaryMemberLastName>\\nEnvestnet Proposal Name:  <insert PDE-005 : ProposalName>\\nEnvestnet Proposal:  <insert PDE-004 : ProposalGroupID> + \\u201c:\\u201d + <insert PDE-001 : ProposalID>\\nb. include a space or line to separate each unique proposal\\nc. Client Name:  <insert PDE-008 : FamilyName>\\nFirst Name: <insert PDE-009 : PrimaryMemberFirstName>\\nLast Name: <insert PDE-010 : PrimaryMemberLastName>\\nEnvestnet Proposal Name:  <insert PDE-005 : ProposalName>\\nEnvestnet Proposal:  <insert PDE-004 : ProposalGroupID> + \\u201c:\\u201d + <insert PDE-001 : ProposalID>\\nd. include a space or line to separate each unique proposal\\ne. and so on\\nExpected Result: When multiple Envestnet Proposals contain rejected margin accounts, then repeat the corresponding section outlined below in the email notification. For example:\\na. Client Name:  <insert PDE-008 : FamilyName>\\nFirst Name: <insert PDE-009 : PrimaryMemberFirstName>\\nLast Name: <insert PDE-010 : PrimaryMemberLastName>\\nEnvestnet Proposal Name:  <insert PDE-005 : ProposalName>\\nEnvestnet Proposal:  <insert PDE-004 : ProposalGroupID> + \\u201c:\\u201d + <insert PDE-001 : ProposalID>\\nb. include a space or line to separate each unique proposal\\nc. Client Name:  <insert PDE-008 : FamilyName>\\nFirst Name: <insert PDE-009 : PrimaryMemberFirstName>\\nLast Name: <insert PDE-010 : PrimaryMemberLastName>\\nEnvestnet Proposal Name:  <insert PDE-005 : ProposalName>\\nEnvestnet Proposal:  <insert PDE-004 : ProposalGroupID> + \\u201c:\\u201d + <insert PDE-001 : ProposalID>\\nd. include a space or line to separate each unique proposal\\ne. and so on\\n\\nTest Case 7:\\nTest Case Description: The case ONLY contains PIM margin accounts in the same proposal\\nPreconditions:\\nPre-Conditions\\n1. Create a NC \\n2. The case ONLY contains PIM margin accounts in the same proposal\\nSteps: (TWO) Verify next email notification details:\\nd. Case Name:\\ni. <insert case name DE-002 : CaseName>\\ne. Rejected Accounts: \\u2013 if more than one margin account has been rejected, include each on a separate line with the following metadata:\\ni. <DE-122 : AccountNumber>+ \\u201c \\u201c +<DE-294 : FeeType>+ \\u201c \\u201c +<DE-242 : AccountType > LookupDescription>+ \\u201c \\u201c +<DE-241 : Currency> where the Credit Officer has clicked \\u201cTrades Off\\u201d (sort alphanumerically) (As CO I wish to assess cases where one or more margin accounts have been sought as a credit officer so that I can accept or reject margin accounts depending on the client's creditworthiness to lower risk for the customer and the company)\\nf. Action Required:\\ni. In Envestnet you must complete a \\u201cModify Strategy\\u201d for the corresponding Envestnet Goal listed below. The \\u201cModify Strategy\\u201d will update the allocation percentages which must now exclude the rejected managed margin account(s). You should notify the Client regarding the rejected margin account(s), Also note, there are one or more accounts in the case that have been approved and can be successfully advanced in the workflow.\\ng. Client Name:  <insert PDE-008 : FamilyName>\\nExpected Result: (TWO) Verify next email notification details:\\nd. Case Name:\\ni. <insert case name DE-002 : CaseName>\\ne. Rejected Accounts: \\u2013 if more than one margin account has been rejected, include each on a separate line with the following metadata:\\ni. <DE-122 : AccountNumber>+ \\u201c \\u201c +<DE-294 : FeeType>+ \\u201c \\u201c +<DE-242 : AccountType > LookupDescription>+ \\u201c \\u201c +<DE-241 : Currency> where the Credit Officer has clicked \\u201cTrades Off\\u201d (sort alphanumerically) (As CO I wish to assess cases where one or more margin accounts have been sought as a credit officer so that I can accept or reject margin accounts depending on the client's creditworthiness to lower risk for the customer and the company)\\nf. Action Required:\\ni. In Envestnet you must complete a \\u201cModify Strategy\\u201d for the corresponding Envestnet Goal listed below. The \\u201cModify Strategy\\u201d will update the allocation percentages which must now exclude the rejected managed margin account(s). You should notify the Client regarding the rejected margin account(s), Also note, there are one or more accounts in the case that have been approved and can be successfully advanced in the workflow.\\ng. Client Name:  <insert PDE-008 : FamilyName>\\n\\nTest Case 8:\\nTest Case Description: nan\\nPreconditions: nan\\nSteps: (THREE) Verify next email notification details:\\nh. First Name: <insert PDE-009 : PrimaryMemberFirstName>\\ni. Last Name: <insert PDE-010 : PrimaryMemberLastName>\\nj. Proposal Name:  <insert PDE-005 : ProposalName>\\nk. Proposal:  <insert PDE-004 : ProposalGroupID> + \\u201c:\\u201d + <insert PDE-001 : ProposalID>\\nl.Additional Comments: In order to facilitate this change,  the Portfolio Solutions team have also been sent an email notification to review and action the Service Requests in Envestnet. Please coordinate with the Portfolio Solutions team through the Pulse chat feature in CLM. The Portfolio Solutions team can assist in reviewing and updating the Proposal workflow to ensure that the issue is resolved. All Service Requests related to this proposal must be completed or resolved before you can start a \\u201cModify Strategy\\u201d. \\no. Thank you.\\np. *** This message is sent through an unmonitored e-mail address. Do not reply to this e-mail. ***\\nExpected Result: (THREE) Verify next email notification details:\\nh. First Name: <insert PDE-009 : PrimaryMemberFirstName>\\ni. Last Name: <insert PDE-010 : PrimaryMemberLastName>\\nj. Proposal Name:  <insert PDE-005 : ProposalName>\\nk. Proposal:  <insert PDE-004 : ProposalGroupID> + \\u201c:\\u201d + <insert PDE-001 : ProposalID>\\nl.Additional Comments: In order to facilitate this change,  the Portfolio Solutions team have also been sent an email notification to review and action the Service Requests in Envestnet. Please coordinate with the Portfolio Solutions team through the Pulse chat feature in CLM. The Portfolio Solutions team can assist in reviewing and updating the Proposal workflow to ensure that the issue is resolved. All Service Requests related to this proposal must be completed or resolved before you can start a \\u201cModify Strategy\\u201d. \\no. Thank you.\\np. *** This message is sent through an unmonitored e-mail address. Do not reply to this e-mail. ***\\n\\nTest Case 9:\\nTest Case Description: The Credit Officer has rejected either 1 or all the PIM margin accounts, when the case has at least 1 UMA account\\nPreconditions:\\nPre-Conditions\\n1. Create a NC \\n2. The Credit Officer has rejected either 1 or all the PIM margin accounts, when the case has at least 1 UMA account\\nSteps: (TWO) Verify next email notification details:\\nd. Case Name:\\ni. <insert case name DE-002 : CaseName>\\ne. Rejected Accounts: \\u2013 if more than one margin account has been rejected, include each on a separate line with the following metadata:\\ni. <DE-122 : AccountNumber>+ \\u201c \\u201c +<DE-294 : FeeType>+ \\u201c \\u201c +<DE-242 : AccountType > LookupDescription>+ \\u201c \\u201c +<DE-241 : Currency> where the Credit Officer has clicked \\u201cTrades Off\\u201d (sort alphanumerically) (As CO I wish to assess cases where one or more margin accounts have been sought as a credit officer so that I can accept or reject margin accounts depending on the client's creditworthiness to lower risk for the customer and the company)\\nf. Action Required:\\ni. In Envestnet you must complete a \\u201cModify Strategy\\u201d for the corresponding Envestnet Goal listed below. The \\u201cModify Strategy\\u201d will update the allocation percentages which must now exclude the rejected managed margin account(s). You should notify the Client regarding the rejected margin account(s), Also note, there are one or more accounts in the case that have been approved and can be successfully advanced in the workflow.\\ng. Client Name:  <insert PDE-008 : FamilyName>\\nExpected Result: (TWO) Verify next email notification details:\\nd. Case Name:\\ni. <insert case name DE-002 : CaseName>\\ne. Rejected Accounts: \\u2013 if more than one margin account has been rejected, include each on a separate line with the following metadata:\\ni. <DE-122 : AccountNumber>+ \\u201c \\u201c +<DE-294 : FeeType>+ \\u201c \\u201c +<DE-242 : AccountType > LookupDescription>+ \\u201c \\u201c +<DE-241 : Currency> where the Credit Officer has clicked \\u201cTrades Off\\u201d (sort alphanumerically) (As CO I wish to assess cases where one or more margin accounts have been sought as a credit officer so that I can accept or reject margin accounts depending on the client's creditworthiness to lower risk for the customer and the company)\\nf. Action Required:\\ni. In Envestnet you must complete a \\u201cModify Strategy\\u201d for the corresponding Envestnet Goal listed below. The \\u201cModify Strategy\\u201d will update the allocation percentages which must now exclude the rejected managed margin account(s). You should notify the Client regarding the rejected margin account(s), Also note, there are one or more accounts in the case that have been approved and can be successfully advanced in the workflow.\\ng. Client Name:  <insert PDE-008 : FamilyName>\\n\\nTest Case 10:\\nTest Case Description: nan\\nPreconditions: nan\\nSteps: (THREE) Verify next email notification details:\\nh. First Name: <insert PDE-009 : PrimaryMemberFirstName>\\ni. Last Name: <insert PDE-010 : PrimaryMemberLastName>\\nj. Proposal Name:  <insert PDE-005 : ProposalName>\\nk. Proposal:  <insert PDE-004 : ProposalGroupID> + \\u201c:\\u201d + <insert PDE-001 : ProposalID>\\nl.Additional Comments: In order to facilitate this change,  the Portfolio Solutions team have also been sent an email notification to review and action the Service Requests in Envestnet. Please coordinate with the Portfolio Solutions team through the Pulse chat feature in CLM. The Portfolio Solutions team can assist in reviewing and updating the Proposal workflow to ensure that the issue is resolved. All Service Requests related to this proposal must be completed or resolved before you can start a \\u201cModify Strategy\\u201d. \\no. Thank you.\\np. *** This message is sent through an unmonitored e-mail address. Do not reply to this e-mail. ***\\nExpected Result: (THREE) Verify next email notification details:\\nh. First Name: <insert PDE-009 : PrimaryMemberFirstName>\\ni. Last Name: <insert PDE-010 : PrimaryMemberLastName>\\nj. Proposal Name:  <insert PDE-005 : ProposalName>\\nk. Proposal:  <insert PDE-004 : ProposalGroupID> + \\u201c:\\u201d + <insert PDE-001 : ProposalID>\\nl.Additional Comments: In order to facilitate this change,  the Portfolio Solutions team have also been sent an email notification to review and action the Service Requests in Envestnet. Please coordinate with the Portfolio Solutions team through the Pulse chat feature in CLM. The Portfolio Solutions team can assist in reviewing and updating the Proposal workflow to ensure that the issue is resolved. All Service Requests related to this proposal must be completed or resolved before you can start a \\u201cModify Strategy\\u201d. \\no. Thank you.\\np. *** This message is sent through an unmonitored e-mail address. Do not reply to this e-mail. ***\\n\\nTest Case 11:\\nTest Case Description: The Credit Officer has rejected ONLY 1  PIM margin account, when the case contains more than 1 PIM margin accounts and no UMA accounts\\nPreconditions:\\nPre-Conditions\\n1. Create a NC \\n2.The Credit Officer has rejected ONLY 1  PIM margin account, when the case contains more than 1 PIM margin accounts and no UMA accounts\\nSteps: (TWO) Verify next email notification details:\\nd. Case Name:\\ni. <insert case name DE-002 : CaseName>\\ne. Rejected Accounts: \\u2013 if more than one margin account has been rejected, include each on a separate line with the following metadata:\\ni. <DE-122 : AccountNumber>+ \\u201c \\u201c +<DE-294 : FeeType>+ \\u201c \\u201c +<DE-242 : AccountType > LookupDescription>+ \\u201c \\u201c +<DE-241 : Currency> where the Credit Officer has clicked \\u201cTrades Off\\u201d (sort alphanumerically) (As CO I wish to assess cases where one or more margin accounts have been sought as a credit officer so that I can accept or reject margin accounts depending on the client's creditworthiness to lower risk for the customer and the company)\\nf. Action Required:\\ni. In Envestnet you must complete a \\u201cModify Strategy\\u201d for the corresponding Envestnet Goal listed below. The \\u201cModify Strategy\\u201d will update the allocation percentages which must now exclude the rejected managed margin account(s). You should notify the Client regarding the rejected margin account(s), Also note, there are one or more accounts in the case that have been approved and can be successfully advanced in the workflow.\\ng. Client Name:  <insert PDE-008 : FamilyName>\\nExpected Result: (TWO) Verify next email notification details:\\nd. Case Name:\\ni. <insert case name DE-002 : CaseName>\\ne. Rejected Accounts: \\u2013 if more than one margin account has been rejected, include each on a separate line with the following metadata:\\ni. <DE-122 : AccountNumber>+ \\u201c \\u201c +<DE-294 : FeeType>+ \\u201c \\u201c +<DE-242 : AccountType > LookupDescription>+ \\u201c \\u201c +<DE-241 : Currency> where the Credit Officer has clicked \\u201cTrades Off\\u201d (sort alphanumerically) (As CO I wish to assess cases where one or more margin accounts have been sought as a credit officer so that I can accept or reject margin accounts depending on the client's creditworthiness to lower risk for the customer and the company)\\nf. Action Required:\\ni. In Envestnet you must complete a \\u201cModify Strategy\\u201d for the corresponding Envestnet Goal listed below. The \\u201cModify Strategy\\u201d will update the allocation percentages which must now exclude the rejected managed margin account(s). You should notify the Client regarding the rejected margin account(s), Also note, there are one or more accounts in the case that have been approved and can be successfully advanced in the workflow.\\ng. Client Name:  <insert PDE-008 : FamilyName>\\n\\nTest Case 12:\\nTest Case Description: nan\\nPreconditions: nan\\nSteps: (THREE) Verify next email notification details:\\nh. First Name: <insert PDE-009 : PrimaryMemberFirstName>\\ni. Last Name: <insert PDE-010 : PrimaryMemberLastName>\\nj. Proposal Name:  <insert PDE-005 : ProposalName>\\nk. Proposal:  <insert PDE-004 : ProposalGroupID> + \\u201c:\\u201d + <insert PDE-001 : ProposalID>\\nl.Additional Comments: In order to facilitate this change,  the Portfolio Solutions team have also been sent an email notification to review and action the Service Requests in Envestnet. Please coordinate with the Portfolio Solutions team through the Pulse chat feature in CLM. The Portfolio Solutions team can assist in reviewing and updating the Proposal workflow to ensure that the issue is resolved. All Service Requests related to this proposal must be completed or resolved before you can start a \\u201cModify Strategy\\u201d. \\no. Thank you.\\np. *** This message is sent through an unmonitored e-mail address. Do not reply to this e-mail. ***\\nExpected Result: (THREE) Verify next email notification details:\\nh. First Name: <insert PDE-009 : PrimaryMemberFirstName>\\ni. Last Name: <insert PDE-010 : PrimaryMemberLastName>\\nj. Proposal Name:  <insert PDE-005 : ProposalName>\\nk. Proposal:  <insert PDE-004 : ProposalGroupID> + \\u201c:\\u201d + <insert PDE-001 : ProposalID>\\nl.Additional Comments: In order to facilitate this change,  the Portfolio Solutions team have also been sent an email notification to review and action the Service Requests in Envestnet. Please coordinate with the Portfolio Solutions team through the Pulse chat feature in CLM. The Portfolio Solutions team can assist in reviewing and updating the Proposal workflow to ensure that the issue is resolved. All Service Requests related to this proposal must be completed or resolved before you can start a \\u201cModify Strategy\\u201d. \\no. Thank you.\\np. *** This message is sent through an unmonitored e-mail address. Do not reply to this e-mail. ***\\n\\nTest Case 13:\\nTest Case Description: nan\\nPreconditions:\\nPre-Conditions\\n1. Create a NC                                               2.System could contain other approved accounts BUT in a different ENV proposal\\nSteps: System should not trigger this email. It is going to be triggered the CLM-10898 email\\nExpected Result: System should not trigger this email. It is going to be triggered the CLM-10898 email\\n\\n\"\n        ],\n        \"semantic_type\": \"\",\n        \"description\": \"\"\n      }\n    }\n  ]\n}",
              "type": "dataframe",
              "variable_name": "df_STP"
            },
            "text/html": [
              "\n",
              "  <div id=\"df-567d94cd-a3f8-4524-a515-c39b9509f628\" class=\"colab-df-container\">\n",
              "    <div>\n",
              "<style scoped>\n",
              "    .dataframe tbody tr th:only-of-type {\n",
              "        vertical-align: middle;\n",
              "    }\n",
              "\n",
              "    .dataframe tbody tr th {\n",
              "        vertical-align: top;\n",
              "    }\n",
              "\n",
              "    .dataframe thead th {\n",
              "        text-align: right;\n",
              "    }\n",
              "</style>\n",
              "<table border=\"1\" class=\"dataframe\">\n",
              "  <thead>\n",
              "    <tr style=\"text-align: right;\">\n",
              "      <th></th>\n",
              "      <th>file_name</th>\n",
              "      <th>STP</th>\n",
              "    </tr>\n",
              "  </thead>\n",
              "  <tbody>\n",
              "    <tr>\n",
              "      <th>0</th>\n",
              "      <td>CLM-13972.xlsx</td>\n",
              "      <td>Test Case 1:\\nTest Case Description: Update Cl...</td>\n",
              "    </tr>\n",
              "    <tr>\n",
              "      <th>1</th>\n",
              "      <td>CLM-14010.xlsx</td>\n",
              "      <td>Test Case 1:\\nTest Case Description: Validate ...</td>\n",
              "    </tr>\n",
              "    <tr>\n",
              "      <th>2</th>\n",
              "      <td>CLM-14023.xlsx</td>\n",
              "      <td>Test Case 1:\\nTest Case Description: Update 'I...</td>\n",
              "    </tr>\n",
              "    <tr>\n",
              "      <th>3</th>\n",
              "      <td>CLM-14024.xlsx</td>\n",
              "      <td>Test Case 1:\\nTest Case Description: Update Di...</td>\n",
              "    </tr>\n",
              "    <tr>\n",
              "      <th>4</th>\n",
              "      <td>CLM-14006.xlsx</td>\n",
              "      <td>Test Case 1:\\nTest Case Description: Update Ne...</td>\n",
              "    </tr>\n",
              "  </tbody>\n",
              "</table>\n",
              "</div>\n",
              "    <div class=\"colab-df-buttons\">\n",
              "\n",
              "  <div class=\"colab-df-container\">\n",
              "    <button class=\"colab-df-convert\" onclick=\"convertToInteractive('df-567d94cd-a3f8-4524-a515-c39b9509f628')\"\n",
              "            title=\"Convert this dataframe to an interactive table.\"\n",
              "            style=\"display:none;\">\n",
              "\n",
              "  <svg xmlns=\"http://www.w3.org/2000/svg\" height=\"24px\" viewBox=\"0 -960 960 960\">\n",
              "    <path d=\"M120-120v-720h720v720H120Zm60-500h600v-160H180v160Zm220 220h160v-160H400v160Zm0 220h160v-160H400v160ZM180-400h160v-160H180v160Zm440 0h160v-160H620v160ZM180-180h160v-160H180v160Zm440 0h160v-160H620v160Z\"/>\n",
              "  </svg>\n",
              "    </button>\n",
              "\n",
              "  <style>\n",
              "    .colab-df-container {\n",
              "      display:flex;\n",
              "      gap: 12px;\n",
              "    }\n",
              "\n",
              "    .colab-df-convert {\n",
              "      background-color: #E8F0FE;\n",
              "      border: none;\n",
              "      border-radius: 50%;\n",
              "      cursor: pointer;\n",
              "      display: none;\n",
              "      fill: #1967D2;\n",
              "      height: 32px;\n",
              "      padding: 0 0 0 0;\n",
              "      width: 32px;\n",
              "    }\n",
              "\n",
              "    .colab-df-convert:hover {\n",
              "      background-color: #E2EBFA;\n",
              "      box-shadow: 0px 1px 2px rgba(60, 64, 67, 0.3), 0px 1px 3px 1px rgba(60, 64, 67, 0.15);\n",
              "      fill: #174EA6;\n",
              "    }\n",
              "\n",
              "    .colab-df-buttons div {\n",
              "      margin-bottom: 4px;\n",
              "    }\n",
              "\n",
              "    [theme=dark] .colab-df-convert {\n",
              "      background-color: #3B4455;\n",
              "      fill: #D2E3FC;\n",
              "    }\n",
              "\n",
              "    [theme=dark] .colab-df-convert:hover {\n",
              "      background-color: #434B5C;\n",
              "      box-shadow: 0px 1px 3px 1px rgba(0, 0, 0, 0.15);\n",
              "      filter: drop-shadow(0px 1px 2px rgba(0, 0, 0, 0.3));\n",
              "      fill: #FFFFFF;\n",
              "    }\n",
              "  </style>\n",
              "\n",
              "    <script>\n",
              "      const buttonEl =\n",
              "        document.querySelector('#df-567d94cd-a3f8-4524-a515-c39b9509f628 button.colab-df-convert');\n",
              "      buttonEl.style.display =\n",
              "        google.colab.kernel.accessAllowed ? 'block' : 'none';\n",
              "\n",
              "      async function convertToInteractive(key) {\n",
              "        const element = document.querySelector('#df-567d94cd-a3f8-4524-a515-c39b9509f628');\n",
              "        const dataTable =\n",
              "          await google.colab.kernel.invokeFunction('convertToInteractive',\n",
              "                                                    [key], {});\n",
              "        if (!dataTable) return;\n",
              "\n",
              "        const docLinkHtml = 'Like what you see? Visit the ' +\n",
              "          '<a target=\"_blank\" href=https://colab.research.google.com/notebooks/data_table.ipynb>data table notebook</a>'\n",
              "          + ' to learn more about interactive tables.';\n",
              "        element.innerHTML = '';\n",
              "        dataTable['output_type'] = 'display_data';\n",
              "        await google.colab.output.renderOutput(dataTable, element);\n",
              "        const docLink = document.createElement('div');\n",
              "        docLink.innerHTML = docLinkHtml;\n",
              "        element.appendChild(docLink);\n",
              "      }\n",
              "    </script>\n",
              "  </div>\n",
              "\n",
              "\n",
              "<div id=\"df-34932878-5a01-46fa-a60b-9183b9e51270\">\n",
              "  <button class=\"colab-df-quickchart\" onclick=\"quickchart('df-34932878-5a01-46fa-a60b-9183b9e51270')\"\n",
              "            title=\"Suggest charts\"\n",
              "            style=\"display:none;\">\n",
              "\n",
              "<svg xmlns=\"http://www.w3.org/2000/svg\" height=\"24px\"viewBox=\"0 0 24 24\"\n",
              "     width=\"24px\">\n",
              "    <g>\n",
              "        <path d=\"M19 3H5c-1.1 0-2 .9-2 2v14c0 1.1.9 2 2 2h14c1.1 0 2-.9 2-2V5c0-1.1-.9-2-2-2zM9 17H7v-7h2v7zm4 0h-2V7h2v10zm4 0h-2v-4h2v4z\"/>\n",
              "    </g>\n",
              "</svg>\n",
              "  </button>\n",
              "\n",
              "<style>\n",
              "  .colab-df-quickchart {\n",
              "      --bg-color: #E8F0FE;\n",
              "      --fill-color: #1967D2;\n",
              "      --hover-bg-color: #E2EBFA;\n",
              "      --hover-fill-color: #174EA6;\n",
              "      --disabled-fill-color: #AAA;\n",
              "      --disabled-bg-color: #DDD;\n",
              "  }\n",
              "\n",
              "  [theme=dark] .colab-df-quickchart {\n",
              "      --bg-color: #3B4455;\n",
              "      --fill-color: #D2E3FC;\n",
              "      --hover-bg-color: #434B5C;\n",
              "      --hover-fill-color: #FFFFFF;\n",
              "      --disabled-bg-color: #3B4455;\n",
              "      --disabled-fill-color: #666;\n",
              "  }\n",
              "\n",
              "  .colab-df-quickchart {\n",
              "    background-color: var(--bg-color);\n",
              "    border: none;\n",
              "    border-radius: 50%;\n",
              "    cursor: pointer;\n",
              "    display: none;\n",
              "    fill: var(--fill-color);\n",
              "    height: 32px;\n",
              "    padding: 0;\n",
              "    width: 32px;\n",
              "  }\n",
              "\n",
              "  .colab-df-quickchart:hover {\n",
              "    background-color: var(--hover-bg-color);\n",
              "    box-shadow: 0 1px 2px rgba(60, 64, 67, 0.3), 0 1px 3px 1px rgba(60, 64, 67, 0.15);\n",
              "    fill: var(--button-hover-fill-color);\n",
              "  }\n",
              "\n",
              "  .colab-df-quickchart-complete:disabled,\n",
              "  .colab-df-quickchart-complete:disabled:hover {\n",
              "    background-color: var(--disabled-bg-color);\n",
              "    fill: var(--disabled-fill-color);\n",
              "    box-shadow: none;\n",
              "  }\n",
              "\n",
              "  .colab-df-spinner {\n",
              "    border: 2px solid var(--fill-color);\n",
              "    border-color: transparent;\n",
              "    border-bottom-color: var(--fill-color);\n",
              "    animation:\n",
              "      spin 1s steps(1) infinite;\n",
              "  }\n",
              "\n",
              "  @keyframes spin {\n",
              "    0% {\n",
              "      border-color: transparent;\n",
              "      border-bottom-color: var(--fill-color);\n",
              "      border-left-color: var(--fill-color);\n",
              "    }\n",
              "    20% {\n",
              "      border-color: transparent;\n",
              "      border-left-color: var(--fill-color);\n",
              "      border-top-color: var(--fill-color);\n",
              "    }\n",
              "    30% {\n",
              "      border-color: transparent;\n",
              "      border-left-color: var(--fill-color);\n",
              "      border-top-color: var(--fill-color);\n",
              "      border-right-color: var(--fill-color);\n",
              "    }\n",
              "    40% {\n",
              "      border-color: transparent;\n",
              "      border-right-color: var(--fill-color);\n",
              "      border-top-color: var(--fill-color);\n",
              "    }\n",
              "    60% {\n",
              "      border-color: transparent;\n",
              "      border-right-color: var(--fill-color);\n",
              "    }\n",
              "    80% {\n",
              "      border-color: transparent;\n",
              "      border-right-color: var(--fill-color);\n",
              "      border-bottom-color: var(--fill-color);\n",
              "    }\n",
              "    90% {\n",
              "      border-color: transparent;\n",
              "      border-bottom-color: var(--fill-color);\n",
              "    }\n",
              "  }\n",
              "</style>\n",
              "\n",
              "  <script>\n",
              "    async function quickchart(key) {\n",
              "      const quickchartButtonEl =\n",
              "        document.querySelector('#' + key + ' button');\n",
              "      quickchartButtonEl.disabled = true;  // To prevent multiple clicks.\n",
              "      quickchartButtonEl.classList.add('colab-df-spinner');\n",
              "      try {\n",
              "        const charts = await google.colab.kernel.invokeFunction(\n",
              "            'suggestCharts', [key], {});\n",
              "      } catch (error) {\n",
              "        console.error('Error during call to suggestCharts:', error);\n",
              "      }\n",
              "      quickchartButtonEl.classList.remove('colab-df-spinner');\n",
              "      quickchartButtonEl.classList.add('colab-df-quickchart-complete');\n",
              "    }\n",
              "    (() => {\n",
              "      let quickchartButtonEl =\n",
              "        document.querySelector('#df-34932878-5a01-46fa-a60b-9183b9e51270 button');\n",
              "      quickchartButtonEl.style.display =\n",
              "        google.colab.kernel.accessAllowed ? 'block' : 'none';\n",
              "    })();\n",
              "  </script>\n",
              "</div>\n",
              "\n",
              "    </div>\n",
              "  </div>\n"
            ],
            "text/plain": [
              "        file_name                                                STP\n",
              "0  CLM-13972.xlsx  Test Case 1:\\nTest Case Description: Update Cl...\n",
              "1  CLM-14010.xlsx  Test Case 1:\\nTest Case Description: Validate ...\n",
              "2  CLM-14023.xlsx  Test Case 1:\\nTest Case Description: Update 'I...\n",
              "3  CLM-14024.xlsx  Test Case 1:\\nTest Case Description: Update Di...\n",
              "4  CLM-14006.xlsx  Test Case 1:\\nTest Case Description: Update Ne..."
            ]
          },
          "execution_count": 27,
          "metadata": {},
          "output_type": "execute_result"
        }
      ],
      "source": [
        "# Display head\n",
        "df_STP.head()"
      ]
    },
    {
      "cell_type": "code",
      "execution_count": null,
      "metadata": {
        "colab": {
          "base_uri": "https://localhost:8080/"
        },
        "id": "o0KEVmVp0_1a",
        "outputId": "d17e0ffc-7bb5-4719-e27f-0e6995d8ac52"
      },
      "outputs": [
        {
          "data": {
            "text/plain": [
              "file_name    0\n",
              "STP          0\n",
              "dtype: int64"
            ]
          },
          "execution_count": 28,
          "metadata": {},
          "output_type": "execute_result"
        }
      ],
      "source": [
        "# Check for missing values\n",
        "df_STP.isnull().sum()"
      ]
    },
    {
      "cell_type": "markdown",
      "metadata": {
        "id": "0FvxwvtV0_1c"
      },
      "source": [
        "=> This output shows that there are no missing values"
      ]
    },
    {
      "cell_type": "code",
      "execution_count": null,
      "metadata": {
        "colab": {
          "base_uri": "https://localhost:8080/"
        },
        "id": "ankiAn-j0_1c",
        "outputId": "a8baed9a-e9f5-4ab9-817d-35c55a0413ef"
      },
      "outputs": [
        {
          "name": "stdout",
          "output_type": "stream",
          "text": [
            "Empty DataFrame\n",
            "Columns: [file_name, STP]\n",
            "Index: []\n"
          ]
        }
      ],
      "source": [
        "# Check for duplicates\n",
        "duplicates = df_STP.duplicated()\n",
        "print(df_STP[duplicates])"
      ]
    },
    {
      "cell_type": "markdown",
      "metadata": {
        "id": "tgvMqcEn0_1i"
      },
      "source": [
        "=> the empty DataFrame shows that there are are no duplicate rows in our dataset"
      ]
    },
    {
      "cell_type": "markdown",
      "metadata": {
        "id": "juY_aObpub4m"
      },
      "source": [
        "### **Data Preprocessing**"
      ]
    },
    {
      "cell_type": "code",
      "execution_count": 30,
      "metadata": {
        "colab": {
          "base_uri": "https://localhost:8080/",
          "height": 206
        },
        "id": "0YXtlfbaCPgC",
        "outputId": "92a09a95-ee38-47ec-ba49-0946bc7e3336"
      },
      "outputs": [
        {
          "data": {
            "application/vnd.google.colaboratory.intrinsic+json": {
              "summary": "{\n  \"name\": \"df_STP\",\n  \"rows\": 43,\n  \"fields\": [\n    {\n      \"column\": \"file_name\",\n      \"properties\": {\n        \"dtype\": \"string\",\n        \"num_unique_values\": 43,\n        \"samples\": [\n          \"CLM-16657\",\n          \"CLM-11867\",\n          \"CLM-10675\"\n        ],\n        \"semantic_type\": \"\",\n        \"description\": \"\"\n      }\n    },\n    {\n      \"column\": \"STP\",\n      \"properties\": {\n        \"dtype\": \"string\",\n        \"num_unique_values\": 43,\n        \"samples\": [\n          \"Test Case 1:\\nTest Case Description: RC518 form title for Holder when the Client Type is \\\"Joint with Spouce\\\"\\nPreconditions:\\n1. Create a new case\\n2. User select as Client Type \\\"Joint with Spouse\\\"\\n3. User fill all the mandatory questions \\n4. User must have successfully completed Capture KYC stage and submit the case\\n5. System is generating forms.\\nSteps: Verify that holder\\u2019s first name and last name are added Infront of RC518 form under Table of Contents in NCAF Summary form\\neg: \\u201cRC518 Declaration of Tax Residence for Individuals_FirstName LastName\\u201d\\nExpected Result: holder\\u2019s first name and last name are added Infront of RC518 form under Table of Contents in NCAF Summary form\\neg: \\u201cRC518 Declaration of Tax Residence for Individuals_FirstName LastName\\u201d\\n\\nTest Case 2:\\nTest Case Description: RC518 form title for Co-Holder when the Client Type is \\\"Joint with Spouce\\\"\\nPreconditions:\\n1. Create a new case\\n2. User select as Client Type \\\"Joint with Spouse\\\"\\n3. User fill all the mandatory questions \\n4. User must have successfully completed Capture KYC stage and submit the case\\n5. System is generating forms.\\nSteps: Verify that co-holder\\u2019s first name and last name are added Infront of RC518 form under Table of Contents in NCAF Summary form\\neg: \\u201cRC518 Declaration of Tax Residence for Individuals_FirstName LastName\\u201d\\nExpected Result: co-holder\\u2019s first name and last name are added Infront of RC518 form under Table of Contents in NCAF Summary form\\neg: \\u201cRC518 Declaration of Tax Residence for Individuals_FirstName LastName\\u201d\\n\\nTest Case 3:\\nTest Case Description: RC518 form title for Holder when the Client Type is \\\"Individual\\\"\\nPreconditions:\\n1. Create a new case\\n2. User select as Client Type \\\"Individual\\\"\\n3. User fill all the mandatory questions \\n4. User must have successfully completed Capture KYC stage and submit the case\\n5. System is generating forms.\\nSteps: Verify that holder\\u2019s first name and last name are added Infront of RC518 form under Table of Contents in NCAF Summary form\\neg: \\u201cRC518 Declaration of Tax Residence for Individuals_FirstName LastName\\u201d\\nExpected Result: holder\\u2019s first name and last name are added Infront of RC518 form under Table of Contents in NCAF Summary form\\neg: \\u201cRC518 Declaration of Tax Residence for Individuals_FirstName LastName\\u201d\\n\\n\",\n          \"Test Case 1:\\nTest Case Description:  the Void Docusign API does not return a successful response (200 HTTP response)\\nPreconditions:\\n1.Create a new case \\n2.the IA Submit the case \\n3.In signing stage the user click on the \\u201cPrevious\\u201d button in the \\u201cReview Envelope Details\\u201d screen\\nSteps: Verify that an email notification  will be send to:\\n1.clmproject@cgf.com, \\n2.pegaadmin@cgf.com \\n3.and cc canaccord.support@rulescube.com\\n\\n\\nExpected Result: an email notification  will be send to:\\n1.clmproject@cgf.com, \\n2.pegaadmin@cgf.com \\n3.and cc canaccord.support@rulescube.com\\n\\nTest Case 2:\\nTest Case Description: nan\\nPreconditions:\\n1.Create a new case \\n2.the IA Submit the case \\n3.In signing stage the user click on the \\u201cPrevious\\u201d button in the \\u201cReview Envelope Details\\u201d screen\\nSteps: Verify that the Subject is : Pega CaseID <insert case ID>: The  Docusign Void API returned an error. Action is required to resolve the issue.\\n\\n\\nExpected Result: the Subject is : Pega CaseID <insert case ID>: The  Docusign Void API returned an error. Action is required to resolve the issue.\\n\\n\\nTest Case 3:\\nTest Case Description: nan\\nPreconditions:\\n1.Create a new case \\n2.the IA Submit the case \\n3.In signing stage the user click on the \\u201cPrevious\\u201d button in the \\u201cReview Envelope Details\\u201d screen\\nSteps: Verify that the Body is:\\n\\nPega Case ID <insert case ID and hyperlink to the case>.\\n\\nIssue Description: The  Docusign Void API returned a <HTTP response value> HTTP Response. Action is required to resolve the issue. \\n\\nDetails: <insert pyStatusMessage, pyStatusValue>\\n\\nEvent Date/Time: <insert date/time as DD-MMM-YYYY>\\nExpected Result: the Body is:\\n\\nPega Case ID <insert case ID and hyperlink to the case>.\\n\\nIssue Description: The  Docusign Void API returned a <HTTP response value> HTTP Response. Action is required to resolve the issue. \\n\\nDetails: <insert pyStatusMessage, pyStatusValue>\\n\\nEvent Date/Time: <insert date/time as DD-MMM-YYYY>\\n\\nTest Case 4:\\nTest Case Description:  the Void Docusign API return a successful response \\nPreconditions:\\n1.Create a new case \\n2.the IA Submit the case \\n3.In signing stage the user click on the \\u201cPrevious\\u201d button in the \\u201cReview Envelope Details\\u201d screen\\nSteps: Verify that the case will continue with the \\u201cPrevious\\u201d action and move back to the Digital Document Signers UI and change the case status to PENDING-DIGITALDOCUMENTSIGNERS\\nExpected Result: the case will continue with the \\u201cPrevious\\u201d action and move back to the Digital Document Signers UI and change the case status to PENDING-DIGITALDOCUMENTSIGNERS\\n\\nTest Case 5:\\nTest Case Description: the Resend Docusign API does not return a successful response (200 HTTP response),\\nPreconditions:\\n1.Create a new case \\n2.the IA Submit the case \\n3.In signing stage the user click on the \\u201cResend\\u201d button in the \\u201cReview Envelope Details\\u201d screen\\nSteps: Verify that an email notification  will be send to:\\n1.clmproject@cgf.com, \\n2.pegaadmin@cgf.com \\n3.and cc canaccord.support@rulescube.com\\n\\n\\nExpected Result: an email notification sent to:\\n1.clmproject@cgf.com, \\n2.pegaadmin@cgf.com \\n3.and cc canaccord.support@rulescube.com\\n\\n\\n\\nTest Case 6:\\nTest Case Description: nan\\nPreconditions: nan\\nSteps: Verify that the Subject is : Pega CaseID <insert case ID>: The  Docusign Resend API returned an error. Action is required to resolve the issue.\\n\\n\\nExpected Result: the Subject is : Pega CaseID <insert case ID>: The  Docusign Resend API returned an error. Action is required to resolve the issue.\\n\\n\\nTest Case 7:\\nTest Case Description: nan\\nPreconditions: nan\\nSteps: Verify that the Body is:\\nPega Case ID <insert case ID and hyperlink to the case>.\\n\\nIssue Description: The Docusign Resend API returned a <HTTP response value> HTTP Response. Action is required to resolve the issue. \\n\\nDetails: <insert pyStatusMessage, pyStatusValue>\\n\\nEvent Date/Time: <insert date/time as DD-MMM-YYYY>\\nExpected Result:  the Body is:\\nPega Case ID <insert case ID and hyperlink to the case>.\\n\\nIssue Description: The Docusign Resend API returned a <HTTP response value> HTTP Response. Action is required to resolve the issue. \\n\\nDetails: <insert pyStatusMessage, pyStatusValue>\\n\\nEvent Date/Time: <insert date/time as DD-MMM-YYYY>\\n\\n\",\n          \"Test Case 1:\\nTest Case Description: nan\\nPreconditions:\\nPre-Conditions\\n1. Create a NC \\n2. The Credit Officer has rejected one or more PIM margin accounts AND the case contains other approved accounts that are in the same Envestnet Proposal as the rejected PIM margin account(s)\\n\\nSteps: Verify if the email notification (As IA in order for me to inform my customer, I need to know when Credit (rejects all margin accts AND the case also contains other non-margin accounts) OR (only some of the margin accts are rejected AND the case also contains other non-margin accounts)) has been sent to the following users:\\na. The submitter of the parent case\\nb. Cc: All IA Code owners\\nc. Blind CC the CLM project team at clmproject@cgf.com NOTE: The purpose of the blind CC to the project team is because when cases are rejected, the system may have failed to identify a deficiency. A business rule may need to be added to prevent future occurrences\\nExpected Result: The email notification has been sent to the following users:\\na. The submitter of the parent case\\nb. Cc: All IA Code owners\\nc. Blind CC the CLM project team at clmproject@cgf.com NOTE: The purpose of the blind CC to the project team is because when cases are rejected, the system may have failed to identify a deficiency. A business rule may need to be added to prevent future occurrences\\n\\nTest Case 2:\\nTest Case Description: nan\\nPreconditions: nan\\nSteps: (ONE) Next email notification details are presented:\\n1. Subject line:  Action Required: Complete a \\u201cGoal Modification\\u201d in Envestnet for the proposal(s) that includes the rejected Managed Margin Account(s) in Case <insert case ID>\\n2. Body (see mockup below):\\na. Hello <insert name full name of submitter of the case (first name, last name)>,\\nb. One or more managed margin accounts have been rejected by Credit in Case <insert case ID & hyperlink to case> due to the following reason(s):\\ni. <insert the Comments entered by the user>\\n1. Include all Credit Officer comments from the current case submission (this means if the Credit Officer has entered multiple comments for the current case submission, then all these comments must be included in this email. It also means that comments from a previous case submission should not be included in this email)\\nc. <insert \\u201cReviewed by\\u201d + \\u201c \\u201c + <insert user\\u2019s first name, last name> + \\u201c on \\u201c + <insert date/timestamp (e.g. 12-Feb-2023 12:56:45 PM Pacific)> based on the approver that rejected the margin account\\nExpected Result: (ONE) Next email notification details are presented:\\n1. Subject line:  Action Required: Complete a \\u201cGoal Modification\\u201d in Envestnet for the proposal(s) that includes the rejected Managed Margin Account(s) in Case <insert case ID>\\n2. Body (see mockup below):\\na. Hello <insert name full name of submitter of the case (first name, last name)>,\\nb. One or more managed margin accounts have been rejected by Credit in Case <insert case ID & hyperlink to case> due to the following reason(s):\\ni. <insert the Comments entered by the user>\\n1. Include all Credit Officer comments from the current case submission (this means if the Credit Officer has entered multiple comments for the current case submission, then all these comments must be included in this email. It also means that comments from a previous case submission should not be included in this email)\\nc. <insert \\u201cReviewed by\\u201d + \\u201c \\u201c + <insert user\\u2019s first name, last name> + \\u201c on \\u201c + <insert date/timestamp (e.g. 12-Feb-2023 12:56:45 PM Pacific)> based on the approver that rejected the margin account\\n\\nTest Case 3:\\nTest Case Description: nan\\nPreconditions: nan\\nSteps: (TWO) Verify next email notification details:\\nd. Case Name:\\ni. <insert case name DE-002 : CaseName>\\ne. Rejected Accounts: \\u2013 if more than one margin account has been rejected, include each on a separate line with the following metadata:\\ni. <DE-122 : AccountNumber>+ \\u201c \\u201c +<DE-294 : FeeType>+ \\u201c \\u201c +<DE-242 : AccountType > LookupDescription>+ \\u201c \\u201c +<DE-241 : Currency> where the Credit Officer has clicked \\u201cTrades Off\\u201d (sort alphanumerically) (As CO I wish to assess cases where one or more margin accounts have been sought as a credit officer so that I can accept or reject margin accounts depending on the client's creditworthiness to lower risk for the customer and the company)\\nf. Action Required:\\ni. In Envestnet you must complete a \\u201cModify Strategy\\u201d for the corresponding Envestnet Goal listed below. The \\u201cModify Strategy\\u201d will update the allocation percentages which must now exclude the rejected managed margin account(s). You should notify the Client regarding the rejected margin account(s), Also note, there are one or more accounts in the case that have been approved and can be successfully advanced in the workflow.\\ng. Client Name:  <insert PDE-008 : FamilyName>\\nExpected Result: (TWO) Verify next email notification details:\\nd. Case Name:\\ni. <insert case name DE-002 : CaseName>\\ne. Rejected Accounts: \\u2013 if more than one margin account has been rejected, include each on a separate line with the following metadata:\\ni. <DE-122 : AccountNumber>+ \\u201c \\u201c +<DE-294 : FeeType>+ \\u201c \\u201c +<DE-242 : AccountType > LookupDescription>+ \\u201c \\u201c +<DE-241 : Currency> where the Credit Officer has clicked \\u201cTrades Off\\u201d (sort alphanumerically) (As CO I wish to assess cases where one or more margin accounts have been sought as a credit officer so that I can accept or reject margin accounts depending on the client's creditworthiness to lower risk for the customer and the company)\\nf. Action Required:\\ni. In Envestnet you must complete a \\u201cModify Strategy\\u201d for the corresponding Envestnet Goal listed below. The \\u201cModify Strategy\\u201d will update the allocation percentages which must now exclude the rejected managed margin account(s). You should notify the Client regarding the rejected margin account(s), Also note, there are one or more accounts in the case that have been approved and can be successfully advanced in the workflow.\\ng. Client Name:  <insert PDE-008 : FamilyName>\\n\\nTest Case 4:\\nTest Case Description: nan\\nPreconditions: nan\\nSteps: (THREE) Verify next email notification details:\\nh. First Name: <insert PDE-009 : PrimaryMemberFirstName>\\ni. Last Name: <insert PDE-010 : PrimaryMemberLastName>\\nj. Proposal Name:  <insert PDE-005 : ProposalName>\\nk. Proposal:  <insert PDE-004 : ProposalGroupID> + \\u201c:\\u201d + <insert PDE-001 : ProposalID>\\nl.Additional Comments: In order to facilitate this change,  the Portfolio Solutions team have also been sent an email notification to review and action the Service Requests in Envestnet. Please coordinate with the Portfolio Solutions team through the Pulse chat feature in CLM. The Portfolio Solutions team can assist in reviewing and updating the Proposal workflow to ensure that the issue is resolved. All Service Requests related to this proposal must be completed or resolved before you can start a \\u201cModify Strategy\\u201d. \\no. Thank you.\\np. *** This message is sent through an unmonitored e-mail address. Do not reply to this e-mail. ***\\nExpected Result: (THREE) Verify next email notification details:\\nh. First Name: <insert PDE-009 : PrimaryMemberFirstName>\\ni. Last Name: <insert PDE-010 : PrimaryMemberLastName>\\nj. Proposal Name:  <insert PDE-005 : ProposalName>\\nk. Proposal:  <insert PDE-004 : ProposalGroupID> + \\u201c:\\u201d + <insert PDE-001 : ProposalID>\\nl.Additional Comments: In order to facilitate this change,  the Portfolio Solutions team have also been sent an email notification to review and action the Service Requests in Envestnet. Please coordinate with the Portfolio Solutions team through the Pulse chat feature in CLM. The Portfolio Solutions team can assist in reviewing and updating the Proposal workflow to ensure that the issue is resolved. All Service Requests related to this proposal must be completed or resolved before you can start a \\u201cModify Strategy\\u201d. \\no. Thank you.\\np. *** This message is sent through an unmonitored e-mail address. Do not reply to this e-mail. ***\\n\\nTest Case 5:\\nTest Case Description: nan\\nPreconditions: nan\\nSteps: Verify if the spacing/formatting presented to improve readability\\nExpected Result: The spacing/formatting presented to improve readability\\n\\nTest Case 6:\\nTest Case Description: nan\\nPreconditions: nan\\nSteps: Verify if multiple Envestnet Proposals contain rejected margin accounts, then repeat the corresponding section outlined below in the email notification. For example:\\na. Client Name:  <insert PDE-008 : FamilyName>\\nFirst Name: <insert PDE-009 : PrimaryMemberFirstName>\\nLast Name: <insert PDE-010 : PrimaryMemberLastName>\\nEnvestnet Proposal Name:  <insert PDE-005 : ProposalName>\\nEnvestnet Proposal:  <insert PDE-004 : ProposalGroupID> + \\u201c:\\u201d + <insert PDE-001 : ProposalID>\\nb. include a space or line to separate each unique proposal\\nc. Client Name:  <insert PDE-008 : FamilyName>\\nFirst Name: <insert PDE-009 : PrimaryMemberFirstName>\\nLast Name: <insert PDE-010 : PrimaryMemberLastName>\\nEnvestnet Proposal Name:  <insert PDE-005 : ProposalName>\\nEnvestnet Proposal:  <insert PDE-004 : ProposalGroupID> + \\u201c:\\u201d + <insert PDE-001 : ProposalID>\\nd. include a space or line to separate each unique proposal\\ne. and so on\\nExpected Result: When multiple Envestnet Proposals contain rejected margin accounts, then repeat the corresponding section outlined below in the email notification. For example:\\na. Client Name:  <insert PDE-008 : FamilyName>\\nFirst Name: <insert PDE-009 : PrimaryMemberFirstName>\\nLast Name: <insert PDE-010 : PrimaryMemberLastName>\\nEnvestnet Proposal Name:  <insert PDE-005 : ProposalName>\\nEnvestnet Proposal:  <insert PDE-004 : ProposalGroupID> + \\u201c:\\u201d + <insert PDE-001 : ProposalID>\\nb. include a space or line to separate each unique proposal\\nc. Client Name:  <insert PDE-008 : FamilyName>\\nFirst Name: <insert PDE-009 : PrimaryMemberFirstName>\\nLast Name: <insert PDE-010 : PrimaryMemberLastName>\\nEnvestnet Proposal Name:  <insert PDE-005 : ProposalName>\\nEnvestnet Proposal:  <insert PDE-004 : ProposalGroupID> + \\u201c:\\u201d + <insert PDE-001 : ProposalID>\\nd. include a space or line to separate each unique proposal\\ne. and so on\\n\\nTest Case 7:\\nTest Case Description: The case ONLY contains PIM margin accounts in the same proposal\\nPreconditions:\\nPre-Conditions\\n1. Create a NC \\n2. The case ONLY contains PIM margin accounts in the same proposal\\nSteps: (TWO) Verify next email notification details:\\nd. Case Name:\\ni. <insert case name DE-002 : CaseName>\\ne. Rejected Accounts: \\u2013 if more than one margin account has been rejected, include each on a separate line with the following metadata:\\ni. <DE-122 : AccountNumber>+ \\u201c \\u201c +<DE-294 : FeeType>+ \\u201c \\u201c +<DE-242 : AccountType > LookupDescription>+ \\u201c \\u201c +<DE-241 : Currency> where the Credit Officer has clicked \\u201cTrades Off\\u201d (sort alphanumerically) (As CO I wish to assess cases where one or more margin accounts have been sought as a credit officer so that I can accept or reject margin accounts depending on the client's creditworthiness to lower risk for the customer and the company)\\nf. Action Required:\\ni. In Envestnet you must complete a \\u201cModify Strategy\\u201d for the corresponding Envestnet Goal listed below. The \\u201cModify Strategy\\u201d will update the allocation percentages which must now exclude the rejected managed margin account(s). You should notify the Client regarding the rejected margin account(s), Also note, there are one or more accounts in the case that have been approved and can be successfully advanced in the workflow.\\ng. Client Name:  <insert PDE-008 : FamilyName>\\nExpected Result: (TWO) Verify next email notification details:\\nd. Case Name:\\ni. <insert case name DE-002 : CaseName>\\ne. Rejected Accounts: \\u2013 if more than one margin account has been rejected, include each on a separate line with the following metadata:\\ni. <DE-122 : AccountNumber>+ \\u201c \\u201c +<DE-294 : FeeType>+ \\u201c \\u201c +<DE-242 : AccountType > LookupDescription>+ \\u201c \\u201c +<DE-241 : Currency> where the Credit Officer has clicked \\u201cTrades Off\\u201d (sort alphanumerically) (As CO I wish to assess cases where one or more margin accounts have been sought as a credit officer so that I can accept or reject margin accounts depending on the client's creditworthiness to lower risk for the customer and the company)\\nf. Action Required:\\ni. In Envestnet you must complete a \\u201cModify Strategy\\u201d for the corresponding Envestnet Goal listed below. The \\u201cModify Strategy\\u201d will update the allocation percentages which must now exclude the rejected managed margin account(s). You should notify the Client regarding the rejected margin account(s), Also note, there are one or more accounts in the case that have been approved and can be successfully advanced in the workflow.\\ng. Client Name:  <insert PDE-008 : FamilyName>\\n\\nTest Case 8:\\nTest Case Description: nan\\nPreconditions: nan\\nSteps: (THREE) Verify next email notification details:\\nh. First Name: <insert PDE-009 : PrimaryMemberFirstName>\\ni. Last Name: <insert PDE-010 : PrimaryMemberLastName>\\nj. Proposal Name:  <insert PDE-005 : ProposalName>\\nk. Proposal:  <insert PDE-004 : ProposalGroupID> + \\u201c:\\u201d + <insert PDE-001 : ProposalID>\\nl.Additional Comments: In order to facilitate this change,  the Portfolio Solutions team have also been sent an email notification to review and action the Service Requests in Envestnet. Please coordinate with the Portfolio Solutions team through the Pulse chat feature in CLM. The Portfolio Solutions team can assist in reviewing and updating the Proposal workflow to ensure that the issue is resolved. All Service Requests related to this proposal must be completed or resolved before you can start a \\u201cModify Strategy\\u201d. \\no. Thank you.\\np. *** This message is sent through an unmonitored e-mail address. Do not reply to this e-mail. ***\\nExpected Result: (THREE) Verify next email notification details:\\nh. First Name: <insert PDE-009 : PrimaryMemberFirstName>\\ni. Last Name: <insert PDE-010 : PrimaryMemberLastName>\\nj. Proposal Name:  <insert PDE-005 : ProposalName>\\nk. Proposal:  <insert PDE-004 : ProposalGroupID> + \\u201c:\\u201d + <insert PDE-001 : ProposalID>\\nl.Additional Comments: In order to facilitate this change,  the Portfolio Solutions team have also been sent an email notification to review and action the Service Requests in Envestnet. Please coordinate with the Portfolio Solutions team through the Pulse chat feature in CLM. The Portfolio Solutions team can assist in reviewing and updating the Proposal workflow to ensure that the issue is resolved. All Service Requests related to this proposal must be completed or resolved before you can start a \\u201cModify Strategy\\u201d. \\no. Thank you.\\np. *** This message is sent through an unmonitored e-mail address. Do not reply to this e-mail. ***\\n\\nTest Case 9:\\nTest Case Description: The Credit Officer has rejected either 1 or all the PIM margin accounts, when the case has at least 1 UMA account\\nPreconditions:\\nPre-Conditions\\n1. Create a NC \\n2. The Credit Officer has rejected either 1 or all the PIM margin accounts, when the case has at least 1 UMA account\\nSteps: (TWO) Verify next email notification details:\\nd. Case Name:\\ni. <insert case name DE-002 : CaseName>\\ne. Rejected Accounts: \\u2013 if more than one margin account has been rejected, include each on a separate line with the following metadata:\\ni. <DE-122 : AccountNumber>+ \\u201c \\u201c +<DE-294 : FeeType>+ \\u201c \\u201c +<DE-242 : AccountType > LookupDescription>+ \\u201c \\u201c +<DE-241 : Currency> where the Credit Officer has clicked \\u201cTrades Off\\u201d (sort alphanumerically) (As CO I wish to assess cases where one or more margin accounts have been sought as a credit officer so that I can accept or reject margin accounts depending on the client's creditworthiness to lower risk for the customer and the company)\\nf. Action Required:\\ni. In Envestnet you must complete a \\u201cModify Strategy\\u201d for the corresponding Envestnet Goal listed below. The \\u201cModify Strategy\\u201d will update the allocation percentages which must now exclude the rejected managed margin account(s). You should notify the Client regarding the rejected margin account(s), Also note, there are one or more accounts in the case that have been approved and can be successfully advanced in the workflow.\\ng. Client Name:  <insert PDE-008 : FamilyName>\\nExpected Result: (TWO) Verify next email notification details:\\nd. Case Name:\\ni. <insert case name DE-002 : CaseName>\\ne. Rejected Accounts: \\u2013 if more than one margin account has been rejected, include each on a separate line with the following metadata:\\ni. <DE-122 : AccountNumber>+ \\u201c \\u201c +<DE-294 : FeeType>+ \\u201c \\u201c +<DE-242 : AccountType > LookupDescription>+ \\u201c \\u201c +<DE-241 : Currency> where the Credit Officer has clicked \\u201cTrades Off\\u201d (sort alphanumerically) (As CO I wish to assess cases where one or more margin accounts have been sought as a credit officer so that I can accept or reject margin accounts depending on the client's creditworthiness to lower risk for the customer and the company)\\nf. Action Required:\\ni. In Envestnet you must complete a \\u201cModify Strategy\\u201d for the corresponding Envestnet Goal listed below. The \\u201cModify Strategy\\u201d will update the allocation percentages which must now exclude the rejected managed margin account(s). You should notify the Client regarding the rejected margin account(s), Also note, there are one or more accounts in the case that have been approved and can be successfully advanced in the workflow.\\ng. Client Name:  <insert PDE-008 : FamilyName>\\n\\nTest Case 10:\\nTest Case Description: nan\\nPreconditions: nan\\nSteps: (THREE) Verify next email notification details:\\nh. First Name: <insert PDE-009 : PrimaryMemberFirstName>\\ni. Last Name: <insert PDE-010 : PrimaryMemberLastName>\\nj. Proposal Name:  <insert PDE-005 : ProposalName>\\nk. Proposal:  <insert PDE-004 : ProposalGroupID> + \\u201c:\\u201d + <insert PDE-001 : ProposalID>\\nl.Additional Comments: In order to facilitate this change,  the Portfolio Solutions team have also been sent an email notification to review and action the Service Requests in Envestnet. Please coordinate with the Portfolio Solutions team through the Pulse chat feature in CLM. The Portfolio Solutions team can assist in reviewing and updating the Proposal workflow to ensure that the issue is resolved. All Service Requests related to this proposal must be completed or resolved before you can start a \\u201cModify Strategy\\u201d. \\no. Thank you.\\np. *** This message is sent through an unmonitored e-mail address. Do not reply to this e-mail. ***\\nExpected Result: (THREE) Verify next email notification details:\\nh. First Name: <insert PDE-009 : PrimaryMemberFirstName>\\ni. Last Name: <insert PDE-010 : PrimaryMemberLastName>\\nj. Proposal Name:  <insert PDE-005 : ProposalName>\\nk. Proposal:  <insert PDE-004 : ProposalGroupID> + \\u201c:\\u201d + <insert PDE-001 : ProposalID>\\nl.Additional Comments: In order to facilitate this change,  the Portfolio Solutions team have also been sent an email notification to review and action the Service Requests in Envestnet. Please coordinate with the Portfolio Solutions team through the Pulse chat feature in CLM. The Portfolio Solutions team can assist in reviewing and updating the Proposal workflow to ensure that the issue is resolved. All Service Requests related to this proposal must be completed or resolved before you can start a \\u201cModify Strategy\\u201d. \\no. Thank you.\\np. *** This message is sent through an unmonitored e-mail address. Do not reply to this e-mail. ***\\n\\nTest Case 11:\\nTest Case Description: The Credit Officer has rejected ONLY 1  PIM margin account, when the case contains more than 1 PIM margin accounts and no UMA accounts\\nPreconditions:\\nPre-Conditions\\n1. Create a NC \\n2.The Credit Officer has rejected ONLY 1  PIM margin account, when the case contains more than 1 PIM margin accounts and no UMA accounts\\nSteps: (TWO) Verify next email notification details:\\nd. Case Name:\\ni. <insert case name DE-002 : CaseName>\\ne. Rejected Accounts: \\u2013 if more than one margin account has been rejected, include each on a separate line with the following metadata:\\ni. <DE-122 : AccountNumber>+ \\u201c \\u201c +<DE-294 : FeeType>+ \\u201c \\u201c +<DE-242 : AccountType > LookupDescription>+ \\u201c \\u201c +<DE-241 : Currency> where the Credit Officer has clicked \\u201cTrades Off\\u201d (sort alphanumerically) (As CO I wish to assess cases where one or more margin accounts have been sought as a credit officer so that I can accept or reject margin accounts depending on the client's creditworthiness to lower risk for the customer and the company)\\nf. Action Required:\\ni. In Envestnet you must complete a \\u201cModify Strategy\\u201d for the corresponding Envestnet Goal listed below. The \\u201cModify Strategy\\u201d will update the allocation percentages which must now exclude the rejected managed margin account(s). You should notify the Client regarding the rejected margin account(s), Also note, there are one or more accounts in the case that have been approved and can be successfully advanced in the workflow.\\ng. Client Name:  <insert PDE-008 : FamilyName>\\nExpected Result: (TWO) Verify next email notification details:\\nd. Case Name:\\ni. <insert case name DE-002 : CaseName>\\ne. Rejected Accounts: \\u2013 if more than one margin account has been rejected, include each on a separate line with the following metadata:\\ni. <DE-122 : AccountNumber>+ \\u201c \\u201c +<DE-294 : FeeType>+ \\u201c \\u201c +<DE-242 : AccountType > LookupDescription>+ \\u201c \\u201c +<DE-241 : Currency> where the Credit Officer has clicked \\u201cTrades Off\\u201d (sort alphanumerically) (As CO I wish to assess cases where one or more margin accounts have been sought as a credit officer so that I can accept or reject margin accounts depending on the client's creditworthiness to lower risk for the customer and the company)\\nf. Action Required:\\ni. In Envestnet you must complete a \\u201cModify Strategy\\u201d for the corresponding Envestnet Goal listed below. The \\u201cModify Strategy\\u201d will update the allocation percentages which must now exclude the rejected managed margin account(s). You should notify the Client regarding the rejected margin account(s), Also note, there are one or more accounts in the case that have been approved and can be successfully advanced in the workflow.\\ng. Client Name:  <insert PDE-008 : FamilyName>\\n\\nTest Case 12:\\nTest Case Description: nan\\nPreconditions: nan\\nSteps: (THREE) Verify next email notification details:\\nh. First Name: <insert PDE-009 : PrimaryMemberFirstName>\\ni. Last Name: <insert PDE-010 : PrimaryMemberLastName>\\nj. Proposal Name:  <insert PDE-005 : ProposalName>\\nk. Proposal:  <insert PDE-004 : ProposalGroupID> + \\u201c:\\u201d + <insert PDE-001 : ProposalID>\\nl.Additional Comments: In order to facilitate this change,  the Portfolio Solutions team have also been sent an email notification to review and action the Service Requests in Envestnet. Please coordinate with the Portfolio Solutions team through the Pulse chat feature in CLM. The Portfolio Solutions team can assist in reviewing and updating the Proposal workflow to ensure that the issue is resolved. All Service Requests related to this proposal must be completed or resolved before you can start a \\u201cModify Strategy\\u201d. \\no. Thank you.\\np. *** This message is sent through an unmonitored e-mail address. Do not reply to this e-mail. ***\\nExpected Result: (THREE) Verify next email notification details:\\nh. First Name: <insert PDE-009 : PrimaryMemberFirstName>\\ni. Last Name: <insert PDE-010 : PrimaryMemberLastName>\\nj. Proposal Name:  <insert PDE-005 : ProposalName>\\nk. Proposal:  <insert PDE-004 : ProposalGroupID> + \\u201c:\\u201d + <insert PDE-001 : ProposalID>\\nl.Additional Comments: In order to facilitate this change,  the Portfolio Solutions team have also been sent an email notification to review and action the Service Requests in Envestnet. Please coordinate with the Portfolio Solutions team through the Pulse chat feature in CLM. The Portfolio Solutions team can assist in reviewing and updating the Proposal workflow to ensure that the issue is resolved. All Service Requests related to this proposal must be completed or resolved before you can start a \\u201cModify Strategy\\u201d. \\no. Thank you.\\np. *** This message is sent through an unmonitored e-mail address. Do not reply to this e-mail. ***\\n\\nTest Case 13:\\nTest Case Description: nan\\nPreconditions:\\nPre-Conditions\\n1. Create a NC                                               2.System could contain other approved accounts BUT in a different ENV proposal\\nSteps: System should not trigger this email. It is going to be triggered the CLM-10898 email\\nExpected Result: System should not trigger this email. It is going to be triggered the CLM-10898 email\\n\\n\"\n        ],\n        \"semantic_type\": \"\",\n        \"description\": \"\"\n      }\n    }\n  ]\n}",
              "type": "dataframe",
              "variable_name": "df_STP"
            },
            "text/html": [
              "\n",
              "  <div id=\"df-af5bffe8-8348-44d9-bffd-519806756212\" class=\"colab-df-container\">\n",
              "    <div>\n",
              "<style scoped>\n",
              "    .dataframe tbody tr th:only-of-type {\n",
              "        vertical-align: middle;\n",
              "    }\n",
              "\n",
              "    .dataframe tbody tr th {\n",
              "        vertical-align: top;\n",
              "    }\n",
              "\n",
              "    .dataframe thead th {\n",
              "        text-align: right;\n",
              "    }\n",
              "</style>\n",
              "<table border=\"1\" class=\"dataframe\">\n",
              "  <thead>\n",
              "    <tr style=\"text-align: right;\">\n",
              "      <th></th>\n",
              "      <th>file_name</th>\n",
              "      <th>STP</th>\n",
              "    </tr>\n",
              "  </thead>\n",
              "  <tbody>\n",
              "    <tr>\n",
              "      <th>0</th>\n",
              "      <td>CLM-13972</td>\n",
              "      <td>Test Case 1:\\nTest Case Description: Update Cl...</td>\n",
              "    </tr>\n",
              "    <tr>\n",
              "      <th>1</th>\n",
              "      <td>CLM-14010</td>\n",
              "      <td>Test Case 1:\\nTest Case Description: Validate ...</td>\n",
              "    </tr>\n",
              "    <tr>\n",
              "      <th>2</th>\n",
              "      <td>CLM-14023</td>\n",
              "      <td>Test Case 1:\\nTest Case Description: Update 'I...</td>\n",
              "    </tr>\n",
              "    <tr>\n",
              "      <th>3</th>\n",
              "      <td>CLM-14024</td>\n",
              "      <td>Test Case 1:\\nTest Case Description: Update Di...</td>\n",
              "    </tr>\n",
              "    <tr>\n",
              "      <th>4</th>\n",
              "      <td>CLM-14006</td>\n",
              "      <td>Test Case 1:\\nTest Case Description: Update Ne...</td>\n",
              "    </tr>\n",
              "  </tbody>\n",
              "</table>\n",
              "</div>\n",
              "    <div class=\"colab-df-buttons\">\n",
              "\n",
              "  <div class=\"colab-df-container\">\n",
              "    <button class=\"colab-df-convert\" onclick=\"convertToInteractive('df-af5bffe8-8348-44d9-bffd-519806756212')\"\n",
              "            title=\"Convert this dataframe to an interactive table.\"\n",
              "            style=\"display:none;\">\n",
              "\n",
              "  <svg xmlns=\"http://www.w3.org/2000/svg\" height=\"24px\" viewBox=\"0 -960 960 960\">\n",
              "    <path d=\"M120-120v-720h720v720H120Zm60-500h600v-160H180v160Zm220 220h160v-160H400v160Zm0 220h160v-160H400v160ZM180-400h160v-160H180v160Zm440 0h160v-160H620v160ZM180-180h160v-160H180v160Zm440 0h160v-160H620v160Z\"/>\n",
              "  </svg>\n",
              "    </button>\n",
              "\n",
              "  <style>\n",
              "    .colab-df-container {\n",
              "      display:flex;\n",
              "      gap: 12px;\n",
              "    }\n",
              "\n",
              "    .colab-df-convert {\n",
              "      background-color: #E8F0FE;\n",
              "      border: none;\n",
              "      border-radius: 50%;\n",
              "      cursor: pointer;\n",
              "      display: none;\n",
              "      fill: #1967D2;\n",
              "      height: 32px;\n",
              "      padding: 0 0 0 0;\n",
              "      width: 32px;\n",
              "    }\n",
              "\n",
              "    .colab-df-convert:hover {\n",
              "      background-color: #E2EBFA;\n",
              "      box-shadow: 0px 1px 2px rgba(60, 64, 67, 0.3), 0px 1px 3px 1px rgba(60, 64, 67, 0.15);\n",
              "      fill: #174EA6;\n",
              "    }\n",
              "\n",
              "    .colab-df-buttons div {\n",
              "      margin-bottom: 4px;\n",
              "    }\n",
              "\n",
              "    [theme=dark] .colab-df-convert {\n",
              "      background-color: #3B4455;\n",
              "      fill: #D2E3FC;\n",
              "    }\n",
              "\n",
              "    [theme=dark] .colab-df-convert:hover {\n",
              "      background-color: #434B5C;\n",
              "      box-shadow: 0px 1px 3px 1px rgba(0, 0, 0, 0.15);\n",
              "      filter: drop-shadow(0px 1px 2px rgba(0, 0, 0, 0.3));\n",
              "      fill: #FFFFFF;\n",
              "    }\n",
              "  </style>\n",
              "\n",
              "    <script>\n",
              "      const buttonEl =\n",
              "        document.querySelector('#df-af5bffe8-8348-44d9-bffd-519806756212 button.colab-df-convert');\n",
              "      buttonEl.style.display =\n",
              "        google.colab.kernel.accessAllowed ? 'block' : 'none';\n",
              "\n",
              "      async function convertToInteractive(key) {\n",
              "        const element = document.querySelector('#df-af5bffe8-8348-44d9-bffd-519806756212');\n",
              "        const dataTable =\n",
              "          await google.colab.kernel.invokeFunction('convertToInteractive',\n",
              "                                                    [key], {});\n",
              "        if (!dataTable) return;\n",
              "\n",
              "        const docLinkHtml = 'Like what you see? Visit the ' +\n",
              "          '<a target=\"_blank\" href=https://colab.research.google.com/notebooks/data_table.ipynb>data table notebook</a>'\n",
              "          + ' to learn more about interactive tables.';\n",
              "        element.innerHTML = '';\n",
              "        dataTable['output_type'] = 'display_data';\n",
              "        await google.colab.output.renderOutput(dataTable, element);\n",
              "        const docLink = document.createElement('div');\n",
              "        docLink.innerHTML = docLinkHtml;\n",
              "        element.appendChild(docLink);\n",
              "      }\n",
              "    </script>\n",
              "  </div>\n",
              "\n",
              "\n",
              "<div id=\"df-5fde56af-b673-4a34-8de4-248498ea0bb1\">\n",
              "  <button class=\"colab-df-quickchart\" onclick=\"quickchart('df-5fde56af-b673-4a34-8de4-248498ea0bb1')\"\n",
              "            title=\"Suggest charts\"\n",
              "            style=\"display:none;\">\n",
              "\n",
              "<svg xmlns=\"http://www.w3.org/2000/svg\" height=\"24px\"viewBox=\"0 0 24 24\"\n",
              "     width=\"24px\">\n",
              "    <g>\n",
              "        <path d=\"M19 3H5c-1.1 0-2 .9-2 2v14c0 1.1.9 2 2 2h14c1.1 0 2-.9 2-2V5c0-1.1-.9-2-2-2zM9 17H7v-7h2v7zm4 0h-2V7h2v10zm4 0h-2v-4h2v4z\"/>\n",
              "    </g>\n",
              "</svg>\n",
              "  </button>\n",
              "\n",
              "<style>\n",
              "  .colab-df-quickchart {\n",
              "      --bg-color: #E8F0FE;\n",
              "      --fill-color: #1967D2;\n",
              "      --hover-bg-color: #E2EBFA;\n",
              "      --hover-fill-color: #174EA6;\n",
              "      --disabled-fill-color: #AAA;\n",
              "      --disabled-bg-color: #DDD;\n",
              "  }\n",
              "\n",
              "  [theme=dark] .colab-df-quickchart {\n",
              "      --bg-color: #3B4455;\n",
              "      --fill-color: #D2E3FC;\n",
              "      --hover-bg-color: #434B5C;\n",
              "      --hover-fill-color: #FFFFFF;\n",
              "      --disabled-bg-color: #3B4455;\n",
              "      --disabled-fill-color: #666;\n",
              "  }\n",
              "\n",
              "  .colab-df-quickchart {\n",
              "    background-color: var(--bg-color);\n",
              "    border: none;\n",
              "    border-radius: 50%;\n",
              "    cursor: pointer;\n",
              "    display: none;\n",
              "    fill: var(--fill-color);\n",
              "    height: 32px;\n",
              "    padding: 0;\n",
              "    width: 32px;\n",
              "  }\n",
              "\n",
              "  .colab-df-quickchart:hover {\n",
              "    background-color: var(--hover-bg-color);\n",
              "    box-shadow: 0 1px 2px rgba(60, 64, 67, 0.3), 0 1px 3px 1px rgba(60, 64, 67, 0.15);\n",
              "    fill: var(--button-hover-fill-color);\n",
              "  }\n",
              "\n",
              "  .colab-df-quickchart-complete:disabled,\n",
              "  .colab-df-quickchart-complete:disabled:hover {\n",
              "    background-color: var(--disabled-bg-color);\n",
              "    fill: var(--disabled-fill-color);\n",
              "    box-shadow: none;\n",
              "  }\n",
              "\n",
              "  .colab-df-spinner {\n",
              "    border: 2px solid var(--fill-color);\n",
              "    border-color: transparent;\n",
              "    border-bottom-color: var(--fill-color);\n",
              "    animation:\n",
              "      spin 1s steps(1) infinite;\n",
              "  }\n",
              "\n",
              "  @keyframes spin {\n",
              "    0% {\n",
              "      border-color: transparent;\n",
              "      border-bottom-color: var(--fill-color);\n",
              "      border-left-color: var(--fill-color);\n",
              "    }\n",
              "    20% {\n",
              "      border-color: transparent;\n",
              "      border-left-color: var(--fill-color);\n",
              "      border-top-color: var(--fill-color);\n",
              "    }\n",
              "    30% {\n",
              "      border-color: transparent;\n",
              "      border-left-color: var(--fill-color);\n",
              "      border-top-color: var(--fill-color);\n",
              "      border-right-color: var(--fill-color);\n",
              "    }\n",
              "    40% {\n",
              "      border-color: transparent;\n",
              "      border-right-color: var(--fill-color);\n",
              "      border-top-color: var(--fill-color);\n",
              "    }\n",
              "    60% {\n",
              "      border-color: transparent;\n",
              "      border-right-color: var(--fill-color);\n",
              "    }\n",
              "    80% {\n",
              "      border-color: transparent;\n",
              "      border-right-color: var(--fill-color);\n",
              "      border-bottom-color: var(--fill-color);\n",
              "    }\n",
              "    90% {\n",
              "      border-color: transparent;\n",
              "      border-bottom-color: var(--fill-color);\n",
              "    }\n",
              "  }\n",
              "</style>\n",
              "\n",
              "  <script>\n",
              "    async function quickchart(key) {\n",
              "      const quickchartButtonEl =\n",
              "        document.querySelector('#' + key + ' button');\n",
              "      quickchartButtonEl.disabled = true;  // To prevent multiple clicks.\n",
              "      quickchartButtonEl.classList.add('colab-df-spinner');\n",
              "      try {\n",
              "        const charts = await google.colab.kernel.invokeFunction(\n",
              "            'suggestCharts', [key], {});\n",
              "      } catch (error) {\n",
              "        console.error('Error during call to suggestCharts:', error);\n",
              "      }\n",
              "      quickchartButtonEl.classList.remove('colab-df-spinner');\n",
              "      quickchartButtonEl.classList.add('colab-df-quickchart-complete');\n",
              "    }\n",
              "    (() => {\n",
              "      let quickchartButtonEl =\n",
              "        document.querySelector('#df-5fde56af-b673-4a34-8de4-248498ea0bb1 button');\n",
              "      quickchartButtonEl.style.display =\n",
              "        google.colab.kernel.accessAllowed ? 'block' : 'none';\n",
              "    })();\n",
              "  </script>\n",
              "</div>\n",
              "\n",
              "    </div>\n",
              "  </div>\n"
            ],
            "text/plain": [
              "   file_name                                                STP\n",
              "0  CLM-13972  Test Case 1:\\nTest Case Description: Update Cl...\n",
              "1  CLM-14010  Test Case 1:\\nTest Case Description: Validate ...\n",
              "2  CLM-14023  Test Case 1:\\nTest Case Description: Update 'I...\n",
              "3  CLM-14024  Test Case 1:\\nTest Case Description: Update Di...\n",
              "4  CLM-14006  Test Case 1:\\nTest Case Description: Update Ne..."
            ]
          },
          "execution_count": 30,
          "metadata": {},
          "output_type": "execute_result"
        }
      ],
      "source": [
        "# Data cleaning\n",
        "df_STP['file_name'] = df_STP['file_name'].str.replace('.xlsx', '')\n",
        "df_STP.head()"
      ]
    },
    {
      "cell_type": "markdown",
      "metadata": {
        "id": "-bLL635vwmxe"
      },
      "source": [
        "# Final Dataset"
      ]
    },
    {
      "cell_type": "code",
      "execution_count": 31,
      "metadata": {
        "colab": {
          "base_uri": "https://localhost:8080/",
          "height": 206
        },
        "id": "3Vu6-ZmJwqGR",
        "outputId": "8e928df6-9dea-4d54-a280-db2d03df4ea8"
      },
      "outputs": [
        {
          "data": {
            "application/vnd.google.colaboratory.intrinsic+json": {
              "summary": "{\n  \"name\": \"dataset\",\n  \"rows\": 34,\n  \"fields\": [\n    {\n      \"column\": \"Issue Key\",\n      \"properties\": {\n        \"dtype\": \"string\",\n        \"num_unique_values\": 34,\n        \"samples\": [\n          \"CLM-14130\",\n          \"CLM-14022\",\n          \"CLM-13800\"\n        ],\n        \"semantic_type\": \"\",\n        \"description\": \"\"\n      }\n    },\n    {\n      \"column\": \"user_story\",\n      \"properties\": {\n        \"dtype\": \"string\",\n        \"num_unique_values\": 34,\n        \"samples\": [\n          \"As an Advisor Team I want the Account Terms and Conditions Booklet to have updated agreementsclauses for RIFF DOT reference to FHSA in the Relationship Declaration and a minor edit to CA TCs so that my Client receives the most current version PreConditions CaptureKYC stage has completed System is generating formsdocuments to be signed by the client during the DocuSign event Acceptance Criteria The Account Terms and Conditions Booklet v40 replaces Account Terms and Conditions Booklet v30 and must be appended to the formsdocuments that are generated by the system to be signed by the client during the DocuSign event When posting the Account Terms and Conditions Booklet via POST Documents API ensure the FormVersion for FormID 3001E 40 The page count included for the Account Terms Conditions Booklet in the Table of Contents on the New Client Application Summary must be updated to 63 The Account Terms and Conditions Booklet v40 will remain a static document ie no initials or signatures are required on this document but the client must be provided with a copy of it when they are signing the NCAF and other onboarding forms during the DocuSign event PostConditions No further changes\",\n          \"As a Compliance Officer Tier 1 and Compliance Officer Tier 2 I want to be able to view a tablesectiongrid that displays the Pro Letter associated with account coholder of the parent case so that I can see its current status open review it as required PreConditions User must launch the CLM application and be defaulted to their Dashboard screen Case must be in the PreApproving Stage User must have Compliance Officer Tier 1 Approver access rights API Checks eIdentity if applicable WC1 Sanctions and Do Not Do Business List DNDBL must have been completed User has selected Client Type as \\u201cJoint With Spouse\\u201d in Acceptance Criteria AC1 AC2 in remains the same when the role under Associated Parties tab is \\u201cHolder\\u201d Update the task name from \\u201cPro Letter\\u201d to \\u201cReview Pro Letter\\u201d Remove the Task column from the existing Pro Letter table Add a new column with label NameRole before the Task column in the Pro Letter table this column will have values holder\\u2019s coholder\\u2019s First Name Last Name along with respective Include View Pro Letter and Pass or Fail buttons to the Pro Letter table next to the Status column Create a new row below the existing holder\\u2019s information row in Pro Letter table The new row in AC6 should be populated with details of the same details should be applied to the coholder which are applied to the holder in AC1AC2 in i When user has selected \\u201cDocument uploaded under Holder\\u201d as per AC 1biii in during capture KYC display the same proletter for Holder and CoHolder History tab should reflect the coholders details updated in AC above Pass and Fail for each holder and coholder is a separate function and case will only move forward when both the parties have passed a task Comment section will have prefix First Name Last Name for Holder and CoHolder for better clarity Please refer to the mockup for better understanding Additional Clarification added by accountid61018c733900e60070994de3 20th Dec 2023 For the Coholder ProStatus if for one question the \\u201cDocument uploaded under Holder\\u201d checkbox is checked and for the second question if a new Proletter is attached then the Compliance UI for the Coholder will show both these attachments the file that was uploaded for the holder and the file that was uploaded for the coholder screenshot below 2 If only one party has a Proletter due to ProStatus and the other party does not have any Proletter then the \\u201cReview Proletter\\u201d table for Compliance will display only one row which is for the party that has the Pro letter If all parties on the case do not have a Pro letter then this tab is not displayed for Compliance Post Conditions NA\",\n          \"As an Advisor Team persona I want the Reg Plan Type to reflect in the SR Case Summary panel for Add Recurring EFT so that the I know the type of Registered plans were included in the client ID PreConditions User have successfully entered a client ID and retrieved the information on the \\u2018Add Recurring EFT\\u2019 service workstream Acceptance Criteria All the requirements under must remain unchanged except for the display of Account Type The Account Type must include Reg Plan Type and must be displayed as DE242AccountType Example RRSP LIRALRSP Post Conditions NA\"\n        ],\n        \"semantic_type\": \"\",\n        \"description\": \"\"\n      }\n    },\n    {\n      \"column\": \"STP\",\n      \"properties\": {\n        \"dtype\": \"string\",\n        \"num_unique_values\": 34,\n        \"samples\": [\n          \"Test Case 1:\\nTest Case Description: Validate the Account Terms and Conditions Booklet Version\\nPreconditions:\\n1. User must has complete the CaptureKYC stage\\n2. System is generating forms/documents to be signed by the client during the DocuSign event\\nSteps: Verify that The Account Terms and Conditions Booklet v4.0 replaces (Account Terms and Conditions Booklet v3.0) \\nExpected Result: The Account Terms and Conditions Booklet v4.0 replaces (Account Terms and Conditions Booklet v3.0) \\n\\nTest Case 2:\\nTest Case Description: nan\\nPreconditions:\\n1. User must has complete the CaptureKYC stage\\n2. System is generating forms/documents to be signed by the client during the DocuSign event\\nSteps: Verify that The Account Terms and Conditions Booklet v4.0 must be appended to the forms/documents that are generated by the system to be signed by the client during the DocuSign event.\\nExpected Result: The Account Terms and Conditions Booklet v4.0 is appended to the forms/documents that are generated by the system to be signed by the client during the DocuSign event.\\n\\nTest Case 3:\\nTest Case Description: Validate the  Account Terms and Conditions Booklet FormVersion\\nPreconditions:\\n1. User must has complete the CaptureKYC stage\\n2. System is generating forms/documents to be signed by the client during the DocuSign event \\n3. the Post document api is generated\\nSteps: Verify that FormVersion of  the Account Terms and Conditions Booklet is 4.0\\nExpected Result: FormVersion of  the Account Terms and Conditions Booklet is 4.0\\n\\nTest Case 4:\\nTest Case Description: Validate the  Account Terms and Conditions Booklet page count\\nPreconditions:\\n1. User must has complete the CaptureKYC stage\\n2. System is generating forms/documents to be signed by the client during the DocuSign event\\nSteps: Verify that the page count included for the Account Terms & Conditions Booklet in the Table of Contents on the New Client Application - Summary must be updated to 63\\nExpected Result: The page count included for the Account Terms & Conditions Booklet in the Table of Contents on the New Client Application - Summary must be updated to 63\\n\\nTest Case 5:\\nTest Case Description: nan\\nPreconditions:\\n1. User must has complete the CaptureKYC stage\\n2. System is generating forms/documents to be signed by the client during the DocuSign event\\nSteps: Verify that the Account Terms and Conditions Booklet v4.0 will remain a static document\\nExpected Result: The Account Terms and Conditions Booklet v4.0 will remain a static document\\n\\nTest Case 6:\\nTest Case Description: Verify the history tab \\n\\nPreconditions:\\n1. User must has complete the CaptureKYC stage\\n2. System is generating forms/documents to be signed by the client during the DocuSign event\\nSteps: Verify that a ligne added to history tab : 'A file has been attached: Account Terms And Conditions Booklet.pdf.'\\nExpected Result: A ligne added to history tab : 'A file has been attached: Account Terms And Conditions Booklet.pdf.'\\n\\n\\nTest Case 7:\\nTest Case Description: Verify attachement \\n\\nPreconditions:\\n1. User must has complete the CaptureKYC stage\\n2. System is generating forms/documents to be signed by the client during the DocuSign event\\nSteps: Verify that the new version attached to the case \\n\\nExpected Result: The new version attached to the case \\n\\n\",\n          \"Test Case 1:\\nTest Case Description: Update Pro Letter tab under Compliance Tier 1 persona to include account co-holder's pro letter in \\\"Joint with Spouse\\\" Client Type\\nPreconditions:\\n1. User must launch the CLM application and be defaulted to their Dashboard screen\\n2. User has selected Client Type as \\u201cJoint With Spouse\\u201d\\n3. Case must be in the Pre-Approving Stage\\n4. User must have Compliance Officer Tier 1 Approver access rights\\n5. API Checks, e-Identity (if applicable), WC1 Sanctions and Do Not Do Business List (DNDBL) must have been completed\\n\\nSteps: Verify the compliance tab remain the same\\nExpected Result: the compliance tab remain the same\\n\\nTest Case 2:\\nTest Case Description: nan\\nPreconditions:\\n1. User must launch the CLM application and be defaulted to their Dashboard screen\\n2. User has selected Client Type as \\u201cJoint With Spouse\\u201d\\n3. Case must be in the Pre-Approving Stage\\n4. User must have Compliance Officer Tier 1 Approver access rights\\n5. API Checks, e-Identity (if applicable), WC1 Sanctions and Do Not Do Business List (DNDBL) must have been completed\\n\\nSteps: Verify the task name is updated from 'Pro Letter to 'Review Pro Letter'\\nExpected Result: the task name is updated from 'Pro Letter to 'Review Pro Letter'\\n\\nTest Case 3:\\nTest Case Description: nan\\nPreconditions:\\n1. User must launch the CLM application and be defaulted to their Dashboard screen\\n2. User has selected Client Type as \\u201cJoint With Spouse\\u201d\\n3. Case must be in the Pre-Approving Stage\\n4. User must have Compliance Officer Tier 1 Approver access rights\\n5. API Checks, e-Identity (if applicable), WC1 Sanctions and Do Not Do Business List (DNDBL) must have been completed\\n\\nSteps: Verify the task column is removed from the existing Pro Letter table\\nExpected Result: the task column is removed from the existing Pro Letter table\\n\\nTest Case 4:\\nTest Case Description: nan\\nPreconditions:\\n1. User must launch the CLM application and be defaulted to their Dashboard screen\\n2. User has selected Client Type as \\u201cJoint With Spouse\\u201d\\n3. Case must be in the Pre-Approving Stage\\n4. User must have Compliance Officer Tier 1 Approver access rights\\n5. API Checks, e-Identity (if applicable), WC1 Sanctions and Do Not Do Business List (DNDBL) must have been completed\\n\\nSteps: Verify a new column is added with Role label before the task column in the Pro Letter table with the following values: <DE-059: Role> = Co-Holder, <DE-059: Role> = Holder\\nExpected Result: a new column is added with Role label before the task column in the Pro Letter table with the following values: <DE-059: Role> = Co-Holder, <DE-059: Role> = Holder\\n\\nTest Case 5:\\nTest Case Description: nan\\nPreconditions:\\n1. User must launch the CLM application and be defaulted to their Dashboard screen\\n2. User has selected Client Type as \\u201cJoint With Spouse\\u201d\\n3. Case must be in the Pre-Approving Stage\\n4. User must have Compliance Officer Tier 1 Approver access rights\\n5. API Checks, e-Identity (if applicable), WC1 Sanctions and Do Not Do Business List (DNDBL) must have been completed\\n\\nSteps: Verify View Pro Letter and Pass or Fail buttons are included to the Pro Letter table next to the Status column\\nExpected Result: View Pro Letter and Pass or Fail buttons are included to the Pro Letter table next to the Status column\\n\\nTest Case 6:\\nTest Case Description: nan\\nPreconditions:\\n1. User must launch the CLM application and be defaulted to their Dashboard screen\\n2. User has selected Client Type as \\u201cJoint With Spouse\\u201d\\n3. Case must be in the Pre-Approving Stage\\n4. User must have Compliance Officer Tier 1 Approver access rights\\n5. API Checks, e-Identity (if applicable), WC1 Sanctions and Do Not Do Business List (DNDBL) must have been completed\\n\\nSteps: Verify a new row is created below the existing holder's information in Pro Letter table\\nExpected Result: a new row is created below the existing holder's information in Pro Letter table\\n\\nTest Case 7:\\nTest Case Description: nan\\nPreconditions:\\n1. User must launch the CLM application and be defaulted to their Dashboard screen\\n2. User has selected Client Type as \\u201cJoint With Spouse\\u201d\\n3. Case must be in the Pre-Approving Stage\\n4. User must have Compliance Officer Tier 1 Approver access rights\\n5. API Checks, e-Identity (if applicable), WC1 Sanctions and Do Not Do Business List (DNDBL) must have been completed\\n\\nSteps: Verify the new row is populated with the co-holder's details which are applied to the holder\\nExpected Result: the new row is populated with the co-holder's details which are applied to the holder\\n\\nTest Case 8:\\nTest Case Description: nan\\nPreconditions:\\n1. User must launch the CLM application and be defaulted to their Dashboard screen\\n2. User has selected Client Type as \\u201cJoint With Spouse\\u201d\\n3. Case must be in the Pre-Approving Stage\\n4. User must have Compliance Officer Tier 1 Approver access rights\\n5. API Checks, e-Identity (if applicable), WC1 Sanctions and Do Not Do Business List (DNDBL) must have been completed\\n\\nSteps: Verify history tab reflect the co-holder's details\\nExpected Result: history tab reflect the co-holder's details\\n\\nTest Case 9:\\nTest Case Description: nan\\nPreconditions:\\n1. User must launch the CLM application and be defaulted to their Dashboard screen\\n2. User has selected Client Type as \\u201cJoint With Spouse\\u201d\\n3. Case must be in the Pre-Approving Stage\\n4. User must have Compliance Officer Tier 1 Approver access rights\\n5. API Checks, e-Identity (if applicable), WC1 Sanctions and Do Not Do Business List (DNDBL) must have been completed\\nSteps: Verify Pass and Fail for each holder and co-holder is a separate function and case will only move forward when both the parties have passed a task\\nExpected Result: Pass and Fail for each holder and co-holder is a separate function and case only moves forward when both the parties have passed a task\\n\\nTest Case 10:\\nTest Case Description: nan\\nPreconditions:\\n1. User must launch the CLM application and be defaulted to their Dashboard screen\\n2. User has selected Client Type as \\u201cJoint With Spouse\\u201d\\n3. Holder has uploaded a pro letter in the first question\\n4. Co-holder has checked 'Document uploaded under holder' for the first question and added a new letter for the second question in pro status\\n5. Case must be in the Pre-Approving Stage\\n6. User must have Compliance Officer Tier 1 Approver access rights\\n7. API Checks, e-Identity (if applicable), WC1 Sanctions and Do Not Do Business List (DNDBL) must have been completed\\nSteps: Verify Compliance UI for the Co-holder will show both these attachments - the file that was uploaded for the holder and the file that was uploaded for the co-holder\\nExpected Result: Compliance UI for the Co-holder will show both these attachments - the file that was uploaded for the holder and the file that was uploaded for the co-holder\\n\\nTest Case 11:\\nTest Case Description: Only holder has uploaded a pro letter\\nPreconditions:\\n1. User must launch the CLM application and be defaulted to their Dashboard screen\\n2. User has selected Client Type as \\u201cJoint With Spouse\\u201d\\n3. Only holder has uploaded a pro letter \\n4. Case must be in the Pre-Approving Stage\\n5. User must have Compliance Officer Tier 1 Approver access rights\\n6. API Checks, e-Identity (if applicable), WC1 Sanctions and Do Not Do Business List (DNDBL) must have been completed\\nSteps: Verify Compliance will display only one row, which is for the holder that has the Pro letter.\\nExpected Result: Compliance will display only one row, which is for the holder that has the Pro letter.\\n\\nTest Case 12:\\nTest Case Description: Only co-holder has uploaded a pro letter\\nPreconditions:\\n1. User must launch the CLM application and be defaulted to their Dashboard screen\\n2. User has selected Client Type as \\u201cJoint With Spouse\\u201d\\n3. Only co-holder has uploaded a pro letter \\n4. Case must be in the Pre-Approving Stage\\n5. User must have Compliance Officer Tier 1 Approver access rights\\n6. API Checks, e-Identity (if applicable), WC1 Sanctions and Do Not Do Business List (DNDBL) must have been completed\\nSteps: Verify Compliance will display only one row, which is for the co-holder that has the Pro letter.\\nExpected Result: Verify Compliance will display only one row, which is for the co-holder that has the Pro letter.\\n\\nTest Case 13:\\nTest Case Description: Holder and co-holder has not uploaded a pro letter\\nPreconditions:\\n1. User must launch the CLM application and be defaulted to their Dashboard screen\\n2. User has selected Client Type as \\u201cJoint With Spouse\\u201d\\n3. Holder and co-holder has not uploaded a pro letter\\n4. Case must be in the Pre-Approving Stage\\n5. User must have Compliance Officer Tier 1 Approver access rights\\n6. API Checks, e-Identity (if applicable), WC1 Sanctions and Do Not Do Business List (DNDBL) must have been completed\\nSteps: Verify the pro letter tab won't be displayed for Compliance\\nExpected Result: the pro letter tab won't be displayed for Compliance\\n\\n\",\n          \"Test Case 1:\\nTest Case Description: Update the SR Case Summary Panel for 'Add Recurring EFT' to include Reg Plan Type\\nPreconditions:\\n1. User has created a NC\\n2. User has added a RRSP or RRIF account with any Reg Plan Type\\n3. The NC is Resolved/Completed\\n4. User have successfully entered a client ID and retrieved the information on the \\u2018Add Recurring EFT\\u2019 service workstream\\nSteps: verify the case name:  'Add EFT Recurring EFT:' <DE-063: lasName> + ' ,' +<DE-062 : firstName >\\nExpected Result: the case name:  'Add EFT Recurring EFT:' <DE-063: lasName> + ' ,' +<DE-062 : firstName >\\n\\nTest Case 2:\\nTest Case Description: nan\\nPreconditions:\\n1. User has created a NC\\n2. User has added a RRSP or RRIF account with any Reg Plan Type\\n3. The NC is Resolved/Completed\\n4. User have successfully entered a client ID and retrieved the information on the \\u2018Add Recurring EFT\\u2019 service workstream\\nSteps: verify the Priority: Pega data point\\n\\n\\nExpected Result: the Priority: Pega data point\\n\\n\\n\\nTest Case 3:\\nTest Case Description: nan\\nPreconditions:\\n1. User has created a NC\\n2. User has added a RRSP or RRIF account with any Reg Plan Type\\n3. The NC is Resolved/Completed\\n4. User have successfully entered a client ID and retrieved the information on the \\u2018Add Recurring EFT\\u2019 service workstream\\nSteps: verify the Client Type: <DE-007: clientType>\\n\\n\\nExpected Result: the Client Type: <DE-007: clientType>\\n\\n\\n\\nTest Case 4:\\nTest Case Description: nan\\nPreconditions:\\n1. User has created a NC\\n2. User has added a RRSP or RRIF account with any Reg Plan Type\\n3. The NC is Resolved/Completed\\n4. User have successfully entered a client ID and retrieved the information on the \\u2018Add Recurring EFT\\u2019 service workstream\\nSteps: verify Status: Pega data point\\n\\n\\nExpected Result: Status: Pega data point\\n\\n\\n\\nTest Case 5:\\nTest Case Description: nan\\nPreconditions:\\n1. User has created a NC\\n2. User has added a RRSP or RRIF account with any Reg Plan Type\\n3. The NC is Resolved/Completed\\n4. User have successfully entered a client ID and retrieved the information on the \\u2018Add Recurring EFT\\u2019 service workstream\\nSteps: verify the Associated Party: Retrieve <DE-062: firstName > + ' ' + <DE-063: lasName>\\n\\n\\nExpected Result: the Associated Party: Retrieve <DE-062: firstName > + ' ' + <DE-063: lasName>\\n\\n\\n\\nTest Case 6:\\nTest Case Description: nan\\nPreconditions:\\n1. User has created a NC\\n2. User has added a RRSP or RRIF account with any Reg Plan Type\\n3. The NC is Resolved/Completed\\n4. User have successfully entered a client ID and retrieved the information on the \\u2018Add Recurring EFT\\u2019 service workstream\\nSteps: verify Email (Res): <DE-197: Email>\\n\\n\\nExpected Result: Email (Res): <DE-197: Email>\\n\\n\\n\\nTest Case 7:\\nTest Case Description: nan\\nPreconditions:\\n1. User has created a NC\\n2. User has added a RRSP or RRIF account with any Reg Plan Type\\n3. The NC is Resolved/Completed\\n4. User have successfully entered a client ID and retrieved the information on the \\u2018Add Recurring EFT\\u2019 service workstream\\nSteps: verify Phone (Res): <DE-194: Phone>\\n\\n\\nExpected Result: Phone (Res): <DE-194: Phone>\\n\\n\\n\\nTest Case 8:\\nTest Case Description: nan\\nPreconditions:\\n1. User has created a NC\\n2. User has added a RRSP or RRIF account with any Reg Plan Type\\n3. The NC is Resolved/Completed\\n4. User have successfully entered a client ID and retrieved the information on the \\u2018Add Recurring EFT\\u2019 service workstream\\nSteps: verify Client ID: <DE-006 : ClientID>\\nExpected Result: Client ID: <DE-006 : ClientID>\\n\\nTest Case 9:\\nTest Case Description: nan\\nPreconditions:\\n1. User has created a NC\\n2. User has added a RRSP or RRIF account with any Reg Plan Type\\n3. The NC is Resolved/Completed\\n4. User have successfully entered a client ID and retrieved the information on the \\u2018Add Recurring EFT\\u2019 service workstream\\nSteps: verifyThe below fields need to be added below Client ID field Account(s)  Type, Currency, Fee Type\\nExpected Result: The below fields are  added below Client ID field Account(s)  Type, Currency, Fee Type\\n\\nTest Case 10:\\nTest Case Description: nan\\nPreconditions:\\n1. User has created a NC\\n2. User has added a RRSP or RRIF account with any Reg Plan Type\\n3. The NC is Resolved/Completed\\n4. User have successfully entered a client ID and retrieved the information on the \\u2018Add Recurring EFT\\u2019 service workstream\\nSteps: Verify Reg Plan Type is added next to the account type: \\n<DE-242:AccountType> - <DE-XXX: RegPlanType>\\nExpected Result: Reg Plan Type is added next to the account type:\\n<DE-242:AccountType> - <DE-XXX: RegPlanType>\\n\\nTest Case 11:\\nTest Case Description: nan\\nPreconditions:\\n1. User has created a NC\\n2. User has added a RRSP or RRIF account with any Reg Plan Type\\n3. The NC is Resolved/Completed\\n4. User have successfully entered a client ID and retrieved the information on the \\u2018Add Recurring EFT\\u2019 service workstream\\nSteps: verify The Account Numbers are sorted alphanumerically\\nExpected Result: The Account Numbers are sorted alphanumerically\\n\\nTest Case 12:\\nTest Case Description: nan\\nPreconditions:\\n1. User has created a NC\\n2. User has added a RRSP or RRIF account with any Reg Plan Type\\n3. The NC is Resolved/Completed\\n4. User have successfully entered a client ID and retrieved the information on the \\u2018Add Recurring EFT\\u2019 service workstream\\nSteps: Verify that IA Code: <DE-008 : IACode>\\nExpected Result: IA Code: <DE-008 : IACode>\\n\\nTest Case 13:\\nTest Case Description: nan\\nPreconditions:\\n1. User has created a NC\\n2. User has added a RRSP or RRIF account with any Reg Plan Type\\n3. The NC is Resolved/Completed\\n4. User have successfully entered a client ID and retrieved the information on the \\u2018Add Recurring EFT\\u2019 service workstream\\nSteps: Verify that IA Name: Pega data point\\nExpected Result: IA Name: Pega data point\\n\\nTest Case 14:\\nTest Case Description: nan\\nPreconditions:\\n1. User has created a NC\\n2. User has added a RRSP or RRIF account with any Reg Plan Type\\n3. The NC is Resolved/Completed\\n4. User have successfully entered a client ID and retrieved the information on the \\u2018Add Recurring EFT\\u2019 service workstream\\nSteps: Verify that IB Code: Pega data point\\nExpected Result: IB Code: Pega data point\\n\\nTest Case 15:\\nTest Case Description: nan\\nPreconditions:\\n1. User has created a NC\\n2. User has added a RRSP or RRIF account with any Reg Plan Type\\n3. The NC is Resolved/Completed\\n4. User have successfully entered a client ID and retrieved the information on the \\u2018Add Recurring EFT\\u2019 service workstream\\nSteps: Verify that Capture Service Request tab exsit \\nExpected Result: Capture Service Request tab exsit \\n\\nTest Case 16:\\nTest Case Description: nan\\nPreconditions:\\n1. User has created a NC\\n2. User has added a RRSP or RRIF account with any Reg Plan Type\\n3. The NC is Resolved/Completed\\n4. User have successfully entered a client ID and retrieved the information on the \\u2018Add Recurring EFT\\u2019 service workstream\\nSteps: Verify that Signing tab exsit \\nExpected Result: Signing tab exsit \\n\\nTest Case 17:\\nTest Case Description: nan\\nPreconditions:\\n1. User has created a NC\\n2. User has added a RRSP or RRIF account with any Reg Plan Type\\n3. The NC is Resolved/Completed\\n4. User have successfully entered a client ID and retrieved the information on the \\u2018Add Recurring EFT\\u2019 service workstream\\nSteps: Verify that Attachments tab exsit \\nExpected Result: Attachments tab exsit \\n\\nTest Case 18:\\nTest Case Description: nan\\nPreconditions:\\n1. User has created a NC\\n2. User has added a RRSP or RRIF account with any Reg Plan Type\\n3. The NC is Resolved/Completed\\n4. User have successfully entered a client ID and retrieved the information on the \\u2018Add Recurring EFT\\u2019 service workstream\\nSteps: Verify that Pulse tab exsit \\nExpected Result: Pulse tab exsit \\n\\nTest Case 19:\\nTest Case Description: nan\\nPreconditions:\\n1. User has created a NC\\n2. User has added a RRSP or RRIF account with any Reg Plan Type\\n3. The NC is Resolved/Completed\\n4. User have successfully entered a client ID and retrieved the information on the \\u2018Add Recurring EFT\\u2019 service workstream\\nSteps: Verify that History tab exsit \\nExpected Result: History tab exsit \\n\\nTest Case 20:\\nTest Case Description: nan\\nPreconditions:\\n1. User has created a NC\\n2. User has added a RRSP or RRIF account with any Reg Plan Type\\n3. The NC is Resolved/Completed\\n4. User have successfully entered a client ID and retrieved the information on the \\u2018Add Recurring EFT\\u2019 service workstream\\nSteps: Verify that 'Follow' icon exsit \\nExpected Result: Follow' icon exsit\\n\\nTest Case 21:\\nTest Case Description: nan\\nPreconditions:\\n1. User has created a NC\\n2. User has added a RRSP or RRIF account with any Reg Plan Type\\n3. The NC is Resolved/Completed\\n4. User have successfully entered a client ID and retrieved the information on the \\u2018Add Recurring EFT\\u2019 service workstream\\nSteps: Verify that A drop down menu labelled 'Actions' exsit \\nExpected Result: A drop down menu labelled 'Actions' exsit \\n\\nTest Case 22:\\nTest Case Description: nan\\nPreconditions:\\n1. User has created a NC\\n2. User has added a RRSP or RRIF account with any Reg Plan Type\\n3. The NC is Resolved/Completed\\n4. User have successfully entered a client ID and retrieved the information on the \\u2018Add Recurring EFT\\u2019 service workstream\\nSteps: Verify that A drop down menu labelled 'Actions'with the following list:\\n\\ni) View history\\nii) Manage Notifications\\niii) Cancel Case\\niv) Refresh\\nExpected Result: A drop down menu labelled 'Actions'with the following list:\\n\\ni) View history\\nii) Manage Notifications\\niii) Cancel Case\\niv) Refresh\\n\\nTest Case 23:\\nTest Case Description: nan\\nPreconditions:\\n1. User has created a NC\\n2. User has added a RRSP or RRIF account with any Reg Plan Type\\n3. The NC is Resolved/Completed\\n4. User have successfully entered a client ID and retrieved the information on the \\u2018Add Recurring EFT\\u2019 service workstream\\nSteps: Verify when cliking on the item View history from menu 'Action' redirect user to HISTORY tab\\nExpected Result: History tab displayed \\n\\nTest Case 24:\\nTest Case Description: nan\\nPreconditions:\\n1. User has created a NC\\n2. User has added a RRSP or RRIF account with any Reg Plan Type\\n3. The NC is Resolved/Completed\\n4. User have successfully entered a client ID and retrieved the information on the \\u2018Add Recurring EFT\\u2019 service workstream\\nSteps: Verify that clicking on the item Manage Notifications, from menu 'Action', popup for Notification preferences appear\\nExpected Result: the popup appear \\n\\nTest Case 25:\\nTest Case Description: nan\\nPreconditions:\\n1. User has created a NC\\n2. User has added a RRSP or RRIF account with any Reg Plan Type\\n3. The NC is Resolved/Completed\\n4. User have successfully entered a client ID and retrieved the information on the \\u2018Add Recurring EFT\\u2019 service workstream\\nSteps: verify that clicking on  item Cancel Case the case from menu 'Action' popup for Cancel Case appear \\nExpected Result: The popup appear \\n\\nTest Case 26:\\nTest Case Description: nan\\nPreconditions:\\n1. User has created a NC\\n2. User has added a RRSP or RRIF account with any Reg Plan Type\\n3. The NC is Resolved/Completed\\n4. User have successfully entered a client ID and retrieved the information on the \\u2018Add Recurring EFT\\u2019 service workstream\\nSteps: verify that clicking on item Refresh from menu 'Action' the page will be refreshed \\nExpected Result: Refresh page done \\n\\nTest Case 27:\\nTest Case Description: nan\\nPreconditions:\\n1. User has created a NC\\n2. User has added a RRSP or RRIF account with any Reg Plan Type\\n3. The NC is Resolved/Completed\\n4. User have successfully entered a client ID and retrieved the information on the \\u2018Add Recurring EFT\\u2019 service workstream\\nSteps: Verify that the workflow stages appear in the main panel in the top \\nExpected Result: the workflow stages appear in the main panel in the top \\n\\nTest Case 28:\\nTest Case Description: nan\\nPreconditions:\\n1. User has created a NC\\n2. User has added a RRSP or RRIF account with any Reg Plan Type\\n3. The NC is Resolved/Completed\\n4. User have successfully entered a client ID and retrieved the information on the \\u2018Add Recurring EFT\\u2019 service workstream\\nSteps: verify that the The main panel should display a panel with READ-ONLY contents based on what tabs displayed in the Case Summary panel has been clicked:\\nTry to change the value\\nExpected Result: The main panel should display a panel with READ-ONLY contents based on what tabs displayed in the Case Summary panel has been clicked.\\n\\nTest Case 29:\\nTest Case Description: verify dataphile\\nPreconditions:\\n1. User has created a NC\\n2. User has added a RRSP or RRIF account with any Reg Plan Type\\n3. The NC is Resolved/Completed\\n4. User have successfully entered a client ID and retrieved the information on the \\u2018Add Recurring EFT\\u2019 service workstream\\nSteps: Verify that reg plan type in dataphile equal to reg plan type in pega\\nExpected Result: reg plan type in dataphile equal to reg plan type in pega\\n\\nTest Case 30:\\nTest Case Description: nan\\nPreconditions:\\n1. User has created a NC\\n2. User has added a RRSP or RRIF account with any Reg Plan Type\\n3. The NC is Resolved/Completed\\n4. User have successfully entered a client ID and retrieved the information on the \\u2018Add Recurring EFT\\u2019 service workstream\\nSteps: Compare the <DE-xxx : lasName> and <DE-xxx : firstName > in pega with DATAPHILE \\nExpected Result: <DE-xxx : lasName> and <DE-xxx : firstName > are the same in PEGA and Dataphile \\n\\nTest Case 31:\\nTest Case Description: nan\\nPreconditions:\\n1. User has created a NC\\n2. User has added a RRSP or RRIF account with any Reg Plan Type\\n3. The NC is Resolved/Completed\\n4. User have successfully entered a client ID and retrieved the information on the \\u2018Add Recurring EFT\\u2019 service workstream\\nSteps: Compare  <DE-xxx : email> in Dataphile with PEGA  \\nExpected Result: <DE-xxx : email> is the same  in Dataphile with PEGA\\n\\nTest Case 32:\\nTest Case Description: nan\\nPreconditions:\\n1. User has created a NC\\n2. User has added a RRSP or RRIF account with any Reg Plan Type\\n3. The NC is Resolved/Completed\\n4. User have successfully entered a client ID and retrieved the information on the \\u2018Add Recurring EFT\\u2019 service workstream\\nSteps: Verify that <DE-xxx : phoneHome> in Dataphile equal to Phone (Res) IN PEGA \\nExpected Result:  <DE-xxx : phoneHome> in Dataphile equal to Phone (Res) IN PEGA \\n\\nTest Case 33:\\nTest Case Description: nan\\nPreconditions:\\n1. User has created a NC\\n2. User has added a RRSP or RRIF account with any Reg Plan Type\\n3. The NC is Resolved/Completed\\n4. User have successfully entered a client ID and retrieved the information on the \\u2018Add Recurring EFT\\u2019 service workstream\\nSteps: Compare <DE-006 : ClientID> in Dataphileand in PEGA \\nExpected Result: <DE-006 : ClientID> is the same in Dataphileand in PEGA\\n\\nTest Case 34:\\nTest Case Description: nan\\nPreconditions:\\n1. User has created a NC\\n2. User has added a RRSP or RRIF account with any Reg Plan Type\\n3. The NC is Resolved/Completed\\n4. User have successfully entered a client ID and retrieved the information on the \\u2018Add Recurring EFT\\u2019 service workstream\\nSteps: Compare <DE-008 : IACode> in Dataphile and in PEGA  \\nExpected Result:  <DE-008 : IACode>is tha same in Dataphile and in PEGA \\n\\n\"\n        ],\n        \"semantic_type\": \"\",\n        \"description\": \"\"\n      }\n    }\n  ]\n}",
              "type": "dataframe",
              "variable_name": "dataset"
            },
            "text/html": [
              "\n",
              "  <div id=\"df-0156ee5b-ddf9-4281-aab6-e9da6b71f326\" class=\"colab-df-container\">\n",
              "    <div>\n",
              "<style scoped>\n",
              "    .dataframe tbody tr th:only-of-type {\n",
              "        vertical-align: middle;\n",
              "    }\n",
              "\n",
              "    .dataframe tbody tr th {\n",
              "        vertical-align: top;\n",
              "    }\n",
              "\n",
              "    .dataframe thead th {\n",
              "        text-align: right;\n",
              "    }\n",
              "</style>\n",
              "<table border=\"1\" class=\"dataframe\">\n",
              "  <thead>\n",
              "    <tr style=\"text-align: right;\">\n",
              "      <th></th>\n",
              "      <th>Issue Key</th>\n",
              "      <th>user_story</th>\n",
              "      <th>STP</th>\n",
              "    </tr>\n",
              "  </thead>\n",
              "  <tbody>\n",
              "    <tr>\n",
              "      <th>0</th>\n",
              "      <td>CLM-16730</td>\n",
              "      <td>As a Compliance Officer Tier 2 I want to be ab...</td>\n",
              "      <td>Test Case 1:\\nTest Case Description: Review if...</td>\n",
              "    </tr>\n",
              "    <tr>\n",
              "      <th>1</th>\n",
              "      <td>CLM-16657</td>\n",
              "      <td>As an Advisor Team persona I want to add holde...</td>\n",
              "      <td>Test Case 1:\\nTest Case Description: RC518 for...</td>\n",
              "    </tr>\n",
              "    <tr>\n",
              "      <th>2</th>\n",
              "      <td>CLM-16542</td>\n",
              "      <td>As a Compliance Officer Tier 1 I want to be ab...</td>\n",
              "      <td>Test Case 1:\\nTest Case Description: Review if...</td>\n",
              "    </tr>\n",
              "    <tr>\n",
              "      <th>3</th>\n",
              "      <td>CLM-16537</td>\n",
              "      <td>As an Advisor Team I want to know when I can c...</td>\n",
              "      <td>Test Case 1:\\nTest Case Description: nan\\nPrec...</td>\n",
              "    </tr>\n",
              "    <tr>\n",
              "      <th>4</th>\n",
              "      <td>CLM-16536</td>\n",
              "      <td>As an Advisor Team I need to be able to have a...</td>\n",
              "      <td>Test Case 1:\\nTest Case Description: Staging e...</td>\n",
              "    </tr>\n",
              "  </tbody>\n",
              "</table>\n",
              "</div>\n",
              "    <div class=\"colab-df-buttons\">\n",
              "\n",
              "  <div class=\"colab-df-container\">\n",
              "    <button class=\"colab-df-convert\" onclick=\"convertToInteractive('df-0156ee5b-ddf9-4281-aab6-e9da6b71f326')\"\n",
              "            title=\"Convert this dataframe to an interactive table.\"\n",
              "            style=\"display:none;\">\n",
              "\n",
              "  <svg xmlns=\"http://www.w3.org/2000/svg\" height=\"24px\" viewBox=\"0 -960 960 960\">\n",
              "    <path d=\"M120-120v-720h720v720H120Zm60-500h600v-160H180v160Zm220 220h160v-160H400v160Zm0 220h160v-160H400v160ZM180-400h160v-160H180v160Zm440 0h160v-160H620v160ZM180-180h160v-160H180v160Zm440 0h160v-160H620v160Z\"/>\n",
              "  </svg>\n",
              "    </button>\n",
              "\n",
              "  <style>\n",
              "    .colab-df-container {\n",
              "      display:flex;\n",
              "      gap: 12px;\n",
              "    }\n",
              "\n",
              "    .colab-df-convert {\n",
              "      background-color: #E8F0FE;\n",
              "      border: none;\n",
              "      border-radius: 50%;\n",
              "      cursor: pointer;\n",
              "      display: none;\n",
              "      fill: #1967D2;\n",
              "      height: 32px;\n",
              "      padding: 0 0 0 0;\n",
              "      width: 32px;\n",
              "    }\n",
              "\n",
              "    .colab-df-convert:hover {\n",
              "      background-color: #E2EBFA;\n",
              "      box-shadow: 0px 1px 2px rgba(60, 64, 67, 0.3), 0px 1px 3px 1px rgba(60, 64, 67, 0.15);\n",
              "      fill: #174EA6;\n",
              "    }\n",
              "\n",
              "    .colab-df-buttons div {\n",
              "      margin-bottom: 4px;\n",
              "    }\n",
              "\n",
              "    [theme=dark] .colab-df-convert {\n",
              "      background-color: #3B4455;\n",
              "      fill: #D2E3FC;\n",
              "    }\n",
              "\n",
              "    [theme=dark] .colab-df-convert:hover {\n",
              "      background-color: #434B5C;\n",
              "      box-shadow: 0px 1px 3px 1px rgba(0, 0, 0, 0.15);\n",
              "      filter: drop-shadow(0px 1px 2px rgba(0, 0, 0, 0.3));\n",
              "      fill: #FFFFFF;\n",
              "    }\n",
              "  </style>\n",
              "\n",
              "    <script>\n",
              "      const buttonEl =\n",
              "        document.querySelector('#df-0156ee5b-ddf9-4281-aab6-e9da6b71f326 button.colab-df-convert');\n",
              "      buttonEl.style.display =\n",
              "        google.colab.kernel.accessAllowed ? 'block' : 'none';\n",
              "\n",
              "      async function convertToInteractive(key) {\n",
              "        const element = document.querySelector('#df-0156ee5b-ddf9-4281-aab6-e9da6b71f326');\n",
              "        const dataTable =\n",
              "          await google.colab.kernel.invokeFunction('convertToInteractive',\n",
              "                                                    [key], {});\n",
              "        if (!dataTable) return;\n",
              "\n",
              "        const docLinkHtml = 'Like what you see? Visit the ' +\n",
              "          '<a target=\"_blank\" href=https://colab.research.google.com/notebooks/data_table.ipynb>data table notebook</a>'\n",
              "          + ' to learn more about interactive tables.';\n",
              "        element.innerHTML = '';\n",
              "        dataTable['output_type'] = 'display_data';\n",
              "        await google.colab.output.renderOutput(dataTable, element);\n",
              "        const docLink = document.createElement('div');\n",
              "        docLink.innerHTML = docLinkHtml;\n",
              "        element.appendChild(docLink);\n",
              "      }\n",
              "    </script>\n",
              "  </div>\n",
              "\n",
              "\n",
              "<div id=\"df-b7e1e990-020e-4344-a33f-9522e5a14583\">\n",
              "  <button class=\"colab-df-quickchart\" onclick=\"quickchart('df-b7e1e990-020e-4344-a33f-9522e5a14583')\"\n",
              "            title=\"Suggest charts\"\n",
              "            style=\"display:none;\">\n",
              "\n",
              "<svg xmlns=\"http://www.w3.org/2000/svg\" height=\"24px\"viewBox=\"0 0 24 24\"\n",
              "     width=\"24px\">\n",
              "    <g>\n",
              "        <path d=\"M19 3H5c-1.1 0-2 .9-2 2v14c0 1.1.9 2 2 2h14c1.1 0 2-.9 2-2V5c0-1.1-.9-2-2-2zM9 17H7v-7h2v7zm4 0h-2V7h2v10zm4 0h-2v-4h2v4z\"/>\n",
              "    </g>\n",
              "</svg>\n",
              "  </button>\n",
              "\n",
              "<style>\n",
              "  .colab-df-quickchart {\n",
              "      --bg-color: #E8F0FE;\n",
              "      --fill-color: #1967D2;\n",
              "      --hover-bg-color: #E2EBFA;\n",
              "      --hover-fill-color: #174EA6;\n",
              "      --disabled-fill-color: #AAA;\n",
              "      --disabled-bg-color: #DDD;\n",
              "  }\n",
              "\n",
              "  [theme=dark] .colab-df-quickchart {\n",
              "      --bg-color: #3B4455;\n",
              "      --fill-color: #D2E3FC;\n",
              "      --hover-bg-color: #434B5C;\n",
              "      --hover-fill-color: #FFFFFF;\n",
              "      --disabled-bg-color: #3B4455;\n",
              "      --disabled-fill-color: #666;\n",
              "  }\n",
              "\n",
              "  .colab-df-quickchart {\n",
              "    background-color: var(--bg-color);\n",
              "    border: none;\n",
              "    border-radius: 50%;\n",
              "    cursor: pointer;\n",
              "    display: none;\n",
              "    fill: var(--fill-color);\n",
              "    height: 32px;\n",
              "    padding: 0;\n",
              "    width: 32px;\n",
              "  }\n",
              "\n",
              "  .colab-df-quickchart:hover {\n",
              "    background-color: var(--hover-bg-color);\n",
              "    box-shadow: 0 1px 2px rgba(60, 64, 67, 0.3), 0 1px 3px 1px rgba(60, 64, 67, 0.15);\n",
              "    fill: var(--button-hover-fill-color);\n",
              "  }\n",
              "\n",
              "  .colab-df-quickchart-complete:disabled,\n",
              "  .colab-df-quickchart-complete:disabled:hover {\n",
              "    background-color: var(--disabled-bg-color);\n",
              "    fill: var(--disabled-fill-color);\n",
              "    box-shadow: none;\n",
              "  }\n",
              "\n",
              "  .colab-df-spinner {\n",
              "    border: 2px solid var(--fill-color);\n",
              "    border-color: transparent;\n",
              "    border-bottom-color: var(--fill-color);\n",
              "    animation:\n",
              "      spin 1s steps(1) infinite;\n",
              "  }\n",
              "\n",
              "  @keyframes spin {\n",
              "    0% {\n",
              "      border-color: transparent;\n",
              "      border-bottom-color: var(--fill-color);\n",
              "      border-left-color: var(--fill-color);\n",
              "    }\n",
              "    20% {\n",
              "      border-color: transparent;\n",
              "      border-left-color: var(--fill-color);\n",
              "      border-top-color: var(--fill-color);\n",
              "    }\n",
              "    30% {\n",
              "      border-color: transparent;\n",
              "      border-left-color: var(--fill-color);\n",
              "      border-top-color: var(--fill-color);\n",
              "      border-right-color: var(--fill-color);\n",
              "    }\n",
              "    40% {\n",
              "      border-color: transparent;\n",
              "      border-right-color: var(--fill-color);\n",
              "      border-top-color: var(--fill-color);\n",
              "    }\n",
              "    60% {\n",
              "      border-color: transparent;\n",
              "      border-right-color: var(--fill-color);\n",
              "    }\n",
              "    80% {\n",
              "      border-color: transparent;\n",
              "      border-right-color: var(--fill-color);\n",
              "      border-bottom-color: var(--fill-color);\n",
              "    }\n",
              "    90% {\n",
              "      border-color: transparent;\n",
              "      border-bottom-color: var(--fill-color);\n",
              "    }\n",
              "  }\n",
              "</style>\n",
              "\n",
              "  <script>\n",
              "    async function quickchart(key) {\n",
              "      const quickchartButtonEl =\n",
              "        document.querySelector('#' + key + ' button');\n",
              "      quickchartButtonEl.disabled = true;  // To prevent multiple clicks.\n",
              "      quickchartButtonEl.classList.add('colab-df-spinner');\n",
              "      try {\n",
              "        const charts = await google.colab.kernel.invokeFunction(\n",
              "            'suggestCharts', [key], {});\n",
              "      } catch (error) {\n",
              "        console.error('Error during call to suggestCharts:', error);\n",
              "      }\n",
              "      quickchartButtonEl.classList.remove('colab-df-spinner');\n",
              "      quickchartButtonEl.classList.add('colab-df-quickchart-complete');\n",
              "    }\n",
              "    (() => {\n",
              "      let quickchartButtonEl =\n",
              "        document.querySelector('#df-b7e1e990-020e-4344-a33f-9522e5a14583 button');\n",
              "      quickchartButtonEl.style.display =\n",
              "        google.colab.kernel.accessAllowed ? 'block' : 'none';\n",
              "    })();\n",
              "  </script>\n",
              "</div>\n",
              "\n",
              "    </div>\n",
              "  </div>\n"
            ],
            "text/plain": [
              "   Issue Key                                         user_story  \\\n",
              "0  CLM-16730  As a Compliance Officer Tier 2 I want to be ab...   \n",
              "1  CLM-16657  As an Advisor Team persona I want to add holde...   \n",
              "2  CLM-16542  As a Compliance Officer Tier 1 I want to be ab...   \n",
              "3  CLM-16537  As an Advisor Team I want to know when I can c...   \n",
              "4  CLM-16536  As an Advisor Team I need to be able to have a...   \n",
              "\n",
              "                                                 STP  \n",
              "0  Test Case 1:\\nTest Case Description: Review if...  \n",
              "1  Test Case 1:\\nTest Case Description: RC518 for...  \n",
              "2  Test Case 1:\\nTest Case Description: Review if...  \n",
              "3  Test Case 1:\\nTest Case Description: nan\\nPrec...  \n",
              "4  Test Case 1:\\nTest Case Description: Staging e...  "
            ]
          },
          "execution_count": 31,
          "metadata": {},
          "output_type": "execute_result"
        }
      ],
      "source": [
        "# Merge the STP dataframe with User-stories Dataframe on condition where issue_key equals file_name\n",
        "concat_df = pd.merge(df_user_story, df_STP, left_on='Issue Key', right_on='file_name')\n",
        "\n",
        "# Select specific columns for the new DataFrame\n",
        "dataset = concat_df[['Issue Key', 'user_story', 'STP']]\n",
        "\n",
        "dataset.head()"
      ]
    },
    {
      "cell_type": "code",
      "execution_count": 32,
      "metadata": {
        "colab": {
          "base_uri": "https://localhost:8080/"
        },
        "id": "JPwJqHOJ1u4c",
        "outputId": "d60d374e-955c-4ea4-bcc9-1a1aa7c00e13"
      },
      "outputs": [
        {
          "data": {
            "text/plain": [
              "(34, 3)"
            ]
          },
          "execution_count": 32,
          "metadata": {},
          "output_type": "execute_result"
        }
      ],
      "source": [
        "dataset.shape"
      ]
    },
    {
      "cell_type": "code",
      "execution_count": 34,
      "metadata": {
        "id": "gcoayPdhO3s8"
      },
      "outputs": [],
      "source": [
        "# Export the dataset to a CSV file\n",
        "dataset.to_csv('dataset(STP_text).csv', index=False, encoding='utf-8')"
      ]
    },
    {
      "cell_type": "markdown",
      "metadata": {
        "id": "bKnyu9iw3Q4s"
      },
      "source": [
        "# Prepare Data for RAG ( Retrieval-Augmented Generation )"
      ]
    },
    {
      "cell_type": "markdown",
      "metadata": {
        "id": "rFYj3G064kM5"
      },
      "source": [
        "#### Prepare Story_STP database\n",
        "\n"
      ]
    },
    {
      "cell_type": "code",
      "execution_count": null,
      "metadata": {
        "id": "VNtw-4n6HO3L"
      },
      "outputs": [],
      "source": [
        "import sqlite3\n",
        "\n",
        "# Connect to the database\n",
        "con = sqlite3.connect(\"Story_STP.db\")\n",
        "cursor = con.cursor()\n",
        "\n",
        "# Create the table\n",
        "cursor.execute(\"\"\"CREATE TABLE IF NOT EXISTS Story_STP (\n",
        "    user_story TEXT,\n",
        "    STP TEXT\n",
        ")\"\"\")\n",
        "\n",
        "# Insert data into the table\n",
        "for i in range(len(dataset)):\n",
        "    user_story = dataset.iloc[i][\"user_story\"]\n",
        "    STP = dataset.iloc[i][\"STP\"]\n",
        "    cursor.execute(\"\"\"INSERT INTO Story_STP (user_story, STP)\n",
        "                    VALUES (?, ?)\"\"\", (user_story, STP))\n",
        "\n",
        "# Commit the changes\n",
        "con.commit()\n",
        "\n",
        "# Close the connection\n",
        "con.close()"
      ]
    },
    {
      "cell_type": "markdown",
      "metadata": {
        "id": "VtmV-TUY5Az9"
      },
      "source": [
        "#### Prepare embedded user-stories\n"
      ]
    },
    {
      "cell_type": "code",
      "execution_count": null,
      "metadata": {
        "collapsed": true,
        "id": "AkCg55yb3ytr"
      },
      "outputs": [],
      "source": [
        "!pip install sentence_transformers"
      ]
    },
    {
      "cell_type": "code",
      "execution_count": 36,
      "metadata": {
        "id": "XvxnQzAEYGI8"
      },
      "outputs": [],
      "source": [
        "from sentence_transformers import SentenceTransformer"
      ]
    },
    {
      "cell_type": "code",
      "execution_count": 37,
      "metadata": {
        "colab": {
          "base_uri": "https://localhost:8080/",
          "height": 493,
          "referenced_widgets": [
            "7c07b34f77b547fbb57b97f6cd3496b4",
            "d78256e8723d485db477f91fa17ef668",
            "04a353b2f63f4f9a926e341668e4cebc",
            "2fdebc2f361749e8a359f63a3baf0eeb",
            "e5485f6f425447a3949627a5821af3da",
            "4c32cee8a80746ef87ea0718e6fa342f",
            "ada3371b46a545dab60dd8df2c04061b",
            "e9d67f5024da4c2fa80efd5d6e17a89a",
            "974270c9bc7b4653b400ffd488620616",
            "ed2947184d7046f7b52a631765a10945",
            "df6fba0536b8497b8bc94854c36581d7",
            "4f3a844e549b446ab21ff46dac540c2d",
            "3a53403dbe454f99bed7bbf673e7ece6",
            "10c38573b7b748b6b4c0e61444350f09",
            "c0a9fbe4642442a0ab676705cd0a2f07",
            "a5b79a950087476793568bfd2a6e06e7",
            "a9fdd243fe5e40bb8b6b97912f07d8f9",
            "42c977e2dc3e432aa6dc273bad0e53f4",
            "666bc04da5044d1bb4e4e87e6f0fe406",
            "9cc1fd7840b042dfaac2ef762b161d85",
            "1af321ac05864f37ab4d8e432462348f",
            "4848f72fedac4b059fc029979df4caa5",
            "731e098ae37e477aa07b577d57e5cd7f",
            "1beff2918c224e1c84a386fa2c4559e5",
            "cb08623fd8c742b9890998a311bf65a3",
            "6f05cd9f470e4417bb4feba1e91f4d85",
            "26bf4ea9974c46a08e7b8fae040fb048",
            "99a003bd4577466592e4a16baab0290e",
            "e32f96ffbd624e1fb4b427d20005f20e",
            "5da1548f14374448bf4184a68177086d",
            "b7557231d95b45459b369275268143b7",
            "c72e8ae2adaa40f08b4805d67dcfc3a5",
            "d165da89269449849baf3c0b1c6f04f4",
            "cc93c1e44dda4d55a27c37db95735b63",
            "2e171d2e5e9b4a5cbd22a1312a0b907b",
            "eaf04d4c4b1d48bd8482f70cd614d7dd",
            "9f3dba1466e2485aa811d9e4a0020cc7",
            "f1d085b5056f47158846b5d33eee6968",
            "c684b6d541854cb38d65a31eff67b4ec",
            "34ff11905bcf42b69c53dbbb923a65a1",
            "a0d7284577f84344bc8984496f134421",
            "53d7ef1548d04771a65e825fb0814f22",
            "ca65663f35474eb2b7de9b9f0cacd099",
            "6e2ef8c7c81340988352a092e34f1fa8",
            "3d47e84552b54e408d06ecd5ab567df4",
            "2238ba03b34a459eb678013e16980db3",
            "f21e360b577b46e09d79c7b0222e2a84",
            "c43424f3824d4c7cb94a71ddb2be809d",
            "c17e0ddd1872467b9322a13565591f44",
            "3534fc376dce46749480f4f429557b58",
            "f1efc4efeb944bd2aee43b8385e92bde",
            "a96a6824a9894d62b22480cecb80a86c",
            "c9b742363bb24552a0c03d6105c44a4c",
            "f6241a9c5827476bbeba71eab8015d16",
            "c189e375ed0549739340f008c58d8f0c",
            "d28b0649ee7e4beda6a0acd02cddea38",
            "3e18a7a99bd54cbd8dc9f08c2859f929",
            "5c8169e29a85472cb003df787795d50a",
            "1a81f2415b5b448b9bef3f3928b5c2d5",
            "54e1fb8a21bc4fba90a835b6814540ba",
            "2c857663614841bd8b9b62d46dbd9b8c",
            "88cea056b1764776b74b9bb2c009e8f3",
            "4e4db0f0e45b4fb8be5b95bb53cfa72a",
            "db2a1429637843c39250e54a4074e63a",
            "1ce2632caf37436d93e736f0415316cc",
            "d1169cfc635942f685a2b8c7434591bb",
            "d59fd81d203c4502ae9d41d1907edc51",
            "47da83e16ba04cb3850be85d9018db75",
            "32adb148b5f84675bb2ad80cda0cd3d9",
            "49e768abb29949379ac9742d9c75ef5b",
            "b0bbd1da42004858b889065a877efe67",
            "f5cde4f751af485d80bdfa1a6bed4f78",
            "af9e70843e9e4184a70f6852d42137d3",
            "1c7fb50576304b1b9336faf1e2ac6ba9",
            "0b200d9c8f1f4e6c9ebe0db9bb9f3703",
            "4e1a230019624aa796bda0bfbf771708",
            "58e3e6108e6c41ceb1506ceba46b3828",
            "3205a969d6ef420ea248c98da95f65b0",
            "480d7a611f20484f9c9341cc965ffe41",
            "68ccbd2a560c47fcbb596b42d9a32f49",
            "3148635479f743659c840c8416949387",
            "89215435e6d74091a74db0f2effaa400",
            "d0b8cbb4f595476aa09d81fb7d485a06",
            "386bbe34f1d24c8dae0fb2446b17b94b",
            "6765be91fb5442d0822bf38b0c77a4db",
            "2df137adfab54f829a77639056d8dd5f",
            "e88f14af3b724591a1494939891de0fd",
            "618f923ec56a47ccb88fb409d86ed3df",
            "f82b76d2b1a646c4b64db0bfa04a9ff7",
            "6668620eda0140d59d746b35de15ff02",
            "933f4d6ecd6a477f9e952e0572ada930",
            "673bfc566bb44971b261af24f27deea8",
            "6d51edd93e514f63b964ebb46e375ac3",
            "3a270c87201347c98403943d4822a5f9",
            "cb0e65db6edb49369bd03390a8f0e229",
            "00e4d9f09de44e6e89b5e0bc78ca069d",
            "20a6b6ad75c9419eb964bed68b0c97b6",
            "0738d6e90d7943369e499144931cf41a",
            "0529e0077b0740c680c1510e1e6de8bf",
            "56b2a296a7dd4e39b16faef65b64c950",
            "8550c3429e934f4a9ab49f18df95ac6e",
            "ae41b7f3f3d04ee49d063ba5a125f87b",
            "1062385729ad42338e432645bbe8186d",
            "deeec10b76dc4b5b965498c954a73c28",
            "2baa1de703f342fe9c2fb25b61535047",
            "dbedfa1e643b4da2849c6a442fb75216",
            "8d87563ec7f2495fa39a8c82aa2064fe",
            "1e2d5b2b2dc14063becbc948d5a57a47",
            "458bc6a931b24bb7b73954e7821dd98d",
            "b98e8a8ff1154e49a1dced38559bcc02",
            "6e856ae88c4c4f5a9b05241812a10140",
            "b9cc2c024d164926aba29c19f941936d",
            "2300535910814355b7043395dfd1b69d",
            "189b4b7f4e664aa8bab196a0cdae3029",
            "ea276b0d336a41b9914de6706b420ed6",
            "23fd6e8b576b46be8b212eb00605d817",
            "098eede65b9344719a1c8715c12a1d88",
            "53ce295e3c754c68b244240c79764fc4",
            "a9274fcc31b3485681d73feb3cbf3f83",
            "f94abc08ac2444988e6a194171f81abd",
            "3dd4d9ab1e9c4ecdabba940f6f1c06b4"
          ]
        },
        "id": "IdyZZ1kJFJsd",
        "outputId": "6490acdd-2d42-4eba-c04f-a9ed292186fa"
      },
      "outputs": [
        {
          "name": "stderr",
          "output_type": "stream",
          "text": [
            "/usr/local/lib/python3.10/dist-packages/huggingface_hub/utils/_token.py:88: UserWarning: \n",
            "The secret `HF_TOKEN` does not exist in your Colab secrets.\n",
            "To authenticate with the Hugging Face Hub, create a token in your settings tab (https://huggingface.co/settings/tokens), set it as secret in your Google Colab and restart your session.\n",
            "You will be able to reuse this secret in all of your notebooks.\n",
            "Please note that authentication is recommended but still optional to access public models or datasets.\n",
            "  warnings.warn(\n"
          ]
        },
        {
          "data": {
            "application/vnd.jupyter.widget-view+json": {
              "model_id": "7c07b34f77b547fbb57b97f6cd3496b4",
              "version_major": 2,
              "version_minor": 0
            },
            "text/plain": [
              "modules.json:   0%|          | 0.00/229 [00:00<?, ?B/s]"
            ]
          },
          "metadata": {},
          "output_type": "display_data"
        },
        {
          "data": {
            "application/vnd.jupyter.widget-view+json": {
              "model_id": "4f3a844e549b446ab21ff46dac540c2d",
              "version_major": 2,
              "version_minor": 0
            },
            "text/plain": [
              "config_sentence_transformers.json:   0%|          | 0.00/122 [00:00<?, ?B/s]"
            ]
          },
          "metadata": {},
          "output_type": "display_data"
        },
        {
          "data": {
            "application/vnd.jupyter.widget-view+json": {
              "model_id": "731e098ae37e477aa07b577d57e5cd7f",
              "version_major": 2,
              "version_minor": 0
            },
            "text/plain": [
              "README.md:   0%|          | 0.00/3.73k [00:00<?, ?B/s]"
            ]
          },
          "metadata": {},
          "output_type": "display_data"
        },
        {
          "data": {
            "application/vnd.jupyter.widget-view+json": {
              "model_id": "cc93c1e44dda4d55a27c37db95735b63",
              "version_major": 2,
              "version_minor": 0
            },
            "text/plain": [
              "sentence_bert_config.json:   0%|          | 0.00/53.0 [00:00<?, ?B/s]"
            ]
          },
          "metadata": {},
          "output_type": "display_data"
        },
        {
          "data": {
            "application/vnd.jupyter.widget-view+json": {
              "model_id": "3d47e84552b54e408d06ecd5ab567df4",
              "version_major": 2,
              "version_minor": 0
            },
            "text/plain": [
              "config.json:   0%|          | 0.00/629 [00:00<?, ?B/s]"
            ]
          },
          "metadata": {},
          "output_type": "display_data"
        },
        {
          "data": {
            "application/vnd.jupyter.widget-view+json": {
              "model_id": "d28b0649ee7e4beda6a0acd02cddea38",
              "version_major": 2,
              "version_minor": 0
            },
            "text/plain": [
              "model.safetensors:   0%|          | 0.00/90.9M [00:00<?, ?B/s]"
            ]
          },
          "metadata": {},
          "output_type": "display_data"
        },
        {
          "data": {
            "application/vnd.jupyter.widget-view+json": {
              "model_id": "d59fd81d203c4502ae9d41d1907edc51",
              "version_major": 2,
              "version_minor": 0
            },
            "text/plain": [
              "tokenizer_config.json:   0%|          | 0.00/314 [00:00<?, ?B/s]"
            ]
          },
          "metadata": {},
          "output_type": "display_data"
        },
        {
          "data": {
            "application/vnd.jupyter.widget-view+json": {
              "model_id": "3205a969d6ef420ea248c98da95f65b0",
              "version_major": 2,
              "version_minor": 0
            },
            "text/plain": [
              "vocab.txt:   0%|          | 0.00/232k [00:00<?, ?B/s]"
            ]
          },
          "metadata": {},
          "output_type": "display_data"
        },
        {
          "data": {
            "application/vnd.jupyter.widget-view+json": {
              "model_id": "f82b76d2b1a646c4b64db0bfa04a9ff7",
              "version_major": 2,
              "version_minor": 0
            },
            "text/plain": [
              "tokenizer.json:   0%|          | 0.00/466k [00:00<?, ?B/s]"
            ]
          },
          "metadata": {},
          "output_type": "display_data"
        },
        {
          "data": {
            "application/vnd.jupyter.widget-view+json": {
              "model_id": "56b2a296a7dd4e39b16faef65b64c950",
              "version_major": 2,
              "version_minor": 0
            },
            "text/plain": [
              "special_tokens_map.json:   0%|          | 0.00/112 [00:00<?, ?B/s]"
            ]
          },
          "metadata": {},
          "output_type": "display_data"
        },
        {
          "data": {
            "application/vnd.jupyter.widget-view+json": {
              "model_id": "6e856ae88c4c4f5a9b05241812a10140",
              "version_major": 2,
              "version_minor": 0
            },
            "text/plain": [
              "1_Pooling/config.json:   0%|          | 0.00/190 [00:00<?, ?B/s]"
            ]
          },
          "metadata": {},
          "output_type": "display_data"
        }
      ],
      "source": [
        "model = SentenceTransformer('paraphrase-MiniLM-L6-v2')"
      ]
    },
    {
      "cell_type": "code",
      "execution_count": null,
      "metadata": {
        "id": "GX3ADQekOVjT"
      },
      "outputs": [],
      "source": [
        "# Encode the user stories\n",
        "embedded_data = model.encode(dataset['user_story'])\n",
        "\n",
        "# Save the encoded data to a a numpy file\n",
        "file_path_encoded = \"/content/embedded_userstories.npy\"\n",
        "np.save(file_path_encoded, embedded_data)"
      ]
    },
    {
      "cell_type": "code",
      "execution_count": null,
      "metadata": {
        "colab": {
          "base_uri": "https://localhost:8080/"
        },
        "id": "bJ2SoL7kSi8o",
        "outputId": "59015191-d3fd-43fa-845e-3e3c02bb0a73"
      },
      "outputs": [
        {
          "name": "stdout",
          "output_type": "stream",
          "text": [
            "[[-0.300095   -0.05475002 -0.22116171 ... -0.3204844  -0.06531768\n",
            "  -0.02751713]\n",
            " [-0.4216492  -0.06302075 -0.4041384  ...  0.06485933 -0.11271043\n",
            "  -0.09508252]\n",
            " [-0.24113911  0.06821347 -0.2694906  ... -0.06105834 -0.02052812\n",
            "   0.04761077]\n",
            " ...\n",
            " [-0.21977013  0.04846772 -0.17694476 ... -0.32224166 -0.16216823\n",
            "  -0.00345388]\n",
            " [-0.2685898   0.01311849 -0.13105828 ...  0.1990345  -0.09229769\n",
            "  -0.0022957 ]\n",
            " [-0.04075069 -0.38278276 -0.09150532 ... -0.073023    0.00172745\n",
            "  -0.02125239]]\n"
          ]
        }
      ],
      "source": [
        "# Load embedded data from the file\n",
        "file_path_encoded = \"/content/embedded_userstories.npy\"\n",
        "embedded_data= np.load(file_path_encoded)\n",
        "print(embedded_data)"
      ]
    },
    {
      "cell_type": "code",
      "execution_count": null,
      "metadata": {
        "colab": {
          "base_uri": "https://localhost:8080/"
        },
        "id": "7mxnEAyC3jRs",
        "outputId": "4c31e5d1-35c6-4dd7-bae7-f36fa9b821e7"
      },
      "outputs": [
        {
          "data": {
            "text/plain": [
              "numpy.ndarray"
            ]
          },
          "execution_count": 3,
          "metadata": {},
          "output_type": "execute_result"
        }
      ],
      "source": [
        "type(embedded_data)"
      ]
    }
  ],
  "metadata": {
    "colab": {
      "collapsed_sections": [
        "6EECuhCqx_iW",
        "aYVg8tlLV5Vz",
        "ZpF1qlmnfGpl",
        "a5i-6oZxfPoz",
        "sunyU82auqd2",
        "-bLL635vwmxe",
        "A6cOuF6JY4Bf",
        "myxO5uiLT_LW",
        "CPr24SfaJDZF",
        "GuyxvWPObXMb"
      ],
      "provenance": []
    },
    "kernelspec": {
      "display_name": "Python 3",
      "name": "python3"
    },
    "language_info": {
      "name": "python"
    },
    "widgets": {
      "application/vnd.jupyter.widget-state+json": {
        "00e4d9f09de44e6e89b5e0bc78ca069d": {
          "model_module": "@jupyter-widgets/base",
          "model_module_version": "1.2.0",
          "model_name": "LayoutModel",
          "state": {
            "_model_module": "@jupyter-widgets/base",
            "_model_module_version": "1.2.0",
            "_model_name": "LayoutModel",
            "_view_count": null,
            "_view_module": "@jupyter-widgets/base",
            "_view_module_version": "1.2.0",
            "_view_name": "LayoutView",
            "align_content": null,
            "align_items": null,
            "align_self": null,
            "border": null,
            "bottom": null,
            "display": null,
            "flex": null,
            "flex_flow": null,
            "grid_area": null,
            "grid_auto_columns": null,
            "grid_auto_flow": null,
            "grid_auto_rows": null,
            "grid_column": null,
            "grid_gap": null,
            "grid_row": null,
            "grid_template_areas": null,
            "grid_template_columns": null,
            "grid_template_rows": null,
            "height": null,
            "justify_content": null,
            "justify_items": null,
            "left": null,
            "margin": null,
            "max_height": null,
            "max_width": null,
            "min_height": null,
            "min_width": null,
            "object_fit": null,
            "object_position": null,
            "order": null,
            "overflow": null,
            "overflow_x": null,
            "overflow_y": null,
            "padding": null,
            "right": null,
            "top": null,
            "visibility": null,
            "width": null
          }
        },
        "04a353b2f63f4f9a926e341668e4cebc": {
          "model_module": "@jupyter-widgets/controls",
          "model_module_version": "1.5.0",
          "model_name": "FloatProgressModel",
          "state": {
            "_dom_classes": [],
            "_model_module": "@jupyter-widgets/controls",
            "_model_module_version": "1.5.0",
            "_model_name": "FloatProgressModel",
            "_view_count": null,
            "_view_module": "@jupyter-widgets/controls",
            "_view_module_version": "1.5.0",
            "_view_name": "ProgressView",
            "bar_style": "success",
            "description": "",
            "description_tooltip": null,
            "layout": "IPY_MODEL_e9d67f5024da4c2fa80efd5d6e17a89a",
            "max": 229,
            "min": 0,
            "orientation": "horizontal",
            "style": "IPY_MODEL_974270c9bc7b4653b400ffd488620616",
            "value": 229
          }
        },
        "0529e0077b0740c680c1510e1e6de8bf": {
          "model_module": "@jupyter-widgets/controls",
          "model_module_version": "1.5.0",
          "model_name": "DescriptionStyleModel",
          "state": {
            "_model_module": "@jupyter-widgets/controls",
            "_model_module_version": "1.5.0",
            "_model_name": "DescriptionStyleModel",
            "_view_count": null,
            "_view_module": "@jupyter-widgets/base",
            "_view_module_version": "1.2.0",
            "_view_name": "StyleView",
            "description_width": ""
          }
        },
        "0738d6e90d7943369e499144931cf41a": {
          "model_module": "@jupyter-widgets/base",
          "model_module_version": "1.2.0",
          "model_name": "LayoutModel",
          "state": {
            "_model_module": "@jupyter-widgets/base",
            "_model_module_version": "1.2.0",
            "_model_name": "LayoutModel",
            "_view_count": null,
            "_view_module": "@jupyter-widgets/base",
            "_view_module_version": "1.2.0",
            "_view_name": "LayoutView",
            "align_content": null,
            "align_items": null,
            "align_self": null,
            "border": null,
            "bottom": null,
            "display": null,
            "flex": null,
            "flex_flow": null,
            "grid_area": null,
            "grid_auto_columns": null,
            "grid_auto_flow": null,
            "grid_auto_rows": null,
            "grid_column": null,
            "grid_gap": null,
            "grid_row": null,
            "grid_template_areas": null,
            "grid_template_columns": null,
            "grid_template_rows": null,
            "height": null,
            "justify_content": null,
            "justify_items": null,
            "left": null,
            "margin": null,
            "max_height": null,
            "max_width": null,
            "min_height": null,
            "min_width": null,
            "object_fit": null,
            "object_position": null,
            "order": null,
            "overflow": null,
            "overflow_x": null,
            "overflow_y": null,
            "padding": null,
            "right": null,
            "top": null,
            "visibility": null,
            "width": null
          }
        },
        "098eede65b9344719a1c8715c12a1d88": {
          "model_module": "@jupyter-widgets/controls",
          "model_module_version": "1.5.0",
          "model_name": "DescriptionStyleModel",
          "state": {
            "_model_module": "@jupyter-widgets/controls",
            "_model_module_version": "1.5.0",
            "_model_name": "DescriptionStyleModel",
            "_view_count": null,
            "_view_module": "@jupyter-widgets/base",
            "_view_module_version": "1.2.0",
            "_view_name": "StyleView",
            "description_width": ""
          }
        },
        "0b200d9c8f1f4e6c9ebe0db9bb9f3703": {
          "model_module": "@jupyter-widgets/controls",
          "model_module_version": "1.5.0",
          "model_name": "ProgressStyleModel",
          "state": {
            "_model_module": "@jupyter-widgets/controls",
            "_model_module_version": "1.5.0",
            "_model_name": "ProgressStyleModel",
            "_view_count": null,
            "_view_module": "@jupyter-widgets/base",
            "_view_module_version": "1.2.0",
            "_view_name": "StyleView",
            "bar_color": null,
            "description_width": ""
          }
        },
        "1062385729ad42338e432645bbe8186d": {
          "model_module": "@jupyter-widgets/controls",
          "model_module_version": "1.5.0",
          "model_name": "HTMLModel",
          "state": {
            "_dom_classes": [],
            "_model_module": "@jupyter-widgets/controls",
            "_model_module_version": "1.5.0",
            "_model_name": "HTMLModel",
            "_view_count": null,
            "_view_module": "@jupyter-widgets/controls",
            "_view_module_version": "1.5.0",
            "_view_name": "HTMLView",
            "description": "",
            "description_tooltip": null,
            "layout": "IPY_MODEL_458bc6a931b24bb7b73954e7821dd98d",
            "placeholder": "​",
            "style": "IPY_MODEL_b98e8a8ff1154e49a1dced38559bcc02",
            "value": " 112/112 [00:00&lt;00:00, 4.06kB/s]"
          }
        },
        "10c38573b7b748b6b4c0e61444350f09": {
          "model_module": "@jupyter-widgets/controls",
          "model_module_version": "1.5.0",
          "model_name": "FloatProgressModel",
          "state": {
            "_dom_classes": [],
            "_model_module": "@jupyter-widgets/controls",
            "_model_module_version": "1.5.0",
            "_model_name": "FloatProgressModel",
            "_view_count": null,
            "_view_module": "@jupyter-widgets/controls",
            "_view_module_version": "1.5.0",
            "_view_name": "ProgressView",
            "bar_style": "success",
            "description": "",
            "description_tooltip": null,
            "layout": "IPY_MODEL_666bc04da5044d1bb4e4e87e6f0fe406",
            "max": 122,
            "min": 0,
            "orientation": "horizontal",
            "style": "IPY_MODEL_9cc1fd7840b042dfaac2ef762b161d85",
            "value": 122
          }
        },
        "189b4b7f4e664aa8bab196a0cdae3029": {
          "model_module": "@jupyter-widgets/controls",
          "model_module_version": "1.5.0",
          "model_name": "HTMLModel",
          "state": {
            "_dom_classes": [],
            "_model_module": "@jupyter-widgets/controls",
            "_model_module_version": "1.5.0",
            "_model_name": "HTMLModel",
            "_view_count": null,
            "_view_module": "@jupyter-widgets/controls",
            "_view_module_version": "1.5.0",
            "_view_name": "HTMLView",
            "description": "",
            "description_tooltip": null,
            "layout": "IPY_MODEL_f94abc08ac2444988e6a194171f81abd",
            "placeholder": "​",
            "style": "IPY_MODEL_3dd4d9ab1e9c4ecdabba940f6f1c06b4",
            "value": " 190/190 [00:00&lt;00:00, 2.47kB/s]"
          }
        },
        "1a81f2415b5b448b9bef3f3928b5c2d5": {
          "model_module": "@jupyter-widgets/controls",
          "model_module_version": "1.5.0",
          "model_name": "HTMLModel",
          "state": {
            "_dom_classes": [],
            "_model_module": "@jupyter-widgets/controls",
            "_model_module_version": "1.5.0",
            "_model_name": "HTMLModel",
            "_view_count": null,
            "_view_module": "@jupyter-widgets/controls",
            "_view_module_version": "1.5.0",
            "_view_name": "HTMLView",
            "description": "",
            "description_tooltip": null,
            "layout": "IPY_MODEL_1ce2632caf37436d93e736f0415316cc",
            "placeholder": "​",
            "style": "IPY_MODEL_d1169cfc635942f685a2b8c7434591bb",
            "value": " 90.9M/90.9M [00:00&lt;00:00, 119MB/s]"
          }
        },
        "1af321ac05864f37ab4d8e432462348f": {
          "model_module": "@jupyter-widgets/base",
          "model_module_version": "1.2.0",
          "model_name": "LayoutModel",
          "state": {
            "_model_module": "@jupyter-widgets/base",
            "_model_module_version": "1.2.0",
            "_model_name": "LayoutModel",
            "_view_count": null,
            "_view_module": "@jupyter-widgets/base",
            "_view_module_version": "1.2.0",
            "_view_name": "LayoutView",
            "align_content": null,
            "align_items": null,
            "align_self": null,
            "border": null,
            "bottom": null,
            "display": null,
            "flex": null,
            "flex_flow": null,
            "grid_area": null,
            "grid_auto_columns": null,
            "grid_auto_flow": null,
            "grid_auto_rows": null,
            "grid_column": null,
            "grid_gap": null,
            "grid_row": null,
            "grid_template_areas": null,
            "grid_template_columns": null,
            "grid_template_rows": null,
            "height": null,
            "justify_content": null,
            "justify_items": null,
            "left": null,
            "margin": null,
            "max_height": null,
            "max_width": null,
            "min_height": null,
            "min_width": null,
            "object_fit": null,
            "object_position": null,
            "order": null,
            "overflow": null,
            "overflow_x": null,
            "overflow_y": null,
            "padding": null,
            "right": null,
            "top": null,
            "visibility": null,
            "width": null
          }
        },
        "1beff2918c224e1c84a386fa2c4559e5": {
          "model_module": "@jupyter-widgets/controls",
          "model_module_version": "1.5.0",
          "model_name": "HTMLModel",
          "state": {
            "_dom_classes": [],
            "_model_module": "@jupyter-widgets/controls",
            "_model_module_version": "1.5.0",
            "_model_name": "HTMLModel",
            "_view_count": null,
            "_view_module": "@jupyter-widgets/controls",
            "_view_module_version": "1.5.0",
            "_view_name": "HTMLView",
            "description": "",
            "description_tooltip": null,
            "layout": "IPY_MODEL_99a003bd4577466592e4a16baab0290e",
            "placeholder": "​",
            "style": "IPY_MODEL_e32f96ffbd624e1fb4b427d20005f20e",
            "value": "README.md: 100%"
          }
        },
        "1c7fb50576304b1b9336faf1e2ac6ba9": {
          "model_module": "@jupyter-widgets/base",
          "model_module_version": "1.2.0",
          "model_name": "LayoutModel",
          "state": {
            "_model_module": "@jupyter-widgets/base",
            "_model_module_version": "1.2.0",
            "_model_name": "LayoutModel",
            "_view_count": null,
            "_view_module": "@jupyter-widgets/base",
            "_view_module_version": "1.2.0",
            "_view_name": "LayoutView",
            "align_content": null,
            "align_items": null,
            "align_self": null,
            "border": null,
            "bottom": null,
            "display": null,
            "flex": null,
            "flex_flow": null,
            "grid_area": null,
            "grid_auto_columns": null,
            "grid_auto_flow": null,
            "grid_auto_rows": null,
            "grid_column": null,
            "grid_gap": null,
            "grid_row": null,
            "grid_template_areas": null,
            "grid_template_columns": null,
            "grid_template_rows": null,
            "height": null,
            "justify_content": null,
            "justify_items": null,
            "left": null,
            "margin": null,
            "max_height": null,
            "max_width": null,
            "min_height": null,
            "min_width": null,
            "object_fit": null,
            "object_position": null,
            "order": null,
            "overflow": null,
            "overflow_x": null,
            "overflow_y": null,
            "padding": null,
            "right": null,
            "top": null,
            "visibility": null,
            "width": null
          }
        },
        "1ce2632caf37436d93e736f0415316cc": {
          "model_module": "@jupyter-widgets/base",
          "model_module_version": "1.2.0",
          "model_name": "LayoutModel",
          "state": {
            "_model_module": "@jupyter-widgets/base",
            "_model_module_version": "1.2.0",
            "_model_name": "LayoutModel",
            "_view_count": null,
            "_view_module": "@jupyter-widgets/base",
            "_view_module_version": "1.2.0",
            "_view_name": "LayoutView",
            "align_content": null,
            "align_items": null,
            "align_self": null,
            "border": null,
            "bottom": null,
            "display": null,
            "flex": null,
            "flex_flow": null,
            "grid_area": null,
            "grid_auto_columns": null,
            "grid_auto_flow": null,
            "grid_auto_rows": null,
            "grid_column": null,
            "grid_gap": null,
            "grid_row": null,
            "grid_template_areas": null,
            "grid_template_columns": null,
            "grid_template_rows": null,
            "height": null,
            "justify_content": null,
            "justify_items": null,
            "left": null,
            "margin": null,
            "max_height": null,
            "max_width": null,
            "min_height": null,
            "min_width": null,
            "object_fit": null,
            "object_position": null,
            "order": null,
            "overflow": null,
            "overflow_x": null,
            "overflow_y": null,
            "padding": null,
            "right": null,
            "top": null,
            "visibility": null,
            "width": null
          }
        },
        "1e2d5b2b2dc14063becbc948d5a57a47": {
          "model_module": "@jupyter-widgets/controls",
          "model_module_version": "1.5.0",
          "model_name": "ProgressStyleModel",
          "state": {
            "_model_module": "@jupyter-widgets/controls",
            "_model_module_version": "1.5.0",
            "_model_name": "ProgressStyleModel",
            "_view_count": null,
            "_view_module": "@jupyter-widgets/base",
            "_view_module_version": "1.2.0",
            "_view_name": "StyleView",
            "bar_color": null,
            "description_width": ""
          }
        },
        "20a6b6ad75c9419eb964bed68b0c97b6": {
          "model_module": "@jupyter-widgets/controls",
          "model_module_version": "1.5.0",
          "model_name": "ProgressStyleModel",
          "state": {
            "_model_module": "@jupyter-widgets/controls",
            "_model_module_version": "1.5.0",
            "_model_name": "ProgressStyleModel",
            "_view_count": null,
            "_view_module": "@jupyter-widgets/base",
            "_view_module_version": "1.2.0",
            "_view_name": "StyleView",
            "bar_color": null,
            "description_width": ""
          }
        },
        "2238ba03b34a459eb678013e16980db3": {
          "model_module": "@jupyter-widgets/controls",
          "model_module_version": "1.5.0",
          "model_name": "HTMLModel",
          "state": {
            "_dom_classes": [],
            "_model_module": "@jupyter-widgets/controls",
            "_model_module_version": "1.5.0",
            "_model_name": "HTMLModel",
            "_view_count": null,
            "_view_module": "@jupyter-widgets/controls",
            "_view_module_version": "1.5.0",
            "_view_name": "HTMLView",
            "description": "",
            "description_tooltip": null,
            "layout": "IPY_MODEL_3534fc376dce46749480f4f429557b58",
            "placeholder": "​",
            "style": "IPY_MODEL_f1efc4efeb944bd2aee43b8385e92bde",
            "value": "config.json: 100%"
          }
        },
        "2300535910814355b7043395dfd1b69d": {
          "model_module": "@jupyter-widgets/controls",
          "model_module_version": "1.5.0",
          "model_name": "FloatProgressModel",
          "state": {
            "_dom_classes": [],
            "_model_module": "@jupyter-widgets/controls",
            "_model_module_version": "1.5.0",
            "_model_name": "FloatProgressModel",
            "_view_count": null,
            "_view_module": "@jupyter-widgets/controls",
            "_view_module_version": "1.5.0",
            "_view_name": "ProgressView",
            "bar_style": "success",
            "description": "",
            "description_tooltip": null,
            "layout": "IPY_MODEL_53ce295e3c754c68b244240c79764fc4",
            "max": 190,
            "min": 0,
            "orientation": "horizontal",
            "style": "IPY_MODEL_a9274fcc31b3485681d73feb3cbf3f83",
            "value": 190
          }
        },
        "23fd6e8b576b46be8b212eb00605d817": {
          "model_module": "@jupyter-widgets/base",
          "model_module_version": "1.2.0",
          "model_name": "LayoutModel",
          "state": {
            "_model_module": "@jupyter-widgets/base",
            "_model_module_version": "1.2.0",
            "_model_name": "LayoutModel",
            "_view_count": null,
            "_view_module": "@jupyter-widgets/base",
            "_view_module_version": "1.2.0",
            "_view_name": "LayoutView",
            "align_content": null,
            "align_items": null,
            "align_self": null,
            "border": null,
            "bottom": null,
            "display": null,
            "flex": null,
            "flex_flow": null,
            "grid_area": null,
            "grid_auto_columns": null,
            "grid_auto_flow": null,
            "grid_auto_rows": null,
            "grid_column": null,
            "grid_gap": null,
            "grid_row": null,
            "grid_template_areas": null,
            "grid_template_columns": null,
            "grid_template_rows": null,
            "height": null,
            "justify_content": null,
            "justify_items": null,
            "left": null,
            "margin": null,
            "max_height": null,
            "max_width": null,
            "min_height": null,
            "min_width": null,
            "object_fit": null,
            "object_position": null,
            "order": null,
            "overflow": null,
            "overflow_x": null,
            "overflow_y": null,
            "padding": null,
            "right": null,
            "top": null,
            "visibility": null,
            "width": null
          }
        },
        "26bf4ea9974c46a08e7b8fae040fb048": {
          "model_module": "@jupyter-widgets/base",
          "model_module_version": "1.2.0",
          "model_name": "LayoutModel",
          "state": {
            "_model_module": "@jupyter-widgets/base",
            "_model_module_version": "1.2.0",
            "_model_name": "LayoutModel",
            "_view_count": null,
            "_view_module": "@jupyter-widgets/base",
            "_view_module_version": "1.2.0",
            "_view_name": "LayoutView",
            "align_content": null,
            "align_items": null,
            "align_self": null,
            "border": null,
            "bottom": null,
            "display": null,
            "flex": null,
            "flex_flow": null,
            "grid_area": null,
            "grid_auto_columns": null,
            "grid_auto_flow": null,
            "grid_auto_rows": null,
            "grid_column": null,
            "grid_gap": null,
            "grid_row": null,
            "grid_template_areas": null,
            "grid_template_columns": null,
            "grid_template_rows": null,
            "height": null,
            "justify_content": null,
            "justify_items": null,
            "left": null,
            "margin": null,
            "max_height": null,
            "max_width": null,
            "min_height": null,
            "min_width": null,
            "object_fit": null,
            "object_position": null,
            "order": null,
            "overflow": null,
            "overflow_x": null,
            "overflow_y": null,
            "padding": null,
            "right": null,
            "top": null,
            "visibility": null,
            "width": null
          }
        },
        "2baa1de703f342fe9c2fb25b61535047": {
          "model_module": "@jupyter-widgets/base",
          "model_module_version": "1.2.0",
          "model_name": "LayoutModel",
          "state": {
            "_model_module": "@jupyter-widgets/base",
            "_model_module_version": "1.2.0",
            "_model_name": "LayoutModel",
            "_view_count": null,
            "_view_module": "@jupyter-widgets/base",
            "_view_module_version": "1.2.0",
            "_view_name": "LayoutView",
            "align_content": null,
            "align_items": null,
            "align_self": null,
            "border": null,
            "bottom": null,
            "display": null,
            "flex": null,
            "flex_flow": null,
            "grid_area": null,
            "grid_auto_columns": null,
            "grid_auto_flow": null,
            "grid_auto_rows": null,
            "grid_column": null,
            "grid_gap": null,
            "grid_row": null,
            "grid_template_areas": null,
            "grid_template_columns": null,
            "grid_template_rows": null,
            "height": null,
            "justify_content": null,
            "justify_items": null,
            "left": null,
            "margin": null,
            "max_height": null,
            "max_width": null,
            "min_height": null,
            "min_width": null,
            "object_fit": null,
            "object_position": null,
            "order": null,
            "overflow": null,
            "overflow_x": null,
            "overflow_y": null,
            "padding": null,
            "right": null,
            "top": null,
            "visibility": null,
            "width": null
          }
        },
        "2c857663614841bd8b9b62d46dbd9b8c": {
          "model_module": "@jupyter-widgets/base",
          "model_module_version": "1.2.0",
          "model_name": "LayoutModel",
          "state": {
            "_model_module": "@jupyter-widgets/base",
            "_model_module_version": "1.2.0",
            "_model_name": "LayoutModel",
            "_view_count": null,
            "_view_module": "@jupyter-widgets/base",
            "_view_module_version": "1.2.0",
            "_view_name": "LayoutView",
            "align_content": null,
            "align_items": null,
            "align_self": null,
            "border": null,
            "bottom": null,
            "display": null,
            "flex": null,
            "flex_flow": null,
            "grid_area": null,
            "grid_auto_columns": null,
            "grid_auto_flow": null,
            "grid_auto_rows": null,
            "grid_column": null,
            "grid_gap": null,
            "grid_row": null,
            "grid_template_areas": null,
            "grid_template_columns": null,
            "grid_template_rows": null,
            "height": null,
            "justify_content": null,
            "justify_items": null,
            "left": null,
            "margin": null,
            "max_height": null,
            "max_width": null,
            "min_height": null,
            "min_width": null,
            "object_fit": null,
            "object_position": null,
            "order": null,
            "overflow": null,
            "overflow_x": null,
            "overflow_y": null,
            "padding": null,
            "right": null,
            "top": null,
            "visibility": null,
            "width": null
          }
        },
        "2df137adfab54f829a77639056d8dd5f": {
          "model_module": "@jupyter-widgets/controls",
          "model_module_version": "1.5.0",
          "model_name": "ProgressStyleModel",
          "state": {
            "_model_module": "@jupyter-widgets/controls",
            "_model_module_version": "1.5.0",
            "_model_name": "ProgressStyleModel",
            "_view_count": null,
            "_view_module": "@jupyter-widgets/base",
            "_view_module_version": "1.2.0",
            "_view_name": "StyleView",
            "bar_color": null,
            "description_width": ""
          }
        },
        "2e171d2e5e9b4a5cbd22a1312a0b907b": {
          "model_module": "@jupyter-widgets/controls",
          "model_module_version": "1.5.0",
          "model_name": "HTMLModel",
          "state": {
            "_dom_classes": [],
            "_model_module": "@jupyter-widgets/controls",
            "_model_module_version": "1.5.0",
            "_model_name": "HTMLModel",
            "_view_count": null,
            "_view_module": "@jupyter-widgets/controls",
            "_view_module_version": "1.5.0",
            "_view_name": "HTMLView",
            "description": "",
            "description_tooltip": null,
            "layout": "IPY_MODEL_c684b6d541854cb38d65a31eff67b4ec",
            "placeholder": "​",
            "style": "IPY_MODEL_34ff11905bcf42b69c53dbbb923a65a1",
            "value": "sentence_bert_config.json: 100%"
          }
        },
        "2fdebc2f361749e8a359f63a3baf0eeb": {
          "model_module": "@jupyter-widgets/controls",
          "model_module_version": "1.5.0",
          "model_name": "HTMLModel",
          "state": {
            "_dom_classes": [],
            "_model_module": "@jupyter-widgets/controls",
            "_model_module_version": "1.5.0",
            "_model_name": "HTMLModel",
            "_view_count": null,
            "_view_module": "@jupyter-widgets/controls",
            "_view_module_version": "1.5.0",
            "_view_name": "HTMLView",
            "description": "",
            "description_tooltip": null,
            "layout": "IPY_MODEL_ed2947184d7046f7b52a631765a10945",
            "placeholder": "​",
            "style": "IPY_MODEL_df6fba0536b8497b8bc94854c36581d7",
            "value": " 229/229 [00:00&lt;00:00, 6.98kB/s]"
          }
        },
        "3148635479f743659c840c8416949387": {
          "model_module": "@jupyter-widgets/controls",
          "model_module_version": "1.5.0",
          "model_name": "HTMLModel",
          "state": {
            "_dom_classes": [],
            "_model_module": "@jupyter-widgets/controls",
            "_model_module_version": "1.5.0",
            "_model_name": "HTMLModel",
            "_view_count": null,
            "_view_module": "@jupyter-widgets/controls",
            "_view_module_version": "1.5.0",
            "_view_name": "HTMLView",
            "description": "",
            "description_tooltip": null,
            "layout": "IPY_MODEL_e88f14af3b724591a1494939891de0fd",
            "placeholder": "​",
            "style": "IPY_MODEL_618f923ec56a47ccb88fb409d86ed3df",
            "value": " 232k/232k [00:00&lt;00:00, 5.02MB/s]"
          }
        },
        "3205a969d6ef420ea248c98da95f65b0": {
          "model_module": "@jupyter-widgets/controls",
          "model_module_version": "1.5.0",
          "model_name": "HBoxModel",
          "state": {
            "_dom_classes": [],
            "_model_module": "@jupyter-widgets/controls",
            "_model_module_version": "1.5.0",
            "_model_name": "HBoxModel",
            "_view_count": null,
            "_view_module": "@jupyter-widgets/controls",
            "_view_module_version": "1.5.0",
            "_view_name": "HBoxView",
            "box_style": "",
            "children": [
              "IPY_MODEL_480d7a611f20484f9c9341cc965ffe41",
              "IPY_MODEL_68ccbd2a560c47fcbb596b42d9a32f49",
              "IPY_MODEL_3148635479f743659c840c8416949387"
            ],
            "layout": "IPY_MODEL_89215435e6d74091a74db0f2effaa400"
          }
        },
        "32adb148b5f84675bb2ad80cda0cd3d9": {
          "model_module": "@jupyter-widgets/controls",
          "model_module_version": "1.5.0",
          "model_name": "FloatProgressModel",
          "state": {
            "_dom_classes": [],
            "_model_module": "@jupyter-widgets/controls",
            "_model_module_version": "1.5.0",
            "_model_name": "FloatProgressModel",
            "_view_count": null,
            "_view_module": "@jupyter-widgets/controls",
            "_view_module_version": "1.5.0",
            "_view_name": "ProgressView",
            "bar_style": "success",
            "description": "",
            "description_tooltip": null,
            "layout": "IPY_MODEL_1c7fb50576304b1b9336faf1e2ac6ba9",
            "max": 314,
            "min": 0,
            "orientation": "horizontal",
            "style": "IPY_MODEL_0b200d9c8f1f4e6c9ebe0db9bb9f3703",
            "value": 314
          }
        },
        "34ff11905bcf42b69c53dbbb923a65a1": {
          "model_module": "@jupyter-widgets/controls",
          "model_module_version": "1.5.0",
          "model_name": "DescriptionStyleModel",
          "state": {
            "_model_module": "@jupyter-widgets/controls",
            "_model_module_version": "1.5.0",
            "_model_name": "DescriptionStyleModel",
            "_view_count": null,
            "_view_module": "@jupyter-widgets/base",
            "_view_module_version": "1.2.0",
            "_view_name": "StyleView",
            "description_width": ""
          }
        },
        "3534fc376dce46749480f4f429557b58": {
          "model_module": "@jupyter-widgets/base",
          "model_module_version": "1.2.0",
          "model_name": "LayoutModel",
          "state": {
            "_model_module": "@jupyter-widgets/base",
            "_model_module_version": "1.2.0",
            "_model_name": "LayoutModel",
            "_view_count": null,
            "_view_module": "@jupyter-widgets/base",
            "_view_module_version": "1.2.0",
            "_view_name": "LayoutView",
            "align_content": null,
            "align_items": null,
            "align_self": null,
            "border": null,
            "bottom": null,
            "display": null,
            "flex": null,
            "flex_flow": null,
            "grid_area": null,
            "grid_auto_columns": null,
            "grid_auto_flow": null,
            "grid_auto_rows": null,
            "grid_column": null,
            "grid_gap": null,
            "grid_row": null,
            "grid_template_areas": null,
            "grid_template_columns": null,
            "grid_template_rows": null,
            "height": null,
            "justify_content": null,
            "justify_items": null,
            "left": null,
            "margin": null,
            "max_height": null,
            "max_width": null,
            "min_height": null,
            "min_width": null,
            "object_fit": null,
            "object_position": null,
            "order": null,
            "overflow": null,
            "overflow_x": null,
            "overflow_y": null,
            "padding": null,
            "right": null,
            "top": null,
            "visibility": null,
            "width": null
          }
        },
        "386bbe34f1d24c8dae0fb2446b17b94b": {
          "model_module": "@jupyter-widgets/controls",
          "model_module_version": "1.5.0",
          "model_name": "DescriptionStyleModel",
          "state": {
            "_model_module": "@jupyter-widgets/controls",
            "_model_module_version": "1.5.0",
            "_model_name": "DescriptionStyleModel",
            "_view_count": null,
            "_view_module": "@jupyter-widgets/base",
            "_view_module_version": "1.2.0",
            "_view_name": "StyleView",
            "description_width": ""
          }
        },
        "3a270c87201347c98403943d4822a5f9": {
          "model_module": "@jupyter-widgets/base",
          "model_module_version": "1.2.0",
          "model_name": "LayoutModel",
          "state": {
            "_model_module": "@jupyter-widgets/base",
            "_model_module_version": "1.2.0",
            "_model_name": "LayoutModel",
            "_view_count": null,
            "_view_module": "@jupyter-widgets/base",
            "_view_module_version": "1.2.0",
            "_view_name": "LayoutView",
            "align_content": null,
            "align_items": null,
            "align_self": null,
            "border": null,
            "bottom": null,
            "display": null,
            "flex": null,
            "flex_flow": null,
            "grid_area": null,
            "grid_auto_columns": null,
            "grid_auto_flow": null,
            "grid_auto_rows": null,
            "grid_column": null,
            "grid_gap": null,
            "grid_row": null,
            "grid_template_areas": null,
            "grid_template_columns": null,
            "grid_template_rows": null,
            "height": null,
            "justify_content": null,
            "justify_items": null,
            "left": null,
            "margin": null,
            "max_height": null,
            "max_width": null,
            "min_height": null,
            "min_width": null,
            "object_fit": null,
            "object_position": null,
            "order": null,
            "overflow": null,
            "overflow_x": null,
            "overflow_y": null,
            "padding": null,
            "right": null,
            "top": null,
            "visibility": null,
            "width": null
          }
        },
        "3a53403dbe454f99bed7bbf673e7ece6": {
          "model_module": "@jupyter-widgets/controls",
          "model_module_version": "1.5.0",
          "model_name": "HTMLModel",
          "state": {
            "_dom_classes": [],
            "_model_module": "@jupyter-widgets/controls",
            "_model_module_version": "1.5.0",
            "_model_name": "HTMLModel",
            "_view_count": null,
            "_view_module": "@jupyter-widgets/controls",
            "_view_module_version": "1.5.0",
            "_view_name": "HTMLView",
            "description": "",
            "description_tooltip": null,
            "layout": "IPY_MODEL_a9fdd243fe5e40bb8b6b97912f07d8f9",
            "placeholder": "​",
            "style": "IPY_MODEL_42c977e2dc3e432aa6dc273bad0e53f4",
            "value": "config_sentence_transformers.json: 100%"
          }
        },
        "3d47e84552b54e408d06ecd5ab567df4": {
          "model_module": "@jupyter-widgets/controls",
          "model_module_version": "1.5.0",
          "model_name": "HBoxModel",
          "state": {
            "_dom_classes": [],
            "_model_module": "@jupyter-widgets/controls",
            "_model_module_version": "1.5.0",
            "_model_name": "HBoxModel",
            "_view_count": null,
            "_view_module": "@jupyter-widgets/controls",
            "_view_module_version": "1.5.0",
            "_view_name": "HBoxView",
            "box_style": "",
            "children": [
              "IPY_MODEL_2238ba03b34a459eb678013e16980db3",
              "IPY_MODEL_f21e360b577b46e09d79c7b0222e2a84",
              "IPY_MODEL_c43424f3824d4c7cb94a71ddb2be809d"
            ],
            "layout": "IPY_MODEL_c17e0ddd1872467b9322a13565591f44"
          }
        },
        "3dd4d9ab1e9c4ecdabba940f6f1c06b4": {
          "model_module": "@jupyter-widgets/controls",
          "model_module_version": "1.5.0",
          "model_name": "DescriptionStyleModel",
          "state": {
            "_model_module": "@jupyter-widgets/controls",
            "_model_module_version": "1.5.0",
            "_model_name": "DescriptionStyleModel",
            "_view_count": null,
            "_view_module": "@jupyter-widgets/base",
            "_view_module_version": "1.2.0",
            "_view_name": "StyleView",
            "description_width": ""
          }
        },
        "3e18a7a99bd54cbd8dc9f08c2859f929": {
          "model_module": "@jupyter-widgets/controls",
          "model_module_version": "1.5.0",
          "model_name": "HTMLModel",
          "state": {
            "_dom_classes": [],
            "_model_module": "@jupyter-widgets/controls",
            "_model_module_version": "1.5.0",
            "_model_name": "HTMLModel",
            "_view_count": null,
            "_view_module": "@jupyter-widgets/controls",
            "_view_module_version": "1.5.0",
            "_view_name": "HTMLView",
            "description": "",
            "description_tooltip": null,
            "layout": "IPY_MODEL_2c857663614841bd8b9b62d46dbd9b8c",
            "placeholder": "​",
            "style": "IPY_MODEL_88cea056b1764776b74b9bb2c009e8f3",
            "value": "model.safetensors: 100%"
          }
        },
        "42c977e2dc3e432aa6dc273bad0e53f4": {
          "model_module": "@jupyter-widgets/controls",
          "model_module_version": "1.5.0",
          "model_name": "DescriptionStyleModel",
          "state": {
            "_model_module": "@jupyter-widgets/controls",
            "_model_module_version": "1.5.0",
            "_model_name": "DescriptionStyleModel",
            "_view_count": null,
            "_view_module": "@jupyter-widgets/base",
            "_view_module_version": "1.2.0",
            "_view_name": "StyleView",
            "description_width": ""
          }
        },
        "458bc6a931b24bb7b73954e7821dd98d": {
          "model_module": "@jupyter-widgets/base",
          "model_module_version": "1.2.0",
          "model_name": "LayoutModel",
          "state": {
            "_model_module": "@jupyter-widgets/base",
            "_model_module_version": "1.2.0",
            "_model_name": "LayoutModel",
            "_view_count": null,
            "_view_module": "@jupyter-widgets/base",
            "_view_module_version": "1.2.0",
            "_view_name": "LayoutView",
            "align_content": null,
            "align_items": null,
            "align_self": null,
            "border": null,
            "bottom": null,
            "display": null,
            "flex": null,
            "flex_flow": null,
            "grid_area": null,
            "grid_auto_columns": null,
            "grid_auto_flow": null,
            "grid_auto_rows": null,
            "grid_column": null,
            "grid_gap": null,
            "grid_row": null,
            "grid_template_areas": null,
            "grid_template_columns": null,
            "grid_template_rows": null,
            "height": null,
            "justify_content": null,
            "justify_items": null,
            "left": null,
            "margin": null,
            "max_height": null,
            "max_width": null,
            "min_height": null,
            "min_width": null,
            "object_fit": null,
            "object_position": null,
            "order": null,
            "overflow": null,
            "overflow_x": null,
            "overflow_y": null,
            "padding": null,
            "right": null,
            "top": null,
            "visibility": null,
            "width": null
          }
        },
        "47da83e16ba04cb3850be85d9018db75": {
          "model_module": "@jupyter-widgets/controls",
          "model_module_version": "1.5.0",
          "model_name": "HTMLModel",
          "state": {
            "_dom_classes": [],
            "_model_module": "@jupyter-widgets/controls",
            "_model_module_version": "1.5.0",
            "_model_name": "HTMLModel",
            "_view_count": null,
            "_view_module": "@jupyter-widgets/controls",
            "_view_module_version": "1.5.0",
            "_view_name": "HTMLView",
            "description": "",
            "description_tooltip": null,
            "layout": "IPY_MODEL_f5cde4f751af485d80bdfa1a6bed4f78",
            "placeholder": "​",
            "style": "IPY_MODEL_af9e70843e9e4184a70f6852d42137d3",
            "value": "tokenizer_config.json: 100%"
          }
        },
        "480d7a611f20484f9c9341cc965ffe41": {
          "model_module": "@jupyter-widgets/controls",
          "model_module_version": "1.5.0",
          "model_name": "HTMLModel",
          "state": {
            "_dom_classes": [],
            "_model_module": "@jupyter-widgets/controls",
            "_model_module_version": "1.5.0",
            "_model_name": "HTMLModel",
            "_view_count": null,
            "_view_module": "@jupyter-widgets/controls",
            "_view_module_version": "1.5.0",
            "_view_name": "HTMLView",
            "description": "",
            "description_tooltip": null,
            "layout": "IPY_MODEL_d0b8cbb4f595476aa09d81fb7d485a06",
            "placeholder": "​",
            "style": "IPY_MODEL_386bbe34f1d24c8dae0fb2446b17b94b",
            "value": "vocab.txt: 100%"
          }
        },
        "4848f72fedac4b059fc029979df4caa5": {
          "model_module": "@jupyter-widgets/controls",
          "model_module_version": "1.5.0",
          "model_name": "DescriptionStyleModel",
          "state": {
            "_model_module": "@jupyter-widgets/controls",
            "_model_module_version": "1.5.0",
            "_model_name": "DescriptionStyleModel",
            "_view_count": null,
            "_view_module": "@jupyter-widgets/base",
            "_view_module_version": "1.2.0",
            "_view_name": "StyleView",
            "description_width": ""
          }
        },
        "49e768abb29949379ac9742d9c75ef5b": {
          "model_module": "@jupyter-widgets/controls",
          "model_module_version": "1.5.0",
          "model_name": "HTMLModel",
          "state": {
            "_dom_classes": [],
            "_model_module": "@jupyter-widgets/controls",
            "_model_module_version": "1.5.0",
            "_model_name": "HTMLModel",
            "_view_count": null,
            "_view_module": "@jupyter-widgets/controls",
            "_view_module_version": "1.5.0",
            "_view_name": "HTMLView",
            "description": "",
            "description_tooltip": null,
            "layout": "IPY_MODEL_4e1a230019624aa796bda0bfbf771708",
            "placeholder": "​",
            "style": "IPY_MODEL_58e3e6108e6c41ceb1506ceba46b3828",
            "value": " 314/314 [00:00&lt;00:00, 15.1kB/s]"
          }
        },
        "4c32cee8a80746ef87ea0718e6fa342f": {
          "model_module": "@jupyter-widgets/base",
          "model_module_version": "1.2.0",
          "model_name": "LayoutModel",
          "state": {
            "_model_module": "@jupyter-widgets/base",
            "_model_module_version": "1.2.0",
            "_model_name": "LayoutModel",
            "_view_count": null,
            "_view_module": "@jupyter-widgets/base",
            "_view_module_version": "1.2.0",
            "_view_name": "LayoutView",
            "align_content": null,
            "align_items": null,
            "align_self": null,
            "border": null,
            "bottom": null,
            "display": null,
            "flex": null,
            "flex_flow": null,
            "grid_area": null,
            "grid_auto_columns": null,
            "grid_auto_flow": null,
            "grid_auto_rows": null,
            "grid_column": null,
            "grid_gap": null,
            "grid_row": null,
            "grid_template_areas": null,
            "grid_template_columns": null,
            "grid_template_rows": null,
            "height": null,
            "justify_content": null,
            "justify_items": null,
            "left": null,
            "margin": null,
            "max_height": null,
            "max_width": null,
            "min_height": null,
            "min_width": null,
            "object_fit": null,
            "object_position": null,
            "order": null,
            "overflow": null,
            "overflow_x": null,
            "overflow_y": null,
            "padding": null,
            "right": null,
            "top": null,
            "visibility": null,
            "width": null
          }
        },
        "4e1a230019624aa796bda0bfbf771708": {
          "model_module": "@jupyter-widgets/base",
          "model_module_version": "1.2.0",
          "model_name": "LayoutModel",
          "state": {
            "_model_module": "@jupyter-widgets/base",
            "_model_module_version": "1.2.0",
            "_model_name": "LayoutModel",
            "_view_count": null,
            "_view_module": "@jupyter-widgets/base",
            "_view_module_version": "1.2.0",
            "_view_name": "LayoutView",
            "align_content": null,
            "align_items": null,
            "align_self": null,
            "border": null,
            "bottom": null,
            "display": null,
            "flex": null,
            "flex_flow": null,
            "grid_area": null,
            "grid_auto_columns": null,
            "grid_auto_flow": null,
            "grid_auto_rows": null,
            "grid_column": null,
            "grid_gap": null,
            "grid_row": null,
            "grid_template_areas": null,
            "grid_template_columns": null,
            "grid_template_rows": null,
            "height": null,
            "justify_content": null,
            "justify_items": null,
            "left": null,
            "margin": null,
            "max_height": null,
            "max_width": null,
            "min_height": null,
            "min_width": null,
            "object_fit": null,
            "object_position": null,
            "order": null,
            "overflow": null,
            "overflow_x": null,
            "overflow_y": null,
            "padding": null,
            "right": null,
            "top": null,
            "visibility": null,
            "width": null
          }
        },
        "4e4db0f0e45b4fb8be5b95bb53cfa72a": {
          "model_module": "@jupyter-widgets/base",
          "model_module_version": "1.2.0",
          "model_name": "LayoutModel",
          "state": {
            "_model_module": "@jupyter-widgets/base",
            "_model_module_version": "1.2.0",
            "_model_name": "LayoutModel",
            "_view_count": null,
            "_view_module": "@jupyter-widgets/base",
            "_view_module_version": "1.2.0",
            "_view_name": "LayoutView",
            "align_content": null,
            "align_items": null,
            "align_self": null,
            "border": null,
            "bottom": null,
            "display": null,
            "flex": null,
            "flex_flow": null,
            "grid_area": null,
            "grid_auto_columns": null,
            "grid_auto_flow": null,
            "grid_auto_rows": null,
            "grid_column": null,
            "grid_gap": null,
            "grid_row": null,
            "grid_template_areas": null,
            "grid_template_columns": null,
            "grid_template_rows": null,
            "height": null,
            "justify_content": null,
            "justify_items": null,
            "left": null,
            "margin": null,
            "max_height": null,
            "max_width": null,
            "min_height": null,
            "min_width": null,
            "object_fit": null,
            "object_position": null,
            "order": null,
            "overflow": null,
            "overflow_x": null,
            "overflow_y": null,
            "padding": null,
            "right": null,
            "top": null,
            "visibility": null,
            "width": null
          }
        },
        "4f3a844e549b446ab21ff46dac540c2d": {
          "model_module": "@jupyter-widgets/controls",
          "model_module_version": "1.5.0",
          "model_name": "HBoxModel",
          "state": {
            "_dom_classes": [],
            "_model_module": "@jupyter-widgets/controls",
            "_model_module_version": "1.5.0",
            "_model_name": "HBoxModel",
            "_view_count": null,
            "_view_module": "@jupyter-widgets/controls",
            "_view_module_version": "1.5.0",
            "_view_name": "HBoxView",
            "box_style": "",
            "children": [
              "IPY_MODEL_3a53403dbe454f99bed7bbf673e7ece6",
              "IPY_MODEL_10c38573b7b748b6b4c0e61444350f09",
              "IPY_MODEL_c0a9fbe4642442a0ab676705cd0a2f07"
            ],
            "layout": "IPY_MODEL_a5b79a950087476793568bfd2a6e06e7"
          }
        },
        "53ce295e3c754c68b244240c79764fc4": {
          "model_module": "@jupyter-widgets/base",
          "model_module_version": "1.2.0",
          "model_name": "LayoutModel",
          "state": {
            "_model_module": "@jupyter-widgets/base",
            "_model_module_version": "1.2.0",
            "_model_name": "LayoutModel",
            "_view_count": null,
            "_view_module": "@jupyter-widgets/base",
            "_view_module_version": "1.2.0",
            "_view_name": "LayoutView",
            "align_content": null,
            "align_items": null,
            "align_self": null,
            "border": null,
            "bottom": null,
            "display": null,
            "flex": null,
            "flex_flow": null,
            "grid_area": null,
            "grid_auto_columns": null,
            "grid_auto_flow": null,
            "grid_auto_rows": null,
            "grid_column": null,
            "grid_gap": null,
            "grid_row": null,
            "grid_template_areas": null,
            "grid_template_columns": null,
            "grid_template_rows": null,
            "height": null,
            "justify_content": null,
            "justify_items": null,
            "left": null,
            "margin": null,
            "max_height": null,
            "max_width": null,
            "min_height": null,
            "min_width": null,
            "object_fit": null,
            "object_position": null,
            "order": null,
            "overflow": null,
            "overflow_x": null,
            "overflow_y": null,
            "padding": null,
            "right": null,
            "top": null,
            "visibility": null,
            "width": null
          }
        },
        "53d7ef1548d04771a65e825fb0814f22": {
          "model_module": "@jupyter-widgets/controls",
          "model_module_version": "1.5.0",
          "model_name": "ProgressStyleModel",
          "state": {
            "_model_module": "@jupyter-widgets/controls",
            "_model_module_version": "1.5.0",
            "_model_name": "ProgressStyleModel",
            "_view_count": null,
            "_view_module": "@jupyter-widgets/base",
            "_view_module_version": "1.2.0",
            "_view_name": "StyleView",
            "bar_color": null,
            "description_width": ""
          }
        },
        "54e1fb8a21bc4fba90a835b6814540ba": {
          "model_module": "@jupyter-widgets/base",
          "model_module_version": "1.2.0",
          "model_name": "LayoutModel",
          "state": {
            "_model_module": "@jupyter-widgets/base",
            "_model_module_version": "1.2.0",
            "_model_name": "LayoutModel",
            "_view_count": null,
            "_view_module": "@jupyter-widgets/base",
            "_view_module_version": "1.2.0",
            "_view_name": "LayoutView",
            "align_content": null,
            "align_items": null,
            "align_self": null,
            "border": null,
            "bottom": null,
            "display": null,
            "flex": null,
            "flex_flow": null,
            "grid_area": null,
            "grid_auto_columns": null,
            "grid_auto_flow": null,
            "grid_auto_rows": null,
            "grid_column": null,
            "grid_gap": null,
            "grid_row": null,
            "grid_template_areas": null,
            "grid_template_columns": null,
            "grid_template_rows": null,
            "height": null,
            "justify_content": null,
            "justify_items": null,
            "left": null,
            "margin": null,
            "max_height": null,
            "max_width": null,
            "min_height": null,
            "min_width": null,
            "object_fit": null,
            "object_position": null,
            "order": null,
            "overflow": null,
            "overflow_x": null,
            "overflow_y": null,
            "padding": null,
            "right": null,
            "top": null,
            "visibility": null,
            "width": null
          }
        },
        "56b2a296a7dd4e39b16faef65b64c950": {
          "model_module": "@jupyter-widgets/controls",
          "model_module_version": "1.5.0",
          "model_name": "HBoxModel",
          "state": {
            "_dom_classes": [],
            "_model_module": "@jupyter-widgets/controls",
            "_model_module_version": "1.5.0",
            "_model_name": "HBoxModel",
            "_view_count": null,
            "_view_module": "@jupyter-widgets/controls",
            "_view_module_version": "1.5.0",
            "_view_name": "HBoxView",
            "box_style": "",
            "children": [
              "IPY_MODEL_8550c3429e934f4a9ab49f18df95ac6e",
              "IPY_MODEL_ae41b7f3f3d04ee49d063ba5a125f87b",
              "IPY_MODEL_1062385729ad42338e432645bbe8186d"
            ],
            "layout": "IPY_MODEL_deeec10b76dc4b5b965498c954a73c28"
          }
        },
        "58e3e6108e6c41ceb1506ceba46b3828": {
          "model_module": "@jupyter-widgets/controls",
          "model_module_version": "1.5.0",
          "model_name": "DescriptionStyleModel",
          "state": {
            "_model_module": "@jupyter-widgets/controls",
            "_model_module_version": "1.5.0",
            "_model_name": "DescriptionStyleModel",
            "_view_count": null,
            "_view_module": "@jupyter-widgets/base",
            "_view_module_version": "1.2.0",
            "_view_name": "StyleView",
            "description_width": ""
          }
        },
        "5c8169e29a85472cb003df787795d50a": {
          "model_module": "@jupyter-widgets/controls",
          "model_module_version": "1.5.0",
          "model_name": "FloatProgressModel",
          "state": {
            "_dom_classes": [],
            "_model_module": "@jupyter-widgets/controls",
            "_model_module_version": "1.5.0",
            "_model_name": "FloatProgressModel",
            "_view_count": null,
            "_view_module": "@jupyter-widgets/controls",
            "_view_module_version": "1.5.0",
            "_view_name": "ProgressView",
            "bar_style": "success",
            "description": "",
            "description_tooltip": null,
            "layout": "IPY_MODEL_4e4db0f0e45b4fb8be5b95bb53cfa72a",
            "max": 90868373,
            "min": 0,
            "orientation": "horizontal",
            "style": "IPY_MODEL_db2a1429637843c39250e54a4074e63a",
            "value": 90868373
          }
        },
        "5da1548f14374448bf4184a68177086d": {
          "model_module": "@jupyter-widgets/base",
          "model_module_version": "1.2.0",
          "model_name": "LayoutModel",
          "state": {
            "_model_module": "@jupyter-widgets/base",
            "_model_module_version": "1.2.0",
            "_model_name": "LayoutModel",
            "_view_count": null,
            "_view_module": "@jupyter-widgets/base",
            "_view_module_version": "1.2.0",
            "_view_name": "LayoutView",
            "align_content": null,
            "align_items": null,
            "align_self": null,
            "border": null,
            "bottom": null,
            "display": null,
            "flex": null,
            "flex_flow": null,
            "grid_area": null,
            "grid_auto_columns": null,
            "grid_auto_flow": null,
            "grid_auto_rows": null,
            "grid_column": null,
            "grid_gap": null,
            "grid_row": null,
            "grid_template_areas": null,
            "grid_template_columns": null,
            "grid_template_rows": null,
            "height": null,
            "justify_content": null,
            "justify_items": null,
            "left": null,
            "margin": null,
            "max_height": null,
            "max_width": null,
            "min_height": null,
            "min_width": null,
            "object_fit": null,
            "object_position": null,
            "order": null,
            "overflow": null,
            "overflow_x": null,
            "overflow_y": null,
            "padding": null,
            "right": null,
            "top": null,
            "visibility": null,
            "width": null
          }
        },
        "618f923ec56a47ccb88fb409d86ed3df": {
          "model_module": "@jupyter-widgets/controls",
          "model_module_version": "1.5.0",
          "model_name": "DescriptionStyleModel",
          "state": {
            "_model_module": "@jupyter-widgets/controls",
            "_model_module_version": "1.5.0",
            "_model_name": "DescriptionStyleModel",
            "_view_count": null,
            "_view_module": "@jupyter-widgets/base",
            "_view_module_version": "1.2.0",
            "_view_name": "StyleView",
            "description_width": ""
          }
        },
        "6668620eda0140d59d746b35de15ff02": {
          "model_module": "@jupyter-widgets/controls",
          "model_module_version": "1.5.0",
          "model_name": "HTMLModel",
          "state": {
            "_dom_classes": [],
            "_model_module": "@jupyter-widgets/controls",
            "_model_module_version": "1.5.0",
            "_model_name": "HTMLModel",
            "_view_count": null,
            "_view_module": "@jupyter-widgets/controls",
            "_view_module_version": "1.5.0",
            "_view_name": "HTMLView",
            "description": "",
            "description_tooltip": null,
            "layout": "IPY_MODEL_3a270c87201347c98403943d4822a5f9",
            "placeholder": "​",
            "style": "IPY_MODEL_cb0e65db6edb49369bd03390a8f0e229",
            "value": "tokenizer.json: 100%"
          }
        },
        "666bc04da5044d1bb4e4e87e6f0fe406": {
          "model_module": "@jupyter-widgets/base",
          "model_module_version": "1.2.0",
          "model_name": "LayoutModel",
          "state": {
            "_model_module": "@jupyter-widgets/base",
            "_model_module_version": "1.2.0",
            "_model_name": "LayoutModel",
            "_view_count": null,
            "_view_module": "@jupyter-widgets/base",
            "_view_module_version": "1.2.0",
            "_view_name": "LayoutView",
            "align_content": null,
            "align_items": null,
            "align_self": null,
            "border": null,
            "bottom": null,
            "display": null,
            "flex": null,
            "flex_flow": null,
            "grid_area": null,
            "grid_auto_columns": null,
            "grid_auto_flow": null,
            "grid_auto_rows": null,
            "grid_column": null,
            "grid_gap": null,
            "grid_row": null,
            "grid_template_areas": null,
            "grid_template_columns": null,
            "grid_template_rows": null,
            "height": null,
            "justify_content": null,
            "justify_items": null,
            "left": null,
            "margin": null,
            "max_height": null,
            "max_width": null,
            "min_height": null,
            "min_width": null,
            "object_fit": null,
            "object_position": null,
            "order": null,
            "overflow": null,
            "overflow_x": null,
            "overflow_y": null,
            "padding": null,
            "right": null,
            "top": null,
            "visibility": null,
            "width": null
          }
        },
        "673bfc566bb44971b261af24f27deea8": {
          "model_module": "@jupyter-widgets/controls",
          "model_module_version": "1.5.0",
          "model_name": "HTMLModel",
          "state": {
            "_dom_classes": [],
            "_model_module": "@jupyter-widgets/controls",
            "_model_module_version": "1.5.0",
            "_model_name": "HTMLModel",
            "_view_count": null,
            "_view_module": "@jupyter-widgets/controls",
            "_view_module_version": "1.5.0",
            "_view_name": "HTMLView",
            "description": "",
            "description_tooltip": null,
            "layout": "IPY_MODEL_0738d6e90d7943369e499144931cf41a",
            "placeholder": "​",
            "style": "IPY_MODEL_0529e0077b0740c680c1510e1e6de8bf",
            "value": " 466k/466k [00:00&lt;00:00, 16.6MB/s]"
          }
        },
        "6765be91fb5442d0822bf38b0c77a4db": {
          "model_module": "@jupyter-widgets/base",
          "model_module_version": "1.2.0",
          "model_name": "LayoutModel",
          "state": {
            "_model_module": "@jupyter-widgets/base",
            "_model_module_version": "1.2.0",
            "_model_name": "LayoutModel",
            "_view_count": null,
            "_view_module": "@jupyter-widgets/base",
            "_view_module_version": "1.2.0",
            "_view_name": "LayoutView",
            "align_content": null,
            "align_items": null,
            "align_self": null,
            "border": null,
            "bottom": null,
            "display": null,
            "flex": null,
            "flex_flow": null,
            "grid_area": null,
            "grid_auto_columns": null,
            "grid_auto_flow": null,
            "grid_auto_rows": null,
            "grid_column": null,
            "grid_gap": null,
            "grid_row": null,
            "grid_template_areas": null,
            "grid_template_columns": null,
            "grid_template_rows": null,
            "height": null,
            "justify_content": null,
            "justify_items": null,
            "left": null,
            "margin": null,
            "max_height": null,
            "max_width": null,
            "min_height": null,
            "min_width": null,
            "object_fit": null,
            "object_position": null,
            "order": null,
            "overflow": null,
            "overflow_x": null,
            "overflow_y": null,
            "padding": null,
            "right": null,
            "top": null,
            "visibility": null,
            "width": null
          }
        },
        "68ccbd2a560c47fcbb596b42d9a32f49": {
          "model_module": "@jupyter-widgets/controls",
          "model_module_version": "1.5.0",
          "model_name": "FloatProgressModel",
          "state": {
            "_dom_classes": [],
            "_model_module": "@jupyter-widgets/controls",
            "_model_module_version": "1.5.0",
            "_model_name": "FloatProgressModel",
            "_view_count": null,
            "_view_module": "@jupyter-widgets/controls",
            "_view_module_version": "1.5.0",
            "_view_name": "ProgressView",
            "bar_style": "success",
            "description": "",
            "description_tooltip": null,
            "layout": "IPY_MODEL_6765be91fb5442d0822bf38b0c77a4db",
            "max": 231508,
            "min": 0,
            "orientation": "horizontal",
            "style": "IPY_MODEL_2df137adfab54f829a77639056d8dd5f",
            "value": 231508
          }
        },
        "6d51edd93e514f63b964ebb46e375ac3": {
          "model_module": "@jupyter-widgets/base",
          "model_module_version": "1.2.0",
          "model_name": "LayoutModel",
          "state": {
            "_model_module": "@jupyter-widgets/base",
            "_model_module_version": "1.2.0",
            "_model_name": "LayoutModel",
            "_view_count": null,
            "_view_module": "@jupyter-widgets/base",
            "_view_module_version": "1.2.0",
            "_view_name": "LayoutView",
            "align_content": null,
            "align_items": null,
            "align_self": null,
            "border": null,
            "bottom": null,
            "display": null,
            "flex": null,
            "flex_flow": null,
            "grid_area": null,
            "grid_auto_columns": null,
            "grid_auto_flow": null,
            "grid_auto_rows": null,
            "grid_column": null,
            "grid_gap": null,
            "grid_row": null,
            "grid_template_areas": null,
            "grid_template_columns": null,
            "grid_template_rows": null,
            "height": null,
            "justify_content": null,
            "justify_items": null,
            "left": null,
            "margin": null,
            "max_height": null,
            "max_width": null,
            "min_height": null,
            "min_width": null,
            "object_fit": null,
            "object_position": null,
            "order": null,
            "overflow": null,
            "overflow_x": null,
            "overflow_y": null,
            "padding": null,
            "right": null,
            "top": null,
            "visibility": null,
            "width": null
          }
        },
        "6e2ef8c7c81340988352a092e34f1fa8": {
          "model_module": "@jupyter-widgets/controls",
          "model_module_version": "1.5.0",
          "model_name": "DescriptionStyleModel",
          "state": {
            "_model_module": "@jupyter-widgets/controls",
            "_model_module_version": "1.5.0",
            "_model_name": "DescriptionStyleModel",
            "_view_count": null,
            "_view_module": "@jupyter-widgets/base",
            "_view_module_version": "1.2.0",
            "_view_name": "StyleView",
            "description_width": ""
          }
        },
        "6e856ae88c4c4f5a9b05241812a10140": {
          "model_module": "@jupyter-widgets/controls",
          "model_module_version": "1.5.0",
          "model_name": "HBoxModel",
          "state": {
            "_dom_classes": [],
            "_model_module": "@jupyter-widgets/controls",
            "_model_module_version": "1.5.0",
            "_model_name": "HBoxModel",
            "_view_count": null,
            "_view_module": "@jupyter-widgets/controls",
            "_view_module_version": "1.5.0",
            "_view_name": "HBoxView",
            "box_style": "",
            "children": [
              "IPY_MODEL_b9cc2c024d164926aba29c19f941936d",
              "IPY_MODEL_2300535910814355b7043395dfd1b69d",
              "IPY_MODEL_189b4b7f4e664aa8bab196a0cdae3029"
            ],
            "layout": "IPY_MODEL_ea276b0d336a41b9914de6706b420ed6"
          }
        },
        "6f05cd9f470e4417bb4feba1e91f4d85": {
          "model_module": "@jupyter-widgets/controls",
          "model_module_version": "1.5.0",
          "model_name": "HTMLModel",
          "state": {
            "_dom_classes": [],
            "_model_module": "@jupyter-widgets/controls",
            "_model_module_version": "1.5.0",
            "_model_name": "HTMLModel",
            "_view_count": null,
            "_view_module": "@jupyter-widgets/controls",
            "_view_module_version": "1.5.0",
            "_view_name": "HTMLView",
            "description": "",
            "description_tooltip": null,
            "layout": "IPY_MODEL_c72e8ae2adaa40f08b4805d67dcfc3a5",
            "placeholder": "​",
            "style": "IPY_MODEL_d165da89269449849baf3c0b1c6f04f4",
            "value": " 3.73k/3.73k [00:00&lt;00:00, 167kB/s]"
          }
        },
        "731e098ae37e477aa07b577d57e5cd7f": {
          "model_module": "@jupyter-widgets/controls",
          "model_module_version": "1.5.0",
          "model_name": "HBoxModel",
          "state": {
            "_dom_classes": [],
            "_model_module": "@jupyter-widgets/controls",
            "_model_module_version": "1.5.0",
            "_model_name": "HBoxModel",
            "_view_count": null,
            "_view_module": "@jupyter-widgets/controls",
            "_view_module_version": "1.5.0",
            "_view_name": "HBoxView",
            "box_style": "",
            "children": [
              "IPY_MODEL_1beff2918c224e1c84a386fa2c4559e5",
              "IPY_MODEL_cb08623fd8c742b9890998a311bf65a3",
              "IPY_MODEL_6f05cd9f470e4417bb4feba1e91f4d85"
            ],
            "layout": "IPY_MODEL_26bf4ea9974c46a08e7b8fae040fb048"
          }
        },
        "7c07b34f77b547fbb57b97f6cd3496b4": {
          "model_module": "@jupyter-widgets/controls",
          "model_module_version": "1.5.0",
          "model_name": "HBoxModel",
          "state": {
            "_dom_classes": [],
            "_model_module": "@jupyter-widgets/controls",
            "_model_module_version": "1.5.0",
            "_model_name": "HBoxModel",
            "_view_count": null,
            "_view_module": "@jupyter-widgets/controls",
            "_view_module_version": "1.5.0",
            "_view_name": "HBoxView",
            "box_style": "",
            "children": [
              "IPY_MODEL_d78256e8723d485db477f91fa17ef668",
              "IPY_MODEL_04a353b2f63f4f9a926e341668e4cebc",
              "IPY_MODEL_2fdebc2f361749e8a359f63a3baf0eeb"
            ],
            "layout": "IPY_MODEL_e5485f6f425447a3949627a5821af3da"
          }
        },
        "8550c3429e934f4a9ab49f18df95ac6e": {
          "model_module": "@jupyter-widgets/controls",
          "model_module_version": "1.5.0",
          "model_name": "HTMLModel",
          "state": {
            "_dom_classes": [],
            "_model_module": "@jupyter-widgets/controls",
            "_model_module_version": "1.5.0",
            "_model_name": "HTMLModel",
            "_view_count": null,
            "_view_module": "@jupyter-widgets/controls",
            "_view_module_version": "1.5.0",
            "_view_name": "HTMLView",
            "description": "",
            "description_tooltip": null,
            "layout": "IPY_MODEL_2baa1de703f342fe9c2fb25b61535047",
            "placeholder": "​",
            "style": "IPY_MODEL_dbedfa1e643b4da2849c6a442fb75216",
            "value": "special_tokens_map.json: 100%"
          }
        },
        "88cea056b1764776b74b9bb2c009e8f3": {
          "model_module": "@jupyter-widgets/controls",
          "model_module_version": "1.5.0",
          "model_name": "DescriptionStyleModel",
          "state": {
            "_model_module": "@jupyter-widgets/controls",
            "_model_module_version": "1.5.0",
            "_model_name": "DescriptionStyleModel",
            "_view_count": null,
            "_view_module": "@jupyter-widgets/base",
            "_view_module_version": "1.2.0",
            "_view_name": "StyleView",
            "description_width": ""
          }
        },
        "89215435e6d74091a74db0f2effaa400": {
          "model_module": "@jupyter-widgets/base",
          "model_module_version": "1.2.0",
          "model_name": "LayoutModel",
          "state": {
            "_model_module": "@jupyter-widgets/base",
            "_model_module_version": "1.2.0",
            "_model_name": "LayoutModel",
            "_view_count": null,
            "_view_module": "@jupyter-widgets/base",
            "_view_module_version": "1.2.0",
            "_view_name": "LayoutView",
            "align_content": null,
            "align_items": null,
            "align_self": null,
            "border": null,
            "bottom": null,
            "display": null,
            "flex": null,
            "flex_flow": null,
            "grid_area": null,
            "grid_auto_columns": null,
            "grid_auto_flow": null,
            "grid_auto_rows": null,
            "grid_column": null,
            "grid_gap": null,
            "grid_row": null,
            "grid_template_areas": null,
            "grid_template_columns": null,
            "grid_template_rows": null,
            "height": null,
            "justify_content": null,
            "justify_items": null,
            "left": null,
            "margin": null,
            "max_height": null,
            "max_width": null,
            "min_height": null,
            "min_width": null,
            "object_fit": null,
            "object_position": null,
            "order": null,
            "overflow": null,
            "overflow_x": null,
            "overflow_y": null,
            "padding": null,
            "right": null,
            "top": null,
            "visibility": null,
            "width": null
          }
        },
        "8d87563ec7f2495fa39a8c82aa2064fe": {
          "model_module": "@jupyter-widgets/base",
          "model_module_version": "1.2.0",
          "model_name": "LayoutModel",
          "state": {
            "_model_module": "@jupyter-widgets/base",
            "_model_module_version": "1.2.0",
            "_model_name": "LayoutModel",
            "_view_count": null,
            "_view_module": "@jupyter-widgets/base",
            "_view_module_version": "1.2.0",
            "_view_name": "LayoutView",
            "align_content": null,
            "align_items": null,
            "align_self": null,
            "border": null,
            "bottom": null,
            "display": null,
            "flex": null,
            "flex_flow": null,
            "grid_area": null,
            "grid_auto_columns": null,
            "grid_auto_flow": null,
            "grid_auto_rows": null,
            "grid_column": null,
            "grid_gap": null,
            "grid_row": null,
            "grid_template_areas": null,
            "grid_template_columns": null,
            "grid_template_rows": null,
            "height": null,
            "justify_content": null,
            "justify_items": null,
            "left": null,
            "margin": null,
            "max_height": null,
            "max_width": null,
            "min_height": null,
            "min_width": null,
            "object_fit": null,
            "object_position": null,
            "order": null,
            "overflow": null,
            "overflow_x": null,
            "overflow_y": null,
            "padding": null,
            "right": null,
            "top": null,
            "visibility": null,
            "width": null
          }
        },
        "933f4d6ecd6a477f9e952e0572ada930": {
          "model_module": "@jupyter-widgets/controls",
          "model_module_version": "1.5.0",
          "model_name": "FloatProgressModel",
          "state": {
            "_dom_classes": [],
            "_model_module": "@jupyter-widgets/controls",
            "_model_module_version": "1.5.0",
            "_model_name": "FloatProgressModel",
            "_view_count": null,
            "_view_module": "@jupyter-widgets/controls",
            "_view_module_version": "1.5.0",
            "_view_name": "ProgressView",
            "bar_style": "success",
            "description": "",
            "description_tooltip": null,
            "layout": "IPY_MODEL_00e4d9f09de44e6e89b5e0bc78ca069d",
            "max": 466081,
            "min": 0,
            "orientation": "horizontal",
            "style": "IPY_MODEL_20a6b6ad75c9419eb964bed68b0c97b6",
            "value": 466081
          }
        },
        "974270c9bc7b4653b400ffd488620616": {
          "model_module": "@jupyter-widgets/controls",
          "model_module_version": "1.5.0",
          "model_name": "ProgressStyleModel",
          "state": {
            "_model_module": "@jupyter-widgets/controls",
            "_model_module_version": "1.5.0",
            "_model_name": "ProgressStyleModel",
            "_view_count": null,
            "_view_module": "@jupyter-widgets/base",
            "_view_module_version": "1.2.0",
            "_view_name": "StyleView",
            "bar_color": null,
            "description_width": ""
          }
        },
        "99a003bd4577466592e4a16baab0290e": {
          "model_module": "@jupyter-widgets/base",
          "model_module_version": "1.2.0",
          "model_name": "LayoutModel",
          "state": {
            "_model_module": "@jupyter-widgets/base",
            "_model_module_version": "1.2.0",
            "_model_name": "LayoutModel",
            "_view_count": null,
            "_view_module": "@jupyter-widgets/base",
            "_view_module_version": "1.2.0",
            "_view_name": "LayoutView",
            "align_content": null,
            "align_items": null,
            "align_self": null,
            "border": null,
            "bottom": null,
            "display": null,
            "flex": null,
            "flex_flow": null,
            "grid_area": null,
            "grid_auto_columns": null,
            "grid_auto_flow": null,
            "grid_auto_rows": null,
            "grid_column": null,
            "grid_gap": null,
            "grid_row": null,
            "grid_template_areas": null,
            "grid_template_columns": null,
            "grid_template_rows": null,
            "height": null,
            "justify_content": null,
            "justify_items": null,
            "left": null,
            "margin": null,
            "max_height": null,
            "max_width": null,
            "min_height": null,
            "min_width": null,
            "object_fit": null,
            "object_position": null,
            "order": null,
            "overflow": null,
            "overflow_x": null,
            "overflow_y": null,
            "padding": null,
            "right": null,
            "top": null,
            "visibility": null,
            "width": null
          }
        },
        "9cc1fd7840b042dfaac2ef762b161d85": {
          "model_module": "@jupyter-widgets/controls",
          "model_module_version": "1.5.0",
          "model_name": "ProgressStyleModel",
          "state": {
            "_model_module": "@jupyter-widgets/controls",
            "_model_module_version": "1.5.0",
            "_model_name": "ProgressStyleModel",
            "_view_count": null,
            "_view_module": "@jupyter-widgets/base",
            "_view_module_version": "1.2.0",
            "_view_name": "StyleView",
            "bar_color": null,
            "description_width": ""
          }
        },
        "9f3dba1466e2485aa811d9e4a0020cc7": {
          "model_module": "@jupyter-widgets/controls",
          "model_module_version": "1.5.0",
          "model_name": "HTMLModel",
          "state": {
            "_dom_classes": [],
            "_model_module": "@jupyter-widgets/controls",
            "_model_module_version": "1.5.0",
            "_model_name": "HTMLModel",
            "_view_count": null,
            "_view_module": "@jupyter-widgets/controls",
            "_view_module_version": "1.5.0",
            "_view_name": "HTMLView",
            "description": "",
            "description_tooltip": null,
            "layout": "IPY_MODEL_ca65663f35474eb2b7de9b9f0cacd099",
            "placeholder": "​",
            "style": "IPY_MODEL_6e2ef8c7c81340988352a092e34f1fa8",
            "value": " 53.0/53.0 [00:00&lt;00:00, 2.65kB/s]"
          }
        },
        "a0d7284577f84344bc8984496f134421": {
          "model_module": "@jupyter-widgets/base",
          "model_module_version": "1.2.0",
          "model_name": "LayoutModel",
          "state": {
            "_model_module": "@jupyter-widgets/base",
            "_model_module_version": "1.2.0",
            "_model_name": "LayoutModel",
            "_view_count": null,
            "_view_module": "@jupyter-widgets/base",
            "_view_module_version": "1.2.0",
            "_view_name": "LayoutView",
            "align_content": null,
            "align_items": null,
            "align_self": null,
            "border": null,
            "bottom": null,
            "display": null,
            "flex": null,
            "flex_flow": null,
            "grid_area": null,
            "grid_auto_columns": null,
            "grid_auto_flow": null,
            "grid_auto_rows": null,
            "grid_column": null,
            "grid_gap": null,
            "grid_row": null,
            "grid_template_areas": null,
            "grid_template_columns": null,
            "grid_template_rows": null,
            "height": null,
            "justify_content": null,
            "justify_items": null,
            "left": null,
            "margin": null,
            "max_height": null,
            "max_width": null,
            "min_height": null,
            "min_width": null,
            "object_fit": null,
            "object_position": null,
            "order": null,
            "overflow": null,
            "overflow_x": null,
            "overflow_y": null,
            "padding": null,
            "right": null,
            "top": null,
            "visibility": null,
            "width": null
          }
        },
        "a5b79a950087476793568bfd2a6e06e7": {
          "model_module": "@jupyter-widgets/base",
          "model_module_version": "1.2.0",
          "model_name": "LayoutModel",
          "state": {
            "_model_module": "@jupyter-widgets/base",
            "_model_module_version": "1.2.0",
            "_model_name": "LayoutModel",
            "_view_count": null,
            "_view_module": "@jupyter-widgets/base",
            "_view_module_version": "1.2.0",
            "_view_name": "LayoutView",
            "align_content": null,
            "align_items": null,
            "align_self": null,
            "border": null,
            "bottom": null,
            "display": null,
            "flex": null,
            "flex_flow": null,
            "grid_area": null,
            "grid_auto_columns": null,
            "grid_auto_flow": null,
            "grid_auto_rows": null,
            "grid_column": null,
            "grid_gap": null,
            "grid_row": null,
            "grid_template_areas": null,
            "grid_template_columns": null,
            "grid_template_rows": null,
            "height": null,
            "justify_content": null,
            "justify_items": null,
            "left": null,
            "margin": null,
            "max_height": null,
            "max_width": null,
            "min_height": null,
            "min_width": null,
            "object_fit": null,
            "object_position": null,
            "order": null,
            "overflow": null,
            "overflow_x": null,
            "overflow_y": null,
            "padding": null,
            "right": null,
            "top": null,
            "visibility": null,
            "width": null
          }
        },
        "a9274fcc31b3485681d73feb3cbf3f83": {
          "model_module": "@jupyter-widgets/controls",
          "model_module_version": "1.5.0",
          "model_name": "ProgressStyleModel",
          "state": {
            "_model_module": "@jupyter-widgets/controls",
            "_model_module_version": "1.5.0",
            "_model_name": "ProgressStyleModel",
            "_view_count": null,
            "_view_module": "@jupyter-widgets/base",
            "_view_module_version": "1.2.0",
            "_view_name": "StyleView",
            "bar_color": null,
            "description_width": ""
          }
        },
        "a96a6824a9894d62b22480cecb80a86c": {
          "model_module": "@jupyter-widgets/base",
          "model_module_version": "1.2.0",
          "model_name": "LayoutModel",
          "state": {
            "_model_module": "@jupyter-widgets/base",
            "_model_module_version": "1.2.0",
            "_model_name": "LayoutModel",
            "_view_count": null,
            "_view_module": "@jupyter-widgets/base",
            "_view_module_version": "1.2.0",
            "_view_name": "LayoutView",
            "align_content": null,
            "align_items": null,
            "align_self": null,
            "border": null,
            "bottom": null,
            "display": null,
            "flex": null,
            "flex_flow": null,
            "grid_area": null,
            "grid_auto_columns": null,
            "grid_auto_flow": null,
            "grid_auto_rows": null,
            "grid_column": null,
            "grid_gap": null,
            "grid_row": null,
            "grid_template_areas": null,
            "grid_template_columns": null,
            "grid_template_rows": null,
            "height": null,
            "justify_content": null,
            "justify_items": null,
            "left": null,
            "margin": null,
            "max_height": null,
            "max_width": null,
            "min_height": null,
            "min_width": null,
            "object_fit": null,
            "object_position": null,
            "order": null,
            "overflow": null,
            "overflow_x": null,
            "overflow_y": null,
            "padding": null,
            "right": null,
            "top": null,
            "visibility": null,
            "width": null
          }
        },
        "a9fdd243fe5e40bb8b6b97912f07d8f9": {
          "model_module": "@jupyter-widgets/base",
          "model_module_version": "1.2.0",
          "model_name": "LayoutModel",
          "state": {
            "_model_module": "@jupyter-widgets/base",
            "_model_module_version": "1.2.0",
            "_model_name": "LayoutModel",
            "_view_count": null,
            "_view_module": "@jupyter-widgets/base",
            "_view_module_version": "1.2.0",
            "_view_name": "LayoutView",
            "align_content": null,
            "align_items": null,
            "align_self": null,
            "border": null,
            "bottom": null,
            "display": null,
            "flex": null,
            "flex_flow": null,
            "grid_area": null,
            "grid_auto_columns": null,
            "grid_auto_flow": null,
            "grid_auto_rows": null,
            "grid_column": null,
            "grid_gap": null,
            "grid_row": null,
            "grid_template_areas": null,
            "grid_template_columns": null,
            "grid_template_rows": null,
            "height": null,
            "justify_content": null,
            "justify_items": null,
            "left": null,
            "margin": null,
            "max_height": null,
            "max_width": null,
            "min_height": null,
            "min_width": null,
            "object_fit": null,
            "object_position": null,
            "order": null,
            "overflow": null,
            "overflow_x": null,
            "overflow_y": null,
            "padding": null,
            "right": null,
            "top": null,
            "visibility": null,
            "width": null
          }
        },
        "ada3371b46a545dab60dd8df2c04061b": {
          "model_module": "@jupyter-widgets/controls",
          "model_module_version": "1.5.0",
          "model_name": "DescriptionStyleModel",
          "state": {
            "_model_module": "@jupyter-widgets/controls",
            "_model_module_version": "1.5.0",
            "_model_name": "DescriptionStyleModel",
            "_view_count": null,
            "_view_module": "@jupyter-widgets/base",
            "_view_module_version": "1.2.0",
            "_view_name": "StyleView",
            "description_width": ""
          }
        },
        "ae41b7f3f3d04ee49d063ba5a125f87b": {
          "model_module": "@jupyter-widgets/controls",
          "model_module_version": "1.5.0",
          "model_name": "FloatProgressModel",
          "state": {
            "_dom_classes": [],
            "_model_module": "@jupyter-widgets/controls",
            "_model_module_version": "1.5.0",
            "_model_name": "FloatProgressModel",
            "_view_count": null,
            "_view_module": "@jupyter-widgets/controls",
            "_view_module_version": "1.5.0",
            "_view_name": "ProgressView",
            "bar_style": "success",
            "description": "",
            "description_tooltip": null,
            "layout": "IPY_MODEL_8d87563ec7f2495fa39a8c82aa2064fe",
            "max": 112,
            "min": 0,
            "orientation": "horizontal",
            "style": "IPY_MODEL_1e2d5b2b2dc14063becbc948d5a57a47",
            "value": 112
          }
        },
        "af9e70843e9e4184a70f6852d42137d3": {
          "model_module": "@jupyter-widgets/controls",
          "model_module_version": "1.5.0",
          "model_name": "DescriptionStyleModel",
          "state": {
            "_model_module": "@jupyter-widgets/controls",
            "_model_module_version": "1.5.0",
            "_model_name": "DescriptionStyleModel",
            "_view_count": null,
            "_view_module": "@jupyter-widgets/base",
            "_view_module_version": "1.2.0",
            "_view_name": "StyleView",
            "description_width": ""
          }
        },
        "b0bbd1da42004858b889065a877efe67": {
          "model_module": "@jupyter-widgets/base",
          "model_module_version": "1.2.0",
          "model_name": "LayoutModel",
          "state": {
            "_model_module": "@jupyter-widgets/base",
            "_model_module_version": "1.2.0",
            "_model_name": "LayoutModel",
            "_view_count": null,
            "_view_module": "@jupyter-widgets/base",
            "_view_module_version": "1.2.0",
            "_view_name": "LayoutView",
            "align_content": null,
            "align_items": null,
            "align_self": null,
            "border": null,
            "bottom": null,
            "display": null,
            "flex": null,
            "flex_flow": null,
            "grid_area": null,
            "grid_auto_columns": null,
            "grid_auto_flow": null,
            "grid_auto_rows": null,
            "grid_column": null,
            "grid_gap": null,
            "grid_row": null,
            "grid_template_areas": null,
            "grid_template_columns": null,
            "grid_template_rows": null,
            "height": null,
            "justify_content": null,
            "justify_items": null,
            "left": null,
            "margin": null,
            "max_height": null,
            "max_width": null,
            "min_height": null,
            "min_width": null,
            "object_fit": null,
            "object_position": null,
            "order": null,
            "overflow": null,
            "overflow_x": null,
            "overflow_y": null,
            "padding": null,
            "right": null,
            "top": null,
            "visibility": null,
            "width": null
          }
        },
        "b7557231d95b45459b369275268143b7": {
          "model_module": "@jupyter-widgets/controls",
          "model_module_version": "1.5.0",
          "model_name": "ProgressStyleModel",
          "state": {
            "_model_module": "@jupyter-widgets/controls",
            "_model_module_version": "1.5.0",
            "_model_name": "ProgressStyleModel",
            "_view_count": null,
            "_view_module": "@jupyter-widgets/base",
            "_view_module_version": "1.2.0",
            "_view_name": "StyleView",
            "bar_color": null,
            "description_width": ""
          }
        },
        "b98e8a8ff1154e49a1dced38559bcc02": {
          "model_module": "@jupyter-widgets/controls",
          "model_module_version": "1.5.0",
          "model_name": "DescriptionStyleModel",
          "state": {
            "_model_module": "@jupyter-widgets/controls",
            "_model_module_version": "1.5.0",
            "_model_name": "DescriptionStyleModel",
            "_view_count": null,
            "_view_module": "@jupyter-widgets/base",
            "_view_module_version": "1.2.0",
            "_view_name": "StyleView",
            "description_width": ""
          }
        },
        "b9cc2c024d164926aba29c19f941936d": {
          "model_module": "@jupyter-widgets/controls",
          "model_module_version": "1.5.0",
          "model_name": "HTMLModel",
          "state": {
            "_dom_classes": [],
            "_model_module": "@jupyter-widgets/controls",
            "_model_module_version": "1.5.0",
            "_model_name": "HTMLModel",
            "_view_count": null,
            "_view_module": "@jupyter-widgets/controls",
            "_view_module_version": "1.5.0",
            "_view_name": "HTMLView",
            "description": "",
            "description_tooltip": null,
            "layout": "IPY_MODEL_23fd6e8b576b46be8b212eb00605d817",
            "placeholder": "​",
            "style": "IPY_MODEL_098eede65b9344719a1c8715c12a1d88",
            "value": "1_Pooling/config.json: 100%"
          }
        },
        "c0a9fbe4642442a0ab676705cd0a2f07": {
          "model_module": "@jupyter-widgets/controls",
          "model_module_version": "1.5.0",
          "model_name": "HTMLModel",
          "state": {
            "_dom_classes": [],
            "_model_module": "@jupyter-widgets/controls",
            "_model_module_version": "1.5.0",
            "_model_name": "HTMLModel",
            "_view_count": null,
            "_view_module": "@jupyter-widgets/controls",
            "_view_module_version": "1.5.0",
            "_view_name": "HTMLView",
            "description": "",
            "description_tooltip": null,
            "layout": "IPY_MODEL_1af321ac05864f37ab4d8e432462348f",
            "placeholder": "​",
            "style": "IPY_MODEL_4848f72fedac4b059fc029979df4caa5",
            "value": " 122/122 [00:00&lt;00:00, 6.60kB/s]"
          }
        },
        "c17e0ddd1872467b9322a13565591f44": {
          "model_module": "@jupyter-widgets/base",
          "model_module_version": "1.2.0",
          "model_name": "LayoutModel",
          "state": {
            "_model_module": "@jupyter-widgets/base",
            "_model_module_version": "1.2.0",
            "_model_name": "LayoutModel",
            "_view_count": null,
            "_view_module": "@jupyter-widgets/base",
            "_view_module_version": "1.2.0",
            "_view_name": "LayoutView",
            "align_content": null,
            "align_items": null,
            "align_self": null,
            "border": null,
            "bottom": null,
            "display": null,
            "flex": null,
            "flex_flow": null,
            "grid_area": null,
            "grid_auto_columns": null,
            "grid_auto_flow": null,
            "grid_auto_rows": null,
            "grid_column": null,
            "grid_gap": null,
            "grid_row": null,
            "grid_template_areas": null,
            "grid_template_columns": null,
            "grid_template_rows": null,
            "height": null,
            "justify_content": null,
            "justify_items": null,
            "left": null,
            "margin": null,
            "max_height": null,
            "max_width": null,
            "min_height": null,
            "min_width": null,
            "object_fit": null,
            "object_position": null,
            "order": null,
            "overflow": null,
            "overflow_x": null,
            "overflow_y": null,
            "padding": null,
            "right": null,
            "top": null,
            "visibility": null,
            "width": null
          }
        },
        "c189e375ed0549739340f008c58d8f0c": {
          "model_module": "@jupyter-widgets/controls",
          "model_module_version": "1.5.0",
          "model_name": "DescriptionStyleModel",
          "state": {
            "_model_module": "@jupyter-widgets/controls",
            "_model_module_version": "1.5.0",
            "_model_name": "DescriptionStyleModel",
            "_view_count": null,
            "_view_module": "@jupyter-widgets/base",
            "_view_module_version": "1.2.0",
            "_view_name": "StyleView",
            "description_width": ""
          }
        },
        "c43424f3824d4c7cb94a71ddb2be809d": {
          "model_module": "@jupyter-widgets/controls",
          "model_module_version": "1.5.0",
          "model_name": "HTMLModel",
          "state": {
            "_dom_classes": [],
            "_model_module": "@jupyter-widgets/controls",
            "_model_module_version": "1.5.0",
            "_model_name": "HTMLModel",
            "_view_count": null,
            "_view_module": "@jupyter-widgets/controls",
            "_view_module_version": "1.5.0",
            "_view_name": "HTMLView",
            "description": "",
            "description_tooltip": null,
            "layout": "IPY_MODEL_f6241a9c5827476bbeba71eab8015d16",
            "placeholder": "​",
            "style": "IPY_MODEL_c189e375ed0549739340f008c58d8f0c",
            "value": " 629/629 [00:00&lt;00:00, 31.3kB/s]"
          }
        },
        "c684b6d541854cb38d65a31eff67b4ec": {
          "model_module": "@jupyter-widgets/base",
          "model_module_version": "1.2.0",
          "model_name": "LayoutModel",
          "state": {
            "_model_module": "@jupyter-widgets/base",
            "_model_module_version": "1.2.0",
            "_model_name": "LayoutModel",
            "_view_count": null,
            "_view_module": "@jupyter-widgets/base",
            "_view_module_version": "1.2.0",
            "_view_name": "LayoutView",
            "align_content": null,
            "align_items": null,
            "align_self": null,
            "border": null,
            "bottom": null,
            "display": null,
            "flex": null,
            "flex_flow": null,
            "grid_area": null,
            "grid_auto_columns": null,
            "grid_auto_flow": null,
            "grid_auto_rows": null,
            "grid_column": null,
            "grid_gap": null,
            "grid_row": null,
            "grid_template_areas": null,
            "grid_template_columns": null,
            "grid_template_rows": null,
            "height": null,
            "justify_content": null,
            "justify_items": null,
            "left": null,
            "margin": null,
            "max_height": null,
            "max_width": null,
            "min_height": null,
            "min_width": null,
            "object_fit": null,
            "object_position": null,
            "order": null,
            "overflow": null,
            "overflow_x": null,
            "overflow_y": null,
            "padding": null,
            "right": null,
            "top": null,
            "visibility": null,
            "width": null
          }
        },
        "c72e8ae2adaa40f08b4805d67dcfc3a5": {
          "model_module": "@jupyter-widgets/base",
          "model_module_version": "1.2.0",
          "model_name": "LayoutModel",
          "state": {
            "_model_module": "@jupyter-widgets/base",
            "_model_module_version": "1.2.0",
            "_model_name": "LayoutModel",
            "_view_count": null,
            "_view_module": "@jupyter-widgets/base",
            "_view_module_version": "1.2.0",
            "_view_name": "LayoutView",
            "align_content": null,
            "align_items": null,
            "align_self": null,
            "border": null,
            "bottom": null,
            "display": null,
            "flex": null,
            "flex_flow": null,
            "grid_area": null,
            "grid_auto_columns": null,
            "grid_auto_flow": null,
            "grid_auto_rows": null,
            "grid_column": null,
            "grid_gap": null,
            "grid_row": null,
            "grid_template_areas": null,
            "grid_template_columns": null,
            "grid_template_rows": null,
            "height": null,
            "justify_content": null,
            "justify_items": null,
            "left": null,
            "margin": null,
            "max_height": null,
            "max_width": null,
            "min_height": null,
            "min_width": null,
            "object_fit": null,
            "object_position": null,
            "order": null,
            "overflow": null,
            "overflow_x": null,
            "overflow_y": null,
            "padding": null,
            "right": null,
            "top": null,
            "visibility": null,
            "width": null
          }
        },
        "c9b742363bb24552a0c03d6105c44a4c": {
          "model_module": "@jupyter-widgets/controls",
          "model_module_version": "1.5.0",
          "model_name": "ProgressStyleModel",
          "state": {
            "_model_module": "@jupyter-widgets/controls",
            "_model_module_version": "1.5.0",
            "_model_name": "ProgressStyleModel",
            "_view_count": null,
            "_view_module": "@jupyter-widgets/base",
            "_view_module_version": "1.2.0",
            "_view_name": "StyleView",
            "bar_color": null,
            "description_width": ""
          }
        },
        "ca65663f35474eb2b7de9b9f0cacd099": {
          "model_module": "@jupyter-widgets/base",
          "model_module_version": "1.2.0",
          "model_name": "LayoutModel",
          "state": {
            "_model_module": "@jupyter-widgets/base",
            "_model_module_version": "1.2.0",
            "_model_name": "LayoutModel",
            "_view_count": null,
            "_view_module": "@jupyter-widgets/base",
            "_view_module_version": "1.2.0",
            "_view_name": "LayoutView",
            "align_content": null,
            "align_items": null,
            "align_self": null,
            "border": null,
            "bottom": null,
            "display": null,
            "flex": null,
            "flex_flow": null,
            "grid_area": null,
            "grid_auto_columns": null,
            "grid_auto_flow": null,
            "grid_auto_rows": null,
            "grid_column": null,
            "grid_gap": null,
            "grid_row": null,
            "grid_template_areas": null,
            "grid_template_columns": null,
            "grid_template_rows": null,
            "height": null,
            "justify_content": null,
            "justify_items": null,
            "left": null,
            "margin": null,
            "max_height": null,
            "max_width": null,
            "min_height": null,
            "min_width": null,
            "object_fit": null,
            "object_position": null,
            "order": null,
            "overflow": null,
            "overflow_x": null,
            "overflow_y": null,
            "padding": null,
            "right": null,
            "top": null,
            "visibility": null,
            "width": null
          }
        },
        "cb08623fd8c742b9890998a311bf65a3": {
          "model_module": "@jupyter-widgets/controls",
          "model_module_version": "1.5.0",
          "model_name": "FloatProgressModel",
          "state": {
            "_dom_classes": [],
            "_model_module": "@jupyter-widgets/controls",
            "_model_module_version": "1.5.0",
            "_model_name": "FloatProgressModel",
            "_view_count": null,
            "_view_module": "@jupyter-widgets/controls",
            "_view_module_version": "1.5.0",
            "_view_name": "ProgressView",
            "bar_style": "success",
            "description": "",
            "description_tooltip": null,
            "layout": "IPY_MODEL_5da1548f14374448bf4184a68177086d",
            "max": 3729,
            "min": 0,
            "orientation": "horizontal",
            "style": "IPY_MODEL_b7557231d95b45459b369275268143b7",
            "value": 3729
          }
        },
        "cb0e65db6edb49369bd03390a8f0e229": {
          "model_module": "@jupyter-widgets/controls",
          "model_module_version": "1.5.0",
          "model_name": "DescriptionStyleModel",
          "state": {
            "_model_module": "@jupyter-widgets/controls",
            "_model_module_version": "1.5.0",
            "_model_name": "DescriptionStyleModel",
            "_view_count": null,
            "_view_module": "@jupyter-widgets/base",
            "_view_module_version": "1.2.0",
            "_view_name": "StyleView",
            "description_width": ""
          }
        },
        "cc93c1e44dda4d55a27c37db95735b63": {
          "model_module": "@jupyter-widgets/controls",
          "model_module_version": "1.5.0",
          "model_name": "HBoxModel",
          "state": {
            "_dom_classes": [],
            "_model_module": "@jupyter-widgets/controls",
            "_model_module_version": "1.5.0",
            "_model_name": "HBoxModel",
            "_view_count": null,
            "_view_module": "@jupyter-widgets/controls",
            "_view_module_version": "1.5.0",
            "_view_name": "HBoxView",
            "box_style": "",
            "children": [
              "IPY_MODEL_2e171d2e5e9b4a5cbd22a1312a0b907b",
              "IPY_MODEL_eaf04d4c4b1d48bd8482f70cd614d7dd",
              "IPY_MODEL_9f3dba1466e2485aa811d9e4a0020cc7"
            ],
            "layout": "IPY_MODEL_f1d085b5056f47158846b5d33eee6968"
          }
        },
        "d0b8cbb4f595476aa09d81fb7d485a06": {
          "model_module": "@jupyter-widgets/base",
          "model_module_version": "1.2.0",
          "model_name": "LayoutModel",
          "state": {
            "_model_module": "@jupyter-widgets/base",
            "_model_module_version": "1.2.0",
            "_model_name": "LayoutModel",
            "_view_count": null,
            "_view_module": "@jupyter-widgets/base",
            "_view_module_version": "1.2.0",
            "_view_name": "LayoutView",
            "align_content": null,
            "align_items": null,
            "align_self": null,
            "border": null,
            "bottom": null,
            "display": null,
            "flex": null,
            "flex_flow": null,
            "grid_area": null,
            "grid_auto_columns": null,
            "grid_auto_flow": null,
            "grid_auto_rows": null,
            "grid_column": null,
            "grid_gap": null,
            "grid_row": null,
            "grid_template_areas": null,
            "grid_template_columns": null,
            "grid_template_rows": null,
            "height": null,
            "justify_content": null,
            "justify_items": null,
            "left": null,
            "margin": null,
            "max_height": null,
            "max_width": null,
            "min_height": null,
            "min_width": null,
            "object_fit": null,
            "object_position": null,
            "order": null,
            "overflow": null,
            "overflow_x": null,
            "overflow_y": null,
            "padding": null,
            "right": null,
            "top": null,
            "visibility": null,
            "width": null
          }
        },
        "d1169cfc635942f685a2b8c7434591bb": {
          "model_module": "@jupyter-widgets/controls",
          "model_module_version": "1.5.0",
          "model_name": "DescriptionStyleModel",
          "state": {
            "_model_module": "@jupyter-widgets/controls",
            "_model_module_version": "1.5.0",
            "_model_name": "DescriptionStyleModel",
            "_view_count": null,
            "_view_module": "@jupyter-widgets/base",
            "_view_module_version": "1.2.0",
            "_view_name": "StyleView",
            "description_width": ""
          }
        },
        "d165da89269449849baf3c0b1c6f04f4": {
          "model_module": "@jupyter-widgets/controls",
          "model_module_version": "1.5.0",
          "model_name": "DescriptionStyleModel",
          "state": {
            "_model_module": "@jupyter-widgets/controls",
            "_model_module_version": "1.5.0",
            "_model_name": "DescriptionStyleModel",
            "_view_count": null,
            "_view_module": "@jupyter-widgets/base",
            "_view_module_version": "1.2.0",
            "_view_name": "StyleView",
            "description_width": ""
          }
        },
        "d28b0649ee7e4beda6a0acd02cddea38": {
          "model_module": "@jupyter-widgets/controls",
          "model_module_version": "1.5.0",
          "model_name": "HBoxModel",
          "state": {
            "_dom_classes": [],
            "_model_module": "@jupyter-widgets/controls",
            "_model_module_version": "1.5.0",
            "_model_name": "HBoxModel",
            "_view_count": null,
            "_view_module": "@jupyter-widgets/controls",
            "_view_module_version": "1.5.0",
            "_view_name": "HBoxView",
            "box_style": "",
            "children": [
              "IPY_MODEL_3e18a7a99bd54cbd8dc9f08c2859f929",
              "IPY_MODEL_5c8169e29a85472cb003df787795d50a",
              "IPY_MODEL_1a81f2415b5b448b9bef3f3928b5c2d5"
            ],
            "layout": "IPY_MODEL_54e1fb8a21bc4fba90a835b6814540ba"
          }
        },
        "d59fd81d203c4502ae9d41d1907edc51": {
          "model_module": "@jupyter-widgets/controls",
          "model_module_version": "1.5.0",
          "model_name": "HBoxModel",
          "state": {
            "_dom_classes": [],
            "_model_module": "@jupyter-widgets/controls",
            "_model_module_version": "1.5.0",
            "_model_name": "HBoxModel",
            "_view_count": null,
            "_view_module": "@jupyter-widgets/controls",
            "_view_module_version": "1.5.0",
            "_view_name": "HBoxView",
            "box_style": "",
            "children": [
              "IPY_MODEL_47da83e16ba04cb3850be85d9018db75",
              "IPY_MODEL_32adb148b5f84675bb2ad80cda0cd3d9",
              "IPY_MODEL_49e768abb29949379ac9742d9c75ef5b"
            ],
            "layout": "IPY_MODEL_b0bbd1da42004858b889065a877efe67"
          }
        },
        "d78256e8723d485db477f91fa17ef668": {
          "model_module": "@jupyter-widgets/controls",
          "model_module_version": "1.5.0",
          "model_name": "HTMLModel",
          "state": {
            "_dom_classes": [],
            "_model_module": "@jupyter-widgets/controls",
            "_model_module_version": "1.5.0",
            "_model_name": "HTMLModel",
            "_view_count": null,
            "_view_module": "@jupyter-widgets/controls",
            "_view_module_version": "1.5.0",
            "_view_name": "HTMLView",
            "description": "",
            "description_tooltip": null,
            "layout": "IPY_MODEL_4c32cee8a80746ef87ea0718e6fa342f",
            "placeholder": "​",
            "style": "IPY_MODEL_ada3371b46a545dab60dd8df2c04061b",
            "value": "modules.json: 100%"
          }
        },
        "db2a1429637843c39250e54a4074e63a": {
          "model_module": "@jupyter-widgets/controls",
          "model_module_version": "1.5.0",
          "model_name": "ProgressStyleModel",
          "state": {
            "_model_module": "@jupyter-widgets/controls",
            "_model_module_version": "1.5.0",
            "_model_name": "ProgressStyleModel",
            "_view_count": null,
            "_view_module": "@jupyter-widgets/base",
            "_view_module_version": "1.2.0",
            "_view_name": "StyleView",
            "bar_color": null,
            "description_width": ""
          }
        },
        "dbedfa1e643b4da2849c6a442fb75216": {
          "model_module": "@jupyter-widgets/controls",
          "model_module_version": "1.5.0",
          "model_name": "DescriptionStyleModel",
          "state": {
            "_model_module": "@jupyter-widgets/controls",
            "_model_module_version": "1.5.0",
            "_model_name": "DescriptionStyleModel",
            "_view_count": null,
            "_view_module": "@jupyter-widgets/base",
            "_view_module_version": "1.2.0",
            "_view_name": "StyleView",
            "description_width": ""
          }
        },
        "deeec10b76dc4b5b965498c954a73c28": {
          "model_module": "@jupyter-widgets/base",
          "model_module_version": "1.2.0",
          "model_name": "LayoutModel",
          "state": {
            "_model_module": "@jupyter-widgets/base",
            "_model_module_version": "1.2.0",
            "_model_name": "LayoutModel",
            "_view_count": null,
            "_view_module": "@jupyter-widgets/base",
            "_view_module_version": "1.2.0",
            "_view_name": "LayoutView",
            "align_content": null,
            "align_items": null,
            "align_self": null,
            "border": null,
            "bottom": null,
            "display": null,
            "flex": null,
            "flex_flow": null,
            "grid_area": null,
            "grid_auto_columns": null,
            "grid_auto_flow": null,
            "grid_auto_rows": null,
            "grid_column": null,
            "grid_gap": null,
            "grid_row": null,
            "grid_template_areas": null,
            "grid_template_columns": null,
            "grid_template_rows": null,
            "height": null,
            "justify_content": null,
            "justify_items": null,
            "left": null,
            "margin": null,
            "max_height": null,
            "max_width": null,
            "min_height": null,
            "min_width": null,
            "object_fit": null,
            "object_position": null,
            "order": null,
            "overflow": null,
            "overflow_x": null,
            "overflow_y": null,
            "padding": null,
            "right": null,
            "top": null,
            "visibility": null,
            "width": null
          }
        },
        "df6fba0536b8497b8bc94854c36581d7": {
          "model_module": "@jupyter-widgets/controls",
          "model_module_version": "1.5.0",
          "model_name": "DescriptionStyleModel",
          "state": {
            "_model_module": "@jupyter-widgets/controls",
            "_model_module_version": "1.5.0",
            "_model_name": "DescriptionStyleModel",
            "_view_count": null,
            "_view_module": "@jupyter-widgets/base",
            "_view_module_version": "1.2.0",
            "_view_name": "StyleView",
            "description_width": ""
          }
        },
        "e32f96ffbd624e1fb4b427d20005f20e": {
          "model_module": "@jupyter-widgets/controls",
          "model_module_version": "1.5.0",
          "model_name": "DescriptionStyleModel",
          "state": {
            "_model_module": "@jupyter-widgets/controls",
            "_model_module_version": "1.5.0",
            "_model_name": "DescriptionStyleModel",
            "_view_count": null,
            "_view_module": "@jupyter-widgets/base",
            "_view_module_version": "1.2.0",
            "_view_name": "StyleView",
            "description_width": ""
          }
        },
        "e5485f6f425447a3949627a5821af3da": {
          "model_module": "@jupyter-widgets/base",
          "model_module_version": "1.2.0",
          "model_name": "LayoutModel",
          "state": {
            "_model_module": "@jupyter-widgets/base",
            "_model_module_version": "1.2.0",
            "_model_name": "LayoutModel",
            "_view_count": null,
            "_view_module": "@jupyter-widgets/base",
            "_view_module_version": "1.2.0",
            "_view_name": "LayoutView",
            "align_content": null,
            "align_items": null,
            "align_self": null,
            "border": null,
            "bottom": null,
            "display": null,
            "flex": null,
            "flex_flow": null,
            "grid_area": null,
            "grid_auto_columns": null,
            "grid_auto_flow": null,
            "grid_auto_rows": null,
            "grid_column": null,
            "grid_gap": null,
            "grid_row": null,
            "grid_template_areas": null,
            "grid_template_columns": null,
            "grid_template_rows": null,
            "height": null,
            "justify_content": null,
            "justify_items": null,
            "left": null,
            "margin": null,
            "max_height": null,
            "max_width": null,
            "min_height": null,
            "min_width": null,
            "object_fit": null,
            "object_position": null,
            "order": null,
            "overflow": null,
            "overflow_x": null,
            "overflow_y": null,
            "padding": null,
            "right": null,
            "top": null,
            "visibility": null,
            "width": null
          }
        },
        "e88f14af3b724591a1494939891de0fd": {
          "model_module": "@jupyter-widgets/base",
          "model_module_version": "1.2.0",
          "model_name": "LayoutModel",
          "state": {
            "_model_module": "@jupyter-widgets/base",
            "_model_module_version": "1.2.0",
            "_model_name": "LayoutModel",
            "_view_count": null,
            "_view_module": "@jupyter-widgets/base",
            "_view_module_version": "1.2.0",
            "_view_name": "LayoutView",
            "align_content": null,
            "align_items": null,
            "align_self": null,
            "border": null,
            "bottom": null,
            "display": null,
            "flex": null,
            "flex_flow": null,
            "grid_area": null,
            "grid_auto_columns": null,
            "grid_auto_flow": null,
            "grid_auto_rows": null,
            "grid_column": null,
            "grid_gap": null,
            "grid_row": null,
            "grid_template_areas": null,
            "grid_template_columns": null,
            "grid_template_rows": null,
            "height": null,
            "justify_content": null,
            "justify_items": null,
            "left": null,
            "margin": null,
            "max_height": null,
            "max_width": null,
            "min_height": null,
            "min_width": null,
            "object_fit": null,
            "object_position": null,
            "order": null,
            "overflow": null,
            "overflow_x": null,
            "overflow_y": null,
            "padding": null,
            "right": null,
            "top": null,
            "visibility": null,
            "width": null
          }
        },
        "e9d67f5024da4c2fa80efd5d6e17a89a": {
          "model_module": "@jupyter-widgets/base",
          "model_module_version": "1.2.0",
          "model_name": "LayoutModel",
          "state": {
            "_model_module": "@jupyter-widgets/base",
            "_model_module_version": "1.2.0",
            "_model_name": "LayoutModel",
            "_view_count": null,
            "_view_module": "@jupyter-widgets/base",
            "_view_module_version": "1.2.0",
            "_view_name": "LayoutView",
            "align_content": null,
            "align_items": null,
            "align_self": null,
            "border": null,
            "bottom": null,
            "display": null,
            "flex": null,
            "flex_flow": null,
            "grid_area": null,
            "grid_auto_columns": null,
            "grid_auto_flow": null,
            "grid_auto_rows": null,
            "grid_column": null,
            "grid_gap": null,
            "grid_row": null,
            "grid_template_areas": null,
            "grid_template_columns": null,
            "grid_template_rows": null,
            "height": null,
            "justify_content": null,
            "justify_items": null,
            "left": null,
            "margin": null,
            "max_height": null,
            "max_width": null,
            "min_height": null,
            "min_width": null,
            "object_fit": null,
            "object_position": null,
            "order": null,
            "overflow": null,
            "overflow_x": null,
            "overflow_y": null,
            "padding": null,
            "right": null,
            "top": null,
            "visibility": null,
            "width": null
          }
        },
        "ea276b0d336a41b9914de6706b420ed6": {
          "model_module": "@jupyter-widgets/base",
          "model_module_version": "1.2.0",
          "model_name": "LayoutModel",
          "state": {
            "_model_module": "@jupyter-widgets/base",
            "_model_module_version": "1.2.0",
            "_model_name": "LayoutModel",
            "_view_count": null,
            "_view_module": "@jupyter-widgets/base",
            "_view_module_version": "1.2.0",
            "_view_name": "LayoutView",
            "align_content": null,
            "align_items": null,
            "align_self": null,
            "border": null,
            "bottom": null,
            "display": null,
            "flex": null,
            "flex_flow": null,
            "grid_area": null,
            "grid_auto_columns": null,
            "grid_auto_flow": null,
            "grid_auto_rows": null,
            "grid_column": null,
            "grid_gap": null,
            "grid_row": null,
            "grid_template_areas": null,
            "grid_template_columns": null,
            "grid_template_rows": null,
            "height": null,
            "justify_content": null,
            "justify_items": null,
            "left": null,
            "margin": null,
            "max_height": null,
            "max_width": null,
            "min_height": null,
            "min_width": null,
            "object_fit": null,
            "object_position": null,
            "order": null,
            "overflow": null,
            "overflow_x": null,
            "overflow_y": null,
            "padding": null,
            "right": null,
            "top": null,
            "visibility": null,
            "width": null
          }
        },
        "eaf04d4c4b1d48bd8482f70cd614d7dd": {
          "model_module": "@jupyter-widgets/controls",
          "model_module_version": "1.5.0",
          "model_name": "FloatProgressModel",
          "state": {
            "_dom_classes": [],
            "_model_module": "@jupyter-widgets/controls",
            "_model_module_version": "1.5.0",
            "_model_name": "FloatProgressModel",
            "_view_count": null,
            "_view_module": "@jupyter-widgets/controls",
            "_view_module_version": "1.5.0",
            "_view_name": "ProgressView",
            "bar_style": "success",
            "description": "",
            "description_tooltip": null,
            "layout": "IPY_MODEL_a0d7284577f84344bc8984496f134421",
            "max": 53,
            "min": 0,
            "orientation": "horizontal",
            "style": "IPY_MODEL_53d7ef1548d04771a65e825fb0814f22",
            "value": 53
          }
        },
        "ed2947184d7046f7b52a631765a10945": {
          "model_module": "@jupyter-widgets/base",
          "model_module_version": "1.2.0",
          "model_name": "LayoutModel",
          "state": {
            "_model_module": "@jupyter-widgets/base",
            "_model_module_version": "1.2.0",
            "_model_name": "LayoutModel",
            "_view_count": null,
            "_view_module": "@jupyter-widgets/base",
            "_view_module_version": "1.2.0",
            "_view_name": "LayoutView",
            "align_content": null,
            "align_items": null,
            "align_self": null,
            "border": null,
            "bottom": null,
            "display": null,
            "flex": null,
            "flex_flow": null,
            "grid_area": null,
            "grid_auto_columns": null,
            "grid_auto_flow": null,
            "grid_auto_rows": null,
            "grid_column": null,
            "grid_gap": null,
            "grid_row": null,
            "grid_template_areas": null,
            "grid_template_columns": null,
            "grid_template_rows": null,
            "height": null,
            "justify_content": null,
            "justify_items": null,
            "left": null,
            "margin": null,
            "max_height": null,
            "max_width": null,
            "min_height": null,
            "min_width": null,
            "object_fit": null,
            "object_position": null,
            "order": null,
            "overflow": null,
            "overflow_x": null,
            "overflow_y": null,
            "padding": null,
            "right": null,
            "top": null,
            "visibility": null,
            "width": null
          }
        },
        "f1d085b5056f47158846b5d33eee6968": {
          "model_module": "@jupyter-widgets/base",
          "model_module_version": "1.2.0",
          "model_name": "LayoutModel",
          "state": {
            "_model_module": "@jupyter-widgets/base",
            "_model_module_version": "1.2.0",
            "_model_name": "LayoutModel",
            "_view_count": null,
            "_view_module": "@jupyter-widgets/base",
            "_view_module_version": "1.2.0",
            "_view_name": "LayoutView",
            "align_content": null,
            "align_items": null,
            "align_self": null,
            "border": null,
            "bottom": null,
            "display": null,
            "flex": null,
            "flex_flow": null,
            "grid_area": null,
            "grid_auto_columns": null,
            "grid_auto_flow": null,
            "grid_auto_rows": null,
            "grid_column": null,
            "grid_gap": null,
            "grid_row": null,
            "grid_template_areas": null,
            "grid_template_columns": null,
            "grid_template_rows": null,
            "height": null,
            "justify_content": null,
            "justify_items": null,
            "left": null,
            "margin": null,
            "max_height": null,
            "max_width": null,
            "min_height": null,
            "min_width": null,
            "object_fit": null,
            "object_position": null,
            "order": null,
            "overflow": null,
            "overflow_x": null,
            "overflow_y": null,
            "padding": null,
            "right": null,
            "top": null,
            "visibility": null,
            "width": null
          }
        },
        "f1efc4efeb944bd2aee43b8385e92bde": {
          "model_module": "@jupyter-widgets/controls",
          "model_module_version": "1.5.0",
          "model_name": "DescriptionStyleModel",
          "state": {
            "_model_module": "@jupyter-widgets/controls",
            "_model_module_version": "1.5.0",
            "_model_name": "DescriptionStyleModel",
            "_view_count": null,
            "_view_module": "@jupyter-widgets/base",
            "_view_module_version": "1.2.0",
            "_view_name": "StyleView",
            "description_width": ""
          }
        },
        "f21e360b577b46e09d79c7b0222e2a84": {
          "model_module": "@jupyter-widgets/controls",
          "model_module_version": "1.5.0",
          "model_name": "FloatProgressModel",
          "state": {
            "_dom_classes": [],
            "_model_module": "@jupyter-widgets/controls",
            "_model_module_version": "1.5.0",
            "_model_name": "FloatProgressModel",
            "_view_count": null,
            "_view_module": "@jupyter-widgets/controls",
            "_view_module_version": "1.5.0",
            "_view_name": "ProgressView",
            "bar_style": "success",
            "description": "",
            "description_tooltip": null,
            "layout": "IPY_MODEL_a96a6824a9894d62b22480cecb80a86c",
            "max": 629,
            "min": 0,
            "orientation": "horizontal",
            "style": "IPY_MODEL_c9b742363bb24552a0c03d6105c44a4c",
            "value": 629
          }
        },
        "f5cde4f751af485d80bdfa1a6bed4f78": {
          "model_module": "@jupyter-widgets/base",
          "model_module_version": "1.2.0",
          "model_name": "LayoutModel",
          "state": {
            "_model_module": "@jupyter-widgets/base",
            "_model_module_version": "1.2.0",
            "_model_name": "LayoutModel",
            "_view_count": null,
            "_view_module": "@jupyter-widgets/base",
            "_view_module_version": "1.2.0",
            "_view_name": "LayoutView",
            "align_content": null,
            "align_items": null,
            "align_self": null,
            "border": null,
            "bottom": null,
            "display": null,
            "flex": null,
            "flex_flow": null,
            "grid_area": null,
            "grid_auto_columns": null,
            "grid_auto_flow": null,
            "grid_auto_rows": null,
            "grid_column": null,
            "grid_gap": null,
            "grid_row": null,
            "grid_template_areas": null,
            "grid_template_columns": null,
            "grid_template_rows": null,
            "height": null,
            "justify_content": null,
            "justify_items": null,
            "left": null,
            "margin": null,
            "max_height": null,
            "max_width": null,
            "min_height": null,
            "min_width": null,
            "object_fit": null,
            "object_position": null,
            "order": null,
            "overflow": null,
            "overflow_x": null,
            "overflow_y": null,
            "padding": null,
            "right": null,
            "top": null,
            "visibility": null,
            "width": null
          }
        },
        "f6241a9c5827476bbeba71eab8015d16": {
          "model_module": "@jupyter-widgets/base",
          "model_module_version": "1.2.0",
          "model_name": "LayoutModel",
          "state": {
            "_model_module": "@jupyter-widgets/base",
            "_model_module_version": "1.2.0",
            "_model_name": "LayoutModel",
            "_view_count": null,
            "_view_module": "@jupyter-widgets/base",
            "_view_module_version": "1.2.0",
            "_view_name": "LayoutView",
            "align_content": null,
            "align_items": null,
            "align_self": null,
            "border": null,
            "bottom": null,
            "display": null,
            "flex": null,
            "flex_flow": null,
            "grid_area": null,
            "grid_auto_columns": null,
            "grid_auto_flow": null,
            "grid_auto_rows": null,
            "grid_column": null,
            "grid_gap": null,
            "grid_row": null,
            "grid_template_areas": null,
            "grid_template_columns": null,
            "grid_template_rows": null,
            "height": null,
            "justify_content": null,
            "justify_items": null,
            "left": null,
            "margin": null,
            "max_height": null,
            "max_width": null,
            "min_height": null,
            "min_width": null,
            "object_fit": null,
            "object_position": null,
            "order": null,
            "overflow": null,
            "overflow_x": null,
            "overflow_y": null,
            "padding": null,
            "right": null,
            "top": null,
            "visibility": null,
            "width": null
          }
        },
        "f82b76d2b1a646c4b64db0bfa04a9ff7": {
          "model_module": "@jupyter-widgets/controls",
          "model_module_version": "1.5.0",
          "model_name": "HBoxModel",
          "state": {
            "_dom_classes": [],
            "_model_module": "@jupyter-widgets/controls",
            "_model_module_version": "1.5.0",
            "_model_name": "HBoxModel",
            "_view_count": null,
            "_view_module": "@jupyter-widgets/controls",
            "_view_module_version": "1.5.0",
            "_view_name": "HBoxView",
            "box_style": "",
            "children": [
              "IPY_MODEL_6668620eda0140d59d746b35de15ff02",
              "IPY_MODEL_933f4d6ecd6a477f9e952e0572ada930",
              "IPY_MODEL_673bfc566bb44971b261af24f27deea8"
            ],
            "layout": "IPY_MODEL_6d51edd93e514f63b964ebb46e375ac3"
          }
        },
        "f94abc08ac2444988e6a194171f81abd": {
          "model_module": "@jupyter-widgets/base",
          "model_module_version": "1.2.0",
          "model_name": "LayoutModel",
          "state": {
            "_model_module": "@jupyter-widgets/base",
            "_model_module_version": "1.2.0",
            "_model_name": "LayoutModel",
            "_view_count": null,
            "_view_module": "@jupyter-widgets/base",
            "_view_module_version": "1.2.0",
            "_view_name": "LayoutView",
            "align_content": null,
            "align_items": null,
            "align_self": null,
            "border": null,
            "bottom": null,
            "display": null,
            "flex": null,
            "flex_flow": null,
            "grid_area": null,
            "grid_auto_columns": null,
            "grid_auto_flow": null,
            "grid_auto_rows": null,
            "grid_column": null,
            "grid_gap": null,
            "grid_row": null,
            "grid_template_areas": null,
            "grid_template_columns": null,
            "grid_template_rows": null,
            "height": null,
            "justify_content": null,
            "justify_items": null,
            "left": null,
            "margin": null,
            "max_height": null,
            "max_width": null,
            "min_height": null,
            "min_width": null,
            "object_fit": null,
            "object_position": null,
            "order": null,
            "overflow": null,
            "overflow_x": null,
            "overflow_y": null,
            "padding": null,
            "right": null,
            "top": null,
            "visibility": null,
            "width": null
          }
        }
      }
    }
  },
  "nbformat": 4,
  "nbformat_minor": 0
}
